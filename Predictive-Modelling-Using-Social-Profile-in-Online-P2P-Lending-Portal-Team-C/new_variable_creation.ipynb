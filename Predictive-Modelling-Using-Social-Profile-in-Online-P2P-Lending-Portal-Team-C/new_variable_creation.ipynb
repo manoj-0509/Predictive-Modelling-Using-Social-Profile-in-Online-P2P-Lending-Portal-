{
  "nbformat": 4,
  "nbformat_minor": 0,
  "metadata": {
    "colab": {
      "provenance": []
    },
    "kernelspec": {
      "name": "python3",
      "display_name": "Python 3"
    },
    "language_info": {
      "name": "python"
    }
  },
  "cells": [
    {
      "cell_type": "code",
      "execution_count": 1,
      "metadata": {
        "id": "Fypq_9g7te0N"
      },
      "outputs": [],
      "source": [
        "import pandas as pd\n",
        "import numpy as np\n",
        "import seaborn as sns\n",
        "import matplotlib.pyplot as plt\n",
        "from matplotlib.pyplot import figure\n",
        "from sklearn.preprocessing import LabelEncoder"
      ]
    },
    {
      "cell_type": "code",
      "execution_count": 20,
      "metadata": {
        "colab": {
          "base_uri": "https://localhost:8080/"
        },
        "id": "mAKJW_ybtRwD",
        "outputId": "94a0909d-36aa-4d77-9fbd-a520fefb2037"
      },
      "outputs": [
        {
          "output_type": "stream",
          "name": "stdout",
          "text": [
            "Drive already mounted at /content/drive; to attempt to forcibly remount, call drive.mount(\"/content/drive\", force_remount=True).\n"
          ]
        }
      ],
      "source": [
        "from google.colab import drive\n",
        "drive.mount('/content/drive')\n",
        "path = '/content/drive/MyDrive/technocolabs_prosper/prosperLoanData.csv'"
      ]
    },
    {
      "cell_type": "code",
      "execution_count": 21,
      "metadata": {
        "id": "5cx8l-PNtcWq"
      },
      "outputs": [],
      "source": [
        "df = pd.read_csv(path)"
      ]
    },
    {
      "cell_type": "code",
      "source": [
        "df['ListingKey'].nunique()"
      ],
      "metadata": {
        "colab": {
          "base_uri": "https://localhost:8080/"
        },
        "id": "IyKIYtbEUeq9",
        "outputId": "02149415-30c4-464d-cb9d-5f2c7e36e5e9"
      },
      "execution_count": 22,
      "outputs": [
        {
          "output_type": "execute_result",
          "data": {
            "text/plain": [
              "113066"
            ]
          },
          "metadata": {},
          "execution_count": 22
        }
      ]
    },
    {
      "cell_type": "code",
      "source": [
        "df['ListingNumber'].nunique()"
      ],
      "metadata": {
        "colab": {
          "base_uri": "https://localhost:8080/"
        },
        "id": "NcJG_E8nUaJy",
        "outputId": "5ed5a447-7580-45fd-faf6-a5099e8669cd"
      },
      "execution_count": 23,
      "outputs": [
        {
          "output_type": "execute_result",
          "data": {
            "text/plain": [
              "113066"
            ]
          },
          "metadata": {},
          "execution_count": 23
        }
      ]
    },
    {
      "cell_type": "code",
      "source": [
        "df['LoanKey'].nunique()"
      ],
      "metadata": {
        "colab": {
          "base_uri": "https://localhost:8080/"
        },
        "id": "6vGPRVX-UaAj",
        "outputId": "ca555ba3-ab5e-4f51-ede5-69bc150910c1"
      },
      "execution_count": 24,
      "outputs": [
        {
          "output_type": "execute_result",
          "data": {
            "text/plain": [
              "113066"
            ]
          },
          "metadata": {},
          "execution_count": 24
        }
      ]
    },
    {
      "cell_type": "code",
      "source": [
        "df['LoanNumber'].nunique()"
      ],
      "metadata": {
        "colab": {
          "base_uri": "https://localhost:8080/"
        },
        "id": "lcStN2HJUZ4z",
        "outputId": "df119939-a639-4321-d79c-3437aeac316f"
      },
      "execution_count": 25,
      "outputs": [
        {
          "output_type": "execute_result",
          "data": {
            "text/plain": [
              "113066"
            ]
          },
          "metadata": {},
          "execution_count": 25
        }
      ]
    },
    {
      "cell_type": "code",
      "source": [
        "df['MemberKey'].nunique()"
      ],
      "metadata": {
        "colab": {
          "base_uri": "https://localhost:8080/"
        },
        "id": "Msedb1K9TtKt",
        "outputId": "8236ee33-7473-4b55-be95-d64f0f3aa819"
      },
      "execution_count": 26,
      "outputs": [
        {
          "output_type": "execute_result",
          "data": {
            "text/plain": [
              "90831"
            ]
          },
          "metadata": {},
          "execution_count": 26
        }
      ]
    },
    {
      "cell_type": "markdown",
      "source": [
        "#dropping duplicates"
      ],
      "metadata": {
        "id": "rr98eXvoUoft"
      }
    },
    {
      "cell_type": "code",
      "source": [
        "df.drop_duplicates(subset = 'ListingKey', inplace = True)\n",
        "df.drop_duplicates(subset = 'ListingNumber', inplace = True)\n",
        "df.drop_duplicates(subset = 'LoanKey', inplace = True)\n",
        "df.drop_duplicates(subset = 'LoanNumber', inplace = True)\n",
        "df.drop_duplicates(subset = 'MemberKey', inplace = True)"
      ],
      "metadata": {
        "id": "9nkVQ3FrUOeN"
      },
      "execution_count": 33,
      "outputs": []
    },
    {
      "cell_type": "code",
      "source": [
        "df['ListingKey'].nunique()"
      ],
      "metadata": {
        "colab": {
          "base_uri": "https://localhost:8080/"
        },
        "outputId": "d367d094-0217-42c9-a9ca-495d07c33802",
        "id": "Jef3OCmnUk4u"
      },
      "execution_count": 34,
      "outputs": [
        {
          "output_type": "execute_result",
          "data": {
            "text/plain": [
              "90831"
            ]
          },
          "metadata": {},
          "execution_count": 34
        }
      ]
    },
    {
      "cell_type": "code",
      "source": [
        "df['ListingNumber'].nunique()"
      ],
      "metadata": {
        "colab": {
          "base_uri": "https://localhost:8080/"
        },
        "outputId": "f468ec10-3202-40c9-bfe4-52fccc96f6b2",
        "id": "XKhUKMkXUk4v"
      },
      "execution_count": 35,
      "outputs": [
        {
          "output_type": "execute_result",
          "data": {
            "text/plain": [
              "90831"
            ]
          },
          "metadata": {},
          "execution_count": 35
        }
      ]
    },
    {
      "cell_type": "code",
      "source": [
        "df['LoanKey'].nunique()"
      ],
      "metadata": {
        "colab": {
          "base_uri": "https://localhost:8080/"
        },
        "outputId": "d3fe2a25-3bc8-4d41-8de8-88518dd624e0",
        "id": "_tzFAGg5Uk4w"
      },
      "execution_count": 36,
      "outputs": [
        {
          "output_type": "execute_result",
          "data": {
            "text/plain": [
              "90831"
            ]
          },
          "metadata": {},
          "execution_count": 36
        }
      ]
    },
    {
      "cell_type": "code",
      "source": [
        "df['LoanNumber'].nunique()"
      ],
      "metadata": {
        "colab": {
          "base_uri": "https://localhost:8080/"
        },
        "outputId": "24f32b70-fb42-4e1b-b791-9cbe224eeaf9",
        "id": "OntE-ZgLUk4y"
      },
      "execution_count": 37,
      "outputs": [
        {
          "output_type": "execute_result",
          "data": {
            "text/plain": [
              "90831"
            ]
          },
          "metadata": {},
          "execution_count": 37
        }
      ]
    },
    {
      "cell_type": "code",
      "source": [
        "df['MemberKey'].nunique()"
      ],
      "metadata": {
        "colab": {
          "base_uri": "https://localhost:8080/"
        },
        "outputId": "af9e4b9c-42f9-43c9-aadc-39735528bb64",
        "id": "SvludVpkUk4z"
      },
      "execution_count": 38,
      "outputs": [
        {
          "output_type": "execute_result",
          "data": {
            "text/plain": [
              "90831"
            ]
          },
          "metadata": {},
          "execution_count": 38
        }
      ]
    },
    {
      "cell_type": "code",
      "source": [],
      "metadata": {
        "id": "lXWt1Kp0UmRM"
      },
      "execution_count": null,
      "outputs": []
    },
    {
      "cell_type": "code",
      "source": [
        "df['LoanStatus'] = df['LoanStatus'].replace(['Chargedoff',\n",
        " 'Past Due (>120 days)'], ['Defaulted','Defaulted'])"
      ],
      "metadata": {
        "id": "cyzsmifHvtGQ"
      },
      "execution_count": 39,
      "outputs": []
    },
    {
      "cell_type": "code",
      "source": [
        "df['LoanStatus'] = df['LoanStatus'].replace(['Completed' , 'Past Due (1-15 days)', \n",
        "       'Past Due (16-30 days)', 'Past Due (61-90 days)',\n",
        "       'Past Due (31-60 days)', 'Past Due (91-120 days)','Cancelled'],\n",
        "       ['Non-Defaulted','Non-Defaulted','Non-Defaulted',\n",
        "       'Non-Defaulted','Non-Defaulted','Non-Defaulted','Non-Defaulted',])"
      ],
      "metadata": {
        "id": "PM-_Surcv2qh"
      },
      "execution_count": 40,
      "outputs": []
    },
    {
      "cell_type": "code",
      "source": [
        "non_null_ind = []\n",
        "for i in df['ClosedDate']:\n",
        "    if pd.isnull(i):\n",
        "        continue\n",
        "    else:\n",
        "      non_null_ind.append(df[df['ClosedDate']==i].index )"
      ],
      "metadata": {
        "id": "GX6lrwjnv-jh"
      },
      "execution_count": 41,
      "outputs": []
    },
    {
      "cell_type": "code",
      "source": [
        "for i in non_null_ind:\n",
        "  df.loc[i,'LoanStatus']='Non-Defaulted'"
      ],
      "metadata": {
        "id": "1a_uK5aQwNKw"
      },
      "execution_count": 42,
      "outputs": []
    },
    {
      "cell_type": "code",
      "source": [
        "non_deliquent_ind = []\n",
        "for i in df['LoanCurrentDaysDelinquent']:\n",
        "    if i>=180:\n",
        "      non_deliquent_ind.append(df[df['LoanCurrentDaysDelinquent']==i].index )"
      ],
      "metadata": {
        "id": "KcEwYbYcwOkP"
      },
      "execution_count": 43,
      "outputs": []
    },
    {
      "cell_type": "code",
      "source": [
        "for i in non_deliquent_ind:\n",
        "  df.loc[i,'LoanStatus']='Defaulted'"
      ],
      "metadata": {
        "id": "IluTnBQewVo1"
      },
      "execution_count": 44,
      "outputs": []
    },
    {
      "cell_type": "code",
      "execution_count": 45,
      "metadata": {
        "id": "sk8dHDHip655"
      },
      "outputs": [],
      "source": [
        "df.drop(df[df['LoanStatus'] =='Current'].index,inplace=True)"
      ]
    },
    {
      "cell_type": "code",
      "source": [
        "df['LoanStatus'] = df['LoanStatus'].replace([ 'FinalPaymentInProgress'], ['Non-Defaulted'])"
      ],
      "metadata": {
        "id": "wjMz9RHjwWOZ"
      },
      "execution_count": 46,
      "outputs": []
    },
    {
      "cell_type": "code",
      "execution_count": 47,
      "metadata": {
        "id": "3IoC2HtaLByQ"
      },
      "outputs": [],
      "source": [
        "category_cols = df.select_dtypes(include=['category','object']).columns\n",
        "# df[category_cols] = df[category_cols].fillna(df[category_cols].mode().iloc[0])\n",
        "\n",
        "numeric_cols = df.select_dtypes(include=['float64', 'int64']).columns\n",
        "# df[numeric_cols] = df[numeric_cols].fillna(df[numeric_cols].median())"
      ]
    },
    {
      "cell_type": "code",
      "execution_count": 48,
      "metadata": {
        "id": "DeWn2oJPkh4o"
      },
      "outputs": [],
      "source": [
        "# importing sklearn\n",
        "import sklearn\n",
        "# importing simpleimputer\n",
        "from sklearn.impute import SimpleImputer"
      ]
    },
    {
      "cell_type": "code",
      "execution_count": 49,
      "metadata": {
        "id": "wqw6sDQ4kgAm"
      },
      "outputs": [],
      "source": [
        "#numeric columns\n",
        "imputer = SimpleImputer(missing_values=np.nan, strategy='most_frequent')\n",
        "imputer.fit(df[category_cols])\n",
        "df[category_cols]= imputer.fit_transform(df[category_cols])\n",
        "#categorical columns\n",
        "\n",
        "imputer = SimpleImputer(missing_values=np.nan, strategy='mean')\n",
        "imputer.fit(df[numeric_cols])\n",
        "df[numeric_cols]= imputer.fit_transform(df[numeric_cols])"
      ]
    },
    {
      "cell_type": "markdown",
      "source": [
        "#1.Expected ROI"
      ],
      "metadata": {
        "id": "joSXAk60XMOk"
      }
    },
    {
      "cell_type": "markdown",
      "source": [
        "Expected ROI= (Estimated Effective Yield - Estimated Loss) / LoanOriginalAmount)"
      ],
      "metadata": {
        "id": "vTdfxow7Zw86"
      }
    },
    {
      "cell_type": "code",
      "source": [
        "df['ExpectedROI'] = (df['EstimatedEffectiveYield'] - df['EstimatedLoss']) / df['LoanOriginalAmount'] \n",
        "df['ExpectedROI']"
      ],
      "metadata": {
        "colab": {
          "base_uri": "https://localhost:8080/"
        },
        "id": "M3dPQVoGXQK2",
        "outputId": "c7a7a0fb-fe05-4fb0-b25d-9a5a7e266e12"
      },
      "execution_count": 53,
      "outputs": [
        {
          "output_type": "execute_result",
          "data": {
            "text/plain": [
              "0         0.000009\n",
              "2         0.000030\n",
              "11        0.000089\n",
              "12        0.000019\n",
              "15        0.000031\n",
              "            ...   \n",
              "113914    0.000030\n",
              "113918    0.000013\n",
              "113923    0.000011\n",
              "113926    0.000030\n",
              "113929    0.000044\n",
              "Name: ExpectedROI, Length: 42789, dtype: float64"
            ]
          },
          "metadata": {},
          "execution_count": 53
        }
      ]
    },
    {
      "cell_type": "markdown",
      "source": [
        "percentage"
      ],
      "metadata": {
        "id": "SDrqajeWaSaT"
      }
    },
    {
      "cell_type": "code",
      "source": [
        "df['ExpectedROI']=df['ExpectedROI']*100\n",
        "df['ExpectedROI']"
      ],
      "metadata": {
        "colab": {
          "base_uri": "https://localhost:8080/"
        },
        "id": "h2DrLOX0aM1U",
        "outputId": "32e95e04-0eab-4b8e-9d4e-a9807867165c"
      },
      "execution_count": 54,
      "outputs": [
        {
          "output_type": "execute_result",
          "data": {
            "text/plain": [
              "0         0.000948\n",
              "2         0.002978\n",
              "11        0.008936\n",
              "12        0.001850\n",
              "15        0.003115\n",
              "            ...   \n",
              "113914    0.002979\n",
              "113918    0.001277\n",
              "113923    0.001117\n",
              "113926    0.002979\n",
              "113929    0.004372\n",
              "Name: ExpectedROI, Length: 42789, dtype: float64"
            ]
          },
          "metadata": {},
          "execution_count": 54
        }
      ]
    },
    {
      "cell_type": "markdown",
      "source": [
        "#2.Expected EMI"
      ],
      "metadata": {
        "id": "fhFShkH9XF5S"
      }
    },
    {
      "cell_type": "code",
      "source": [
        "df['Expected_EMI'] = (df['LoanOriginalAmount']*(df['BorrowerRate']/12)*((1+(df['BorrowerRate']/12))**df['Term'])) / (((1+(df['BorrowerRate']/12))**df['Term'])-1)\n",
        "df['Expected_EMI']"
      ],
      "metadata": {
        "colab": {
          "base_uri": "https://localhost:8080/"
        },
        "id": "wZjJ_v_6VhcQ",
        "outputId": "bb404cc3-3dad-420c-9c25-e7e5effc828e"
      },
      "execution_count": 51,
      "outputs": [
        {
          "output_type": "execute_result",
          "data": {
            "text/plain": [
              "0         330.425160\n",
              "2         123.322886\n",
              "11         33.814494\n",
              "12        137.391471\n",
              "15        173.707316\n",
              "             ...    \n",
              "113914    119.279478\n",
              "113918    228.508600\n",
              "113923    300.948902\n",
              "113926    125.717148\n",
              "113929    101.246654\n",
              "Name: Expected_EMI, Length: 42789, dtype: float64"
            ]
          },
          "metadata": {},
          "execution_count": 51
        }
      ]
    },
    {
      "cell_type": "markdown",
      "source": [
        "#3.Loan eligibility"
      ],
      "metadata": {
        "id": "2uAOCbU3XOjk"
      }
    },
    {
      "cell_type": "code",
      "source": [
        "df['Eligible'] =df.apply(lambda row: row['MonthlyLoanPayment']<(row['StatedMonthlyIncome']*0.3),axis=1)\n",
        "df['Eligible']"
      ],
      "metadata": {
        "colab": {
          "base_uri": "https://localhost:8080/"
        },
        "id": "6rc20mzGW5YO",
        "outputId": "43424945-7308-44a0-db03-231771c06d71"
      },
      "execution_count": 52,
      "outputs": [
        {
          "output_type": "execute_result",
          "data": {
            "text/plain": [
              "0         True\n",
              "2         True\n",
              "11        True\n",
              "12        True\n",
              "15        True\n",
              "          ... \n",
              "113914    True\n",
              "113918    True\n",
              "113923    True\n",
              "113926    True\n",
              "113929    True\n",
              "Name: Eligible, Length: 42789, dtype: bool"
            ]
          },
          "metadata": {},
          "execution_count": 52
        }
      ]
    },
    {
      "cell_type": "code",
      "source": [],
      "metadata": {
        "id": "IUNDFO5SYQcC"
      },
      "execution_count": null,
      "outputs": []
    }
  ]
}