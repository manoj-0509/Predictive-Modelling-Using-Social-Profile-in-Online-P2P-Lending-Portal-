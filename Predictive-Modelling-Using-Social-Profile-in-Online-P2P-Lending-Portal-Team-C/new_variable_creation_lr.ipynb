{
  "nbformat": 4,
  "nbformat_minor": 0,
  "metadata": {
    "colab": {
      "provenance": []
    },
    "kernelspec": {
      "name": "python3",
      "display_name": "Python 3"
    },
    "language_info": {
      "name": "python"
    }
  },
  "cells": [
    {
      "cell_type": "code",
      "execution_count": 1,
      "metadata": {
        "id": "Fypq_9g7te0N"
      },
      "outputs": [],
      "source": [
        "import pandas as pd\n",
        "import numpy as np\n",
        "import seaborn as sns\n",
        "import matplotlib.pyplot as plt\n",
        "from matplotlib.pyplot import figure\n",
        "from sklearn.preprocessing import LabelEncoder"
      ]
    },
    {
      "cell_type": "code",
      "execution_count": 2,
      "metadata": {
        "colab": {
          "base_uri": "https://localhost:8080/"
        },
        "id": "mAKJW_ybtRwD",
        "outputId": "4aca2d53-89f6-4c7c-9434-5b5012dbe7bc"
      },
      "outputs": [
        {
          "output_type": "stream",
          "name": "stdout",
          "text": [
            "Mounted at /content/drive\n"
          ]
        }
      ],
      "source": [
        "from google.colab import drive\n",
        "drive.mount('/content/drive')\n",
        "path = '/content/drive/MyDrive/technocolabs_prosper/prosperLoanData.csv'"
      ]
    },
    {
      "cell_type": "code",
      "execution_count": 3,
      "metadata": {
        "id": "5cx8l-PNtcWq"
      },
      "outputs": [],
      "source": [
        "df = pd.read_csv(path)"
      ]
    },
    {
      "cell_type": "code",
      "source": [
        "df['ListingKey'].nunique()"
      ],
      "metadata": {
        "colab": {
          "base_uri": "https://localhost:8080/"
        },
        "id": "IyKIYtbEUeq9",
        "outputId": "e3577c91-9a14-47e5-e43a-675964b07aff"
      },
      "execution_count": 4,
      "outputs": [
        {
          "output_type": "execute_result",
          "data": {
            "text/plain": [
              "113066"
            ]
          },
          "metadata": {},
          "execution_count": 4
        }
      ]
    },
    {
      "cell_type": "code",
      "source": [
        "df['ListingNumber'].nunique()"
      ],
      "metadata": {
        "colab": {
          "base_uri": "https://localhost:8080/"
        },
        "id": "NcJG_E8nUaJy",
        "outputId": "08548788-0129-4121-fbb0-07c11b03a9ac"
      },
      "execution_count": 5,
      "outputs": [
        {
          "output_type": "execute_result",
          "data": {
            "text/plain": [
              "113066"
            ]
          },
          "metadata": {},
          "execution_count": 5
        }
      ]
    },
    {
      "cell_type": "code",
      "source": [
        "df['LoanKey'].nunique()"
      ],
      "metadata": {
        "colab": {
          "base_uri": "https://localhost:8080/"
        },
        "id": "6vGPRVX-UaAj",
        "outputId": "cc7c4640-7e2d-410e-b78d-283b06ab7200"
      },
      "execution_count": 6,
      "outputs": [
        {
          "output_type": "execute_result",
          "data": {
            "text/plain": [
              "113066"
            ]
          },
          "metadata": {},
          "execution_count": 6
        }
      ]
    },
    {
      "cell_type": "code",
      "source": [
        "df['LoanNumber'].nunique()"
      ],
      "metadata": {
        "colab": {
          "base_uri": "https://localhost:8080/"
        },
        "id": "lcStN2HJUZ4z",
        "outputId": "7391d263-0f7c-491b-d7b1-c4e429852380"
      },
      "execution_count": 7,
      "outputs": [
        {
          "output_type": "execute_result",
          "data": {
            "text/plain": [
              "113066"
            ]
          },
          "metadata": {},
          "execution_count": 7
        }
      ]
    },
    {
      "cell_type": "code",
      "source": [
        "df['MemberKey'].nunique()"
      ],
      "metadata": {
        "colab": {
          "base_uri": "https://localhost:8080/"
        },
        "id": "Msedb1K9TtKt",
        "outputId": "d054095b-281b-40a2-bdc2-076414d7f90d"
      },
      "execution_count": 8,
      "outputs": [
        {
          "output_type": "execute_result",
          "data": {
            "text/plain": [
              "90831"
            ]
          },
          "metadata": {},
          "execution_count": 8
        }
      ]
    },
    {
      "cell_type": "markdown",
      "source": [
        "#dropping duplicates"
      ],
      "metadata": {
        "id": "rr98eXvoUoft"
      }
    },
    {
      "cell_type": "code",
      "source": [
        "df.drop_duplicates(subset = 'ListingKey', inplace = True)\n",
        "df.drop_duplicates(subset = 'ListingNumber', inplace = True)\n",
        "df.drop_duplicates(subset = 'LoanKey', inplace = True)\n",
        "df.drop_duplicates(subset = 'LoanNumber', inplace = True)\n",
        "df.drop_duplicates(subset = 'MemberKey', inplace = True)"
      ],
      "metadata": {
        "id": "9nkVQ3FrUOeN"
      },
      "execution_count": 9,
      "outputs": []
    },
    {
      "cell_type": "code",
      "source": [
        "df['ListingKey'].nunique()"
      ],
      "metadata": {
        "colab": {
          "base_uri": "https://localhost:8080/"
        },
        "outputId": "c83c02b4-015f-485d-849c-845fe717a058",
        "id": "Jef3OCmnUk4u"
      },
      "execution_count": 10,
      "outputs": [
        {
          "output_type": "execute_result",
          "data": {
            "text/plain": [
              "90831"
            ]
          },
          "metadata": {},
          "execution_count": 10
        }
      ]
    },
    {
      "cell_type": "code",
      "source": [
        "df['ListingNumber'].nunique()"
      ],
      "metadata": {
        "colab": {
          "base_uri": "https://localhost:8080/"
        },
        "outputId": "9c703a90-dbca-42f7-fe1c-9b916b5a6416",
        "id": "XKhUKMkXUk4v"
      },
      "execution_count": 11,
      "outputs": [
        {
          "output_type": "execute_result",
          "data": {
            "text/plain": [
              "90831"
            ]
          },
          "metadata": {},
          "execution_count": 11
        }
      ]
    },
    {
      "cell_type": "code",
      "source": [
        "df['LoanKey'].nunique()"
      ],
      "metadata": {
        "colab": {
          "base_uri": "https://localhost:8080/"
        },
        "outputId": "a5b322e3-843d-4a47-b258-d845040cfa60",
        "id": "_tzFAGg5Uk4w"
      },
      "execution_count": 12,
      "outputs": [
        {
          "output_type": "execute_result",
          "data": {
            "text/plain": [
              "90831"
            ]
          },
          "metadata": {},
          "execution_count": 12
        }
      ]
    },
    {
      "cell_type": "code",
      "source": [
        "df['LoanNumber'].nunique()"
      ],
      "metadata": {
        "colab": {
          "base_uri": "https://localhost:8080/"
        },
        "outputId": "a7032116-2ae5-419d-8b74-02cdae51ba99",
        "id": "OntE-ZgLUk4y"
      },
      "execution_count": 13,
      "outputs": [
        {
          "output_type": "execute_result",
          "data": {
            "text/plain": [
              "90831"
            ]
          },
          "metadata": {},
          "execution_count": 13
        }
      ]
    },
    {
      "cell_type": "code",
      "source": [
        "df['MemberKey'].nunique()"
      ],
      "metadata": {
        "colab": {
          "base_uri": "https://localhost:8080/"
        },
        "outputId": "f1c359d3-b421-404f-eb7d-6090fcf649bd",
        "id": "SvludVpkUk4z"
      },
      "execution_count": 14,
      "outputs": [
        {
          "output_type": "execute_result",
          "data": {
            "text/plain": [
              "90831"
            ]
          },
          "metadata": {},
          "execution_count": 14
        }
      ]
    },
    {
      "cell_type": "code",
      "source": [],
      "metadata": {
        "id": "lXWt1Kp0UmRM"
      },
      "execution_count": 14,
      "outputs": []
    },
    {
      "cell_type": "code",
      "source": [
        "df['LoanStatus'] = df['LoanStatus'].replace(['Chargedoff',\n",
        " 'Past Due (>120 days)'], ['Defaulted','Defaulted'])"
      ],
      "metadata": {
        "id": "cyzsmifHvtGQ"
      },
      "execution_count": 15,
      "outputs": []
    },
    {
      "cell_type": "code",
      "source": [
        "df['LoanStatus'] = df['LoanStatus'].replace(['Completed' , 'Past Due (1-15 days)', \n",
        "       'Past Due (16-30 days)', 'Past Due (61-90 days)',\n",
        "       'Past Due (31-60 days)', 'Past Due (91-120 days)','Cancelled'],\n",
        "       ['Non-Defaulted','Non-Defaulted','Non-Defaulted',\n",
        "       'Non-Defaulted','Non-Defaulted','Non-Defaulted','Non-Defaulted',])"
      ],
      "metadata": {
        "id": "PM-_Surcv2qh"
      },
      "execution_count": 16,
      "outputs": []
    },
    {
      "cell_type": "code",
      "source": [
        "non_null_ind = []\n",
        "for i in df['ClosedDate']:\n",
        "    if pd.isnull(i):\n",
        "        continue\n",
        "    else:\n",
        "      non_null_ind.append(df[df['ClosedDate']==i].index )"
      ],
      "metadata": {
        "id": "GX6lrwjnv-jh"
      },
      "execution_count": 17,
      "outputs": []
    },
    {
      "cell_type": "code",
      "source": [
        "for i in non_null_ind:\n",
        "  df.loc[i,'LoanStatus']='Non-Defaulted'"
      ],
      "metadata": {
        "id": "1a_uK5aQwNKw"
      },
      "execution_count": 18,
      "outputs": []
    },
    {
      "cell_type": "code",
      "source": [
        "non_deliquent_ind = []\n",
        "for i in df['LoanCurrentDaysDelinquent']:\n",
        "    if i>=180:\n",
        "      non_deliquent_ind.append(df[df['LoanCurrentDaysDelinquent']==i].index )"
      ],
      "metadata": {
        "id": "KcEwYbYcwOkP"
      },
      "execution_count": 19,
      "outputs": []
    },
    {
      "cell_type": "code",
      "source": [
        "for i in non_deliquent_ind:\n",
        "  df.loc[i,'LoanStatus']='Defaulted'"
      ],
      "metadata": {
        "id": "IluTnBQewVo1"
      },
      "execution_count": 20,
      "outputs": []
    },
    {
      "cell_type": "code",
      "execution_count": 21,
      "metadata": {
        "id": "sk8dHDHip655"
      },
      "outputs": [],
      "source": [
        "df.drop(df[df['LoanStatus'] =='Current'].index,inplace=True)"
      ]
    },
    {
      "cell_type": "code",
      "source": [
        "df['LoanStatus'] = df['LoanStatus'].replace([ 'FinalPaymentInProgress'], ['Non-Defaulted'])"
      ],
      "metadata": {
        "id": "wjMz9RHjwWOZ"
      },
      "execution_count": 22,
      "outputs": []
    },
    {
      "cell_type": "code",
      "execution_count": 23,
      "metadata": {
        "id": "3IoC2HtaLByQ"
      },
      "outputs": [],
      "source": [
        "category_cols = df.select_dtypes(include=['category','object']).columns\n",
        "# df[category_cols] = df[category_cols].fillna(df[category_cols].mode().iloc[0])\n",
        "\n",
        "numeric_cols = df.select_dtypes(include=['float64', 'int64']).columns\n",
        "# df[numeric_cols] = df[numeric_cols].fillna(df[numeric_cols].median())"
      ]
    },
    {
      "cell_type": "code",
      "execution_count": 24,
      "metadata": {
        "id": "DeWn2oJPkh4o"
      },
      "outputs": [],
      "source": [
        "# importing sklearn\n",
        "import sklearn\n",
        "# importing simpleimputer\n",
        "from sklearn.impute import SimpleImputer"
      ]
    },
    {
      "cell_type": "code",
      "execution_count": 25,
      "metadata": {
        "id": "wqw6sDQ4kgAm"
      },
      "outputs": [],
      "source": [
        "#numeric columns\n",
        "imputer = SimpleImputer(missing_values=np.nan, strategy='most_frequent')\n",
        "imputer.fit(df[category_cols])\n",
        "df[category_cols]= imputer.fit_transform(df[category_cols])\n",
        "#categorical columns\n",
        "\n",
        "imputer = SimpleImputer(missing_values=np.nan, strategy='mean')\n",
        "imputer.fit(df[numeric_cols])\n",
        "df[numeric_cols]= imputer.fit_transform(df[numeric_cols])"
      ]
    },
    {
      "cell_type": "markdown",
      "source": [
        "## 1-Equated Monthly Installments (EMI)\n",
        "\n",
        "* Tenure --> **Loan Tenure**\n",
        "* Principle repayment --> **LP_CustomerPrinciplePayments**\n",
        "* Interest --> BorrowerRate"
      ],
      "metadata": {
        "id": "AC5c0-K9JQuj"
      }
    },
    {
      "cell_type": "code",
      "source": [
        "emi_cols = ['LP_CustomerPayments' , 'LP_CustomerPrincipalPayments']\n",
        "df[emi_cols].head()"
      ],
      "metadata": {
        "colab": {
          "base_uri": "https://localhost:8080/",
          "height": 206
        },
        "id": "TFj2sYc6JXEV",
        "outputId": "a128b731-26da-4a5d-ab82-2b43531ca8c3"
      },
      "execution_count": 26,
      "outputs": [
        {
          "output_type": "execute_result",
          "data": {
            "text/plain": [
              "    LP_CustomerPayments  LP_CustomerPrincipalPayments\n",
              "0            11396.1400                       9425.00\n",
              "2             4186.6300                       3001.00\n",
              "11            1011.6500                       1000.00\n",
              "12             135.8174                         88.64\n",
              "15             521.1300                        209.75"
            ],
            "text/html": [
              "\n",
              "  <div id=\"df-94bfb06f-f5c7-42fb-af20-65c3c06af89a\">\n",
              "    <div class=\"colab-df-container\">\n",
              "      <div>\n",
              "<style scoped>\n",
              "    .dataframe tbody tr th:only-of-type {\n",
              "        vertical-align: middle;\n",
              "    }\n",
              "\n",
              "    .dataframe tbody tr th {\n",
              "        vertical-align: top;\n",
              "    }\n",
              "\n",
              "    .dataframe thead th {\n",
              "        text-align: right;\n",
              "    }\n",
              "</style>\n",
              "<table border=\"1\" class=\"dataframe\">\n",
              "  <thead>\n",
              "    <tr style=\"text-align: right;\">\n",
              "      <th></th>\n",
              "      <th>LP_CustomerPayments</th>\n",
              "      <th>LP_CustomerPrincipalPayments</th>\n",
              "    </tr>\n",
              "  </thead>\n",
              "  <tbody>\n",
              "    <tr>\n",
              "      <th>0</th>\n",
              "      <td>11396.1400</td>\n",
              "      <td>9425.00</td>\n",
              "    </tr>\n",
              "    <tr>\n",
              "      <th>2</th>\n",
              "      <td>4186.6300</td>\n",
              "      <td>3001.00</td>\n",
              "    </tr>\n",
              "    <tr>\n",
              "      <th>11</th>\n",
              "      <td>1011.6500</td>\n",
              "      <td>1000.00</td>\n",
              "    </tr>\n",
              "    <tr>\n",
              "      <th>12</th>\n",
              "      <td>135.8174</td>\n",
              "      <td>88.64</td>\n",
              "    </tr>\n",
              "    <tr>\n",
              "      <th>15</th>\n",
              "      <td>521.1300</td>\n",
              "      <td>209.75</td>\n",
              "    </tr>\n",
              "  </tbody>\n",
              "</table>\n",
              "</div>\n",
              "      <button class=\"colab-df-convert\" onclick=\"convertToInteractive('df-94bfb06f-f5c7-42fb-af20-65c3c06af89a')\"\n",
              "              title=\"Convert this dataframe to an interactive table.\"\n",
              "              style=\"display:none;\">\n",
              "        \n",
              "  <svg xmlns=\"http://www.w3.org/2000/svg\" height=\"24px\"viewBox=\"0 0 24 24\"\n",
              "       width=\"24px\">\n",
              "    <path d=\"M0 0h24v24H0V0z\" fill=\"none\"/>\n",
              "    <path d=\"M18.56 5.44l.94 2.06.94-2.06 2.06-.94-2.06-.94-.94-2.06-.94 2.06-2.06.94zm-11 1L8.5 8.5l.94-2.06 2.06-.94-2.06-.94L8.5 2.5l-.94 2.06-2.06.94zm10 10l.94 2.06.94-2.06 2.06-.94-2.06-.94-.94-2.06-.94 2.06-2.06.94z\"/><path d=\"M17.41 7.96l-1.37-1.37c-.4-.4-.92-.59-1.43-.59-.52 0-1.04.2-1.43.59L10.3 9.45l-7.72 7.72c-.78.78-.78 2.05 0 2.83L4 21.41c.39.39.9.59 1.41.59.51 0 1.02-.2 1.41-.59l7.78-7.78 2.81-2.81c.8-.78.8-2.07 0-2.86zM5.41 20L4 18.59l7.72-7.72 1.47 1.35L5.41 20z\"/>\n",
              "  </svg>\n",
              "      </button>\n",
              "      \n",
              "  <style>\n",
              "    .colab-df-container {\n",
              "      display:flex;\n",
              "      flex-wrap:wrap;\n",
              "      gap: 12px;\n",
              "    }\n",
              "\n",
              "    .colab-df-convert {\n",
              "      background-color: #E8F0FE;\n",
              "      border: none;\n",
              "      border-radius: 50%;\n",
              "      cursor: pointer;\n",
              "      display: none;\n",
              "      fill: #1967D2;\n",
              "      height: 32px;\n",
              "      padding: 0 0 0 0;\n",
              "      width: 32px;\n",
              "    }\n",
              "\n",
              "    .colab-df-convert:hover {\n",
              "      background-color: #E2EBFA;\n",
              "      box-shadow: 0px 1px 2px rgba(60, 64, 67, 0.3), 0px 1px 3px 1px rgba(60, 64, 67, 0.15);\n",
              "      fill: #174EA6;\n",
              "    }\n",
              "\n",
              "    [theme=dark] .colab-df-convert {\n",
              "      background-color: #3B4455;\n",
              "      fill: #D2E3FC;\n",
              "    }\n",
              "\n",
              "    [theme=dark] .colab-df-convert:hover {\n",
              "      background-color: #434B5C;\n",
              "      box-shadow: 0px 1px 3px 1px rgba(0, 0, 0, 0.15);\n",
              "      filter: drop-shadow(0px 1px 2px rgba(0, 0, 0, 0.3));\n",
              "      fill: #FFFFFF;\n",
              "    }\n",
              "  </style>\n",
              "\n",
              "      <script>\n",
              "        const buttonEl =\n",
              "          document.querySelector('#df-94bfb06f-f5c7-42fb-af20-65c3c06af89a button.colab-df-convert');\n",
              "        buttonEl.style.display =\n",
              "          google.colab.kernel.accessAllowed ? 'block' : 'none';\n",
              "\n",
              "        async function convertToInteractive(key) {\n",
              "          const element = document.querySelector('#df-94bfb06f-f5c7-42fb-af20-65c3c06af89a');\n",
              "          const dataTable =\n",
              "            await google.colab.kernel.invokeFunction('convertToInteractive',\n",
              "                                                     [key], {});\n",
              "          if (!dataTable) return;\n",
              "\n",
              "          const docLinkHtml = 'Like what you see? Visit the ' +\n",
              "            '<a target=\"_blank\" href=https://colab.research.google.com/notebooks/data_table.ipynb>data table notebook</a>'\n",
              "            + ' to learn more about interactive tables.';\n",
              "          element.innerHTML = '';\n",
              "          dataTable['output_type'] = 'display_data';\n",
              "          await google.colab.output.renderOutput(dataTable, element);\n",
              "          const docLink = document.createElement('div');\n",
              "          docLink.innerHTML = docLinkHtml;\n",
              "          element.appendChild(docLink);\n",
              "        }\n",
              "      </script>\n",
              "    </div>\n",
              "  </div>\n",
              "  "
            ]
          },
          "metadata": {},
          "execution_count": 26
        }
      ]
    },
    {
      "cell_type": "markdown",
      "source": [
        "For each row in the dataset:\n",
        "* Calculate result_1 = P* r * [(1-r)] ^n\n",
        "* Calculate result_2 = [(1+r)]^n-1\n",
        "* Calculate EMI = result1 / result2"
      ],
      "metadata": {
        "id": "PlsxwGv3Jj-N"
      }
    },
    {
      "cell_type": "code",
      "source": [
        "def cal_EMI(P , r , n):\n",
        "  P = P.values\n",
        "  r = r.values\n",
        "  n = n.values\n",
        "  #print(P.shape[0])\n",
        "  result_1 = np.empty(0)\n",
        "  result_2 = np.empty(0)\n",
        "  result = np.empty(0)\n",
        "  for i in range(P.shape[0]):\n",
        "    #print(P[i])\n",
        "    #print(r[i])\n",
        "    #print(n[i])\n",
        "    #EMI = P x r x (1+r) ^ n / ((1+r)) ^ n - 1)\n",
        "    #print(P[i] * (1+r[i]))\n",
        "    result_1 = np.append(result_1 , P[i] * r[i] * np.power((1 + r[i]),n[i]))\n",
        "    result_2 = np.append(result_2 , np.power((1 + r[i]) , n[i]) - 1)\n",
        "    result =  np.append(result , (result_1[i] / result_2[i]))\n",
        " \n",
        "  return result"
      ],
      "metadata": {
        "id": "-yNQoyiyJkSs"
      },
      "execution_count": 27,
      "outputs": []
    },
    {
      "cell_type": "code",
      "source": [
        "df.head()"
      ],
      "metadata": {
        "colab": {
          "base_uri": "https://localhost:8080/",
          "height": 386
        },
        "id": "kv4dmpgGJm2_",
        "outputId": "a7c5237d-7c87-47ec-cb63-f639359d5fff"
      },
      "execution_count": 28,
      "outputs": [
        {
          "output_type": "execute_result",
          "data": {
            "text/plain": [
              "                 ListingKey  ListingNumber            ListingCreationDate  \\\n",
              "0   1021339766868145413AB3B       193129.0  2007-08-26 19:09:29.263000000   \n",
              "2   0EE9337825851032864889A        81716.0  2007-01-05 15:00:47.090000000   \n",
              "11  0F1734025150298088A5F2B       213551.0  2007-10-09 20:28:33.640000000   \n",
              "12  0F1A3597143888805163EF7      1081604.0  2013-12-15 20:01:10.757000000   \n",
              "15  0F483544120452347F48121       577164.0  2012-04-10 09:14:46.297000000   \n",
              "\n",
              "   CreditGrade  Term     LoanStatus           ClosedDate  BorrowerAPR  \\\n",
              "0            C  36.0  Non-Defaulted  2009-08-14 00:00:00      0.16516   \n",
              "2           HR  36.0  Non-Defaulted  2009-12-17 00:00:00      0.28269   \n",
              "11           C  36.0  Non-Defaulted  2008-01-07 00:00:00      0.15033   \n",
              "12           C  36.0  Non-Defaulted  2014-03-04 00:00:00      0.17969   \n",
              "15           C  36.0  Non-Defaulted  2012-12-19 00:00:00      0.35797   \n",
              "\n",
              "    BorrowerRate  LenderYield  ...  LP_ServiceFees  LP_CollectionFees  \\\n",
              "0         0.1580       0.1380  ...         -133.18                0.0   \n",
              "2         0.2750       0.2400  ...          -24.20                0.0   \n",
              "11        0.1325       0.1225  ...           -0.88                0.0   \n",
              "12        0.1435       0.1335  ...           -3.40                0.0   \n",
              "15        0.3177       0.3077  ...           -9.81                0.0   \n",
              "\n",
              "    LP_GrossPrincipalLoss  LP_NetPrincipalLoss  \\\n",
              "0                    0.00                 0.00   \n",
              "2                    0.00                 0.00   \n",
              "11                   0.00                 0.00   \n",
              "12                   0.00                 0.00   \n",
              "15                3790.25              3790.25   \n",
              "\n",
              "   LP_NonPrincipalRecoverypayments  PercentFunded  Recommendations  \\\n",
              "0                              0.0            1.0              0.0   \n",
              "2                              0.0            1.0              0.0   \n",
              "11                             0.0            1.0              0.0   \n",
              "12                             0.0            1.0              0.0   \n",
              "15                             0.0            1.0              0.0   \n",
              "\n",
              "   InvestmentFromFriendsCount InvestmentFromFriendsAmount Investors  \n",
              "0                         0.0                         0.0     258.0  \n",
              "2                         0.0                         0.0      41.0  \n",
              "11                        0.0                         0.0      53.0  \n",
              "12                        0.0                         0.0       1.0  \n",
              "15                        0.0                         0.0      10.0  \n",
              "\n",
              "[5 rows x 81 columns]"
            ],
            "text/html": [
              "\n",
              "  <div id=\"df-dd126600-b62f-4f6c-8c47-424e90448ad6\">\n",
              "    <div class=\"colab-df-container\">\n",
              "      <div>\n",
              "<style scoped>\n",
              "    .dataframe tbody tr th:only-of-type {\n",
              "        vertical-align: middle;\n",
              "    }\n",
              "\n",
              "    .dataframe tbody tr th {\n",
              "        vertical-align: top;\n",
              "    }\n",
              "\n",
              "    .dataframe thead th {\n",
              "        text-align: right;\n",
              "    }\n",
              "</style>\n",
              "<table border=\"1\" class=\"dataframe\">\n",
              "  <thead>\n",
              "    <tr style=\"text-align: right;\">\n",
              "      <th></th>\n",
              "      <th>ListingKey</th>\n",
              "      <th>ListingNumber</th>\n",
              "      <th>ListingCreationDate</th>\n",
              "      <th>CreditGrade</th>\n",
              "      <th>Term</th>\n",
              "      <th>LoanStatus</th>\n",
              "      <th>ClosedDate</th>\n",
              "      <th>BorrowerAPR</th>\n",
              "      <th>BorrowerRate</th>\n",
              "      <th>LenderYield</th>\n",
              "      <th>...</th>\n",
              "      <th>LP_ServiceFees</th>\n",
              "      <th>LP_CollectionFees</th>\n",
              "      <th>LP_GrossPrincipalLoss</th>\n",
              "      <th>LP_NetPrincipalLoss</th>\n",
              "      <th>LP_NonPrincipalRecoverypayments</th>\n",
              "      <th>PercentFunded</th>\n",
              "      <th>Recommendations</th>\n",
              "      <th>InvestmentFromFriendsCount</th>\n",
              "      <th>InvestmentFromFriendsAmount</th>\n",
              "      <th>Investors</th>\n",
              "    </tr>\n",
              "  </thead>\n",
              "  <tbody>\n",
              "    <tr>\n",
              "      <th>0</th>\n",
              "      <td>1021339766868145413AB3B</td>\n",
              "      <td>193129.0</td>\n",
              "      <td>2007-08-26 19:09:29.263000000</td>\n",
              "      <td>C</td>\n",
              "      <td>36.0</td>\n",
              "      <td>Non-Defaulted</td>\n",
              "      <td>2009-08-14 00:00:00</td>\n",
              "      <td>0.16516</td>\n",
              "      <td>0.1580</td>\n",
              "      <td>0.1380</td>\n",
              "      <td>...</td>\n",
              "      <td>-133.18</td>\n",
              "      <td>0.0</td>\n",
              "      <td>0.00</td>\n",
              "      <td>0.00</td>\n",
              "      <td>0.0</td>\n",
              "      <td>1.0</td>\n",
              "      <td>0.0</td>\n",
              "      <td>0.0</td>\n",
              "      <td>0.0</td>\n",
              "      <td>258.0</td>\n",
              "    </tr>\n",
              "    <tr>\n",
              "      <th>2</th>\n",
              "      <td>0EE9337825851032864889A</td>\n",
              "      <td>81716.0</td>\n",
              "      <td>2007-01-05 15:00:47.090000000</td>\n",
              "      <td>HR</td>\n",
              "      <td>36.0</td>\n",
              "      <td>Non-Defaulted</td>\n",
              "      <td>2009-12-17 00:00:00</td>\n",
              "      <td>0.28269</td>\n",
              "      <td>0.2750</td>\n",
              "      <td>0.2400</td>\n",
              "      <td>...</td>\n",
              "      <td>-24.20</td>\n",
              "      <td>0.0</td>\n",
              "      <td>0.00</td>\n",
              "      <td>0.00</td>\n",
              "      <td>0.0</td>\n",
              "      <td>1.0</td>\n",
              "      <td>0.0</td>\n",
              "      <td>0.0</td>\n",
              "      <td>0.0</td>\n",
              "      <td>41.0</td>\n",
              "    </tr>\n",
              "    <tr>\n",
              "      <th>11</th>\n",
              "      <td>0F1734025150298088A5F2B</td>\n",
              "      <td>213551.0</td>\n",
              "      <td>2007-10-09 20:28:33.640000000</td>\n",
              "      <td>C</td>\n",
              "      <td>36.0</td>\n",
              "      <td>Non-Defaulted</td>\n",
              "      <td>2008-01-07 00:00:00</td>\n",
              "      <td>0.15033</td>\n",
              "      <td>0.1325</td>\n",
              "      <td>0.1225</td>\n",
              "      <td>...</td>\n",
              "      <td>-0.88</td>\n",
              "      <td>0.0</td>\n",
              "      <td>0.00</td>\n",
              "      <td>0.00</td>\n",
              "      <td>0.0</td>\n",
              "      <td>1.0</td>\n",
              "      <td>0.0</td>\n",
              "      <td>0.0</td>\n",
              "      <td>0.0</td>\n",
              "      <td>53.0</td>\n",
              "    </tr>\n",
              "    <tr>\n",
              "      <th>12</th>\n",
              "      <td>0F1A3597143888805163EF7</td>\n",
              "      <td>1081604.0</td>\n",
              "      <td>2013-12-15 20:01:10.757000000</td>\n",
              "      <td>C</td>\n",
              "      <td>36.0</td>\n",
              "      <td>Non-Defaulted</td>\n",
              "      <td>2014-03-04 00:00:00</td>\n",
              "      <td>0.17969</td>\n",
              "      <td>0.1435</td>\n",
              "      <td>0.1335</td>\n",
              "      <td>...</td>\n",
              "      <td>-3.40</td>\n",
              "      <td>0.0</td>\n",
              "      <td>0.00</td>\n",
              "      <td>0.00</td>\n",
              "      <td>0.0</td>\n",
              "      <td>1.0</td>\n",
              "      <td>0.0</td>\n",
              "      <td>0.0</td>\n",
              "      <td>0.0</td>\n",
              "      <td>1.0</td>\n",
              "    </tr>\n",
              "    <tr>\n",
              "      <th>15</th>\n",
              "      <td>0F483544120452347F48121</td>\n",
              "      <td>577164.0</td>\n",
              "      <td>2012-04-10 09:14:46.297000000</td>\n",
              "      <td>C</td>\n",
              "      <td>36.0</td>\n",
              "      <td>Non-Defaulted</td>\n",
              "      <td>2012-12-19 00:00:00</td>\n",
              "      <td>0.35797</td>\n",
              "      <td>0.3177</td>\n",
              "      <td>0.3077</td>\n",
              "      <td>...</td>\n",
              "      <td>-9.81</td>\n",
              "      <td>0.0</td>\n",
              "      <td>3790.25</td>\n",
              "      <td>3790.25</td>\n",
              "      <td>0.0</td>\n",
              "      <td>1.0</td>\n",
              "      <td>0.0</td>\n",
              "      <td>0.0</td>\n",
              "      <td>0.0</td>\n",
              "      <td>10.0</td>\n",
              "    </tr>\n",
              "  </tbody>\n",
              "</table>\n",
              "<p>5 rows × 81 columns</p>\n",
              "</div>\n",
              "      <button class=\"colab-df-convert\" onclick=\"convertToInteractive('df-dd126600-b62f-4f6c-8c47-424e90448ad6')\"\n",
              "              title=\"Convert this dataframe to an interactive table.\"\n",
              "              style=\"display:none;\">\n",
              "        \n",
              "  <svg xmlns=\"http://www.w3.org/2000/svg\" height=\"24px\"viewBox=\"0 0 24 24\"\n",
              "       width=\"24px\">\n",
              "    <path d=\"M0 0h24v24H0V0z\" fill=\"none\"/>\n",
              "    <path d=\"M18.56 5.44l.94 2.06.94-2.06 2.06-.94-2.06-.94-.94-2.06-.94 2.06-2.06.94zm-11 1L8.5 8.5l.94-2.06 2.06-.94-2.06-.94L8.5 2.5l-.94 2.06-2.06.94zm10 10l.94 2.06.94-2.06 2.06-.94-2.06-.94-.94-2.06-.94 2.06-2.06.94z\"/><path d=\"M17.41 7.96l-1.37-1.37c-.4-.4-.92-.59-1.43-.59-.52 0-1.04.2-1.43.59L10.3 9.45l-7.72 7.72c-.78.78-.78 2.05 0 2.83L4 21.41c.39.39.9.59 1.41.59.51 0 1.02-.2 1.41-.59l7.78-7.78 2.81-2.81c.8-.78.8-2.07 0-2.86zM5.41 20L4 18.59l7.72-7.72 1.47 1.35L5.41 20z\"/>\n",
              "  </svg>\n",
              "      </button>\n",
              "      \n",
              "  <style>\n",
              "    .colab-df-container {\n",
              "      display:flex;\n",
              "      flex-wrap:wrap;\n",
              "      gap: 12px;\n",
              "    }\n",
              "\n",
              "    .colab-df-convert {\n",
              "      background-color: #E8F0FE;\n",
              "      border: none;\n",
              "      border-radius: 50%;\n",
              "      cursor: pointer;\n",
              "      display: none;\n",
              "      fill: #1967D2;\n",
              "      height: 32px;\n",
              "      padding: 0 0 0 0;\n",
              "      width: 32px;\n",
              "    }\n",
              "\n",
              "    .colab-df-convert:hover {\n",
              "      background-color: #E2EBFA;\n",
              "      box-shadow: 0px 1px 2px rgba(60, 64, 67, 0.3), 0px 1px 3px 1px rgba(60, 64, 67, 0.15);\n",
              "      fill: #174EA6;\n",
              "    }\n",
              "\n",
              "    [theme=dark] .colab-df-convert {\n",
              "      background-color: #3B4455;\n",
              "      fill: #D2E3FC;\n",
              "    }\n",
              "\n",
              "    [theme=dark] .colab-df-convert:hover {\n",
              "      background-color: #434B5C;\n",
              "      box-shadow: 0px 1px 3px 1px rgba(0, 0, 0, 0.15);\n",
              "      filter: drop-shadow(0px 1px 2px rgba(0, 0, 0, 0.3));\n",
              "      fill: #FFFFFF;\n",
              "    }\n",
              "  </style>\n",
              "\n",
              "      <script>\n",
              "        const buttonEl =\n",
              "          document.querySelector('#df-dd126600-b62f-4f6c-8c47-424e90448ad6 button.colab-df-convert');\n",
              "        buttonEl.style.display =\n",
              "          google.colab.kernel.accessAllowed ? 'block' : 'none';\n",
              "\n",
              "        async function convertToInteractive(key) {\n",
              "          const element = document.querySelector('#df-dd126600-b62f-4f6c-8c47-424e90448ad6');\n",
              "          const dataTable =\n",
              "            await google.colab.kernel.invokeFunction('convertToInteractive',\n",
              "                                                     [key], {});\n",
              "          if (!dataTable) return;\n",
              "\n",
              "          const docLinkHtml = 'Like what you see? Visit the ' +\n",
              "            '<a target=\"_blank\" href=https://colab.research.google.com/notebooks/data_table.ipynb>data table notebook</a>'\n",
              "            + ' to learn more about interactive tables.';\n",
              "          element.innerHTML = '';\n",
              "          dataTable['output_type'] = 'display_data';\n",
              "          await google.colab.output.renderOutput(dataTable, element);\n",
              "          const docLink = document.createElement('div');\n",
              "          docLink.innerHTML = docLinkHtml;\n",
              "          element.appendChild(docLink);\n",
              "        }\n",
              "      </script>\n",
              "    </div>\n",
              "  </div>\n",
              "  "
            ]
          },
          "metadata": {},
          "execution_count": 28
        }
      ]
    },
    {
      "cell_type": "code",
      "source": [
        "df['ClosedDate']=pd.to_datetime(df['ClosedDate'])"
      ],
      "metadata": {
        "id": "F5AW9_nvL7aq"
      },
      "execution_count": 29,
      "outputs": []
    },
    {
      "cell_type": "code",
      "source": [
        "df['𝐿𝑜𝑎𝑛𝐷𝑎𝑡𝑒𝑦𝑒𝑎𝑟'] = df['ClosedDate'].dt.year\n",
        "df['month'] = df['ClosedDate'].dt.month"
      ],
      "metadata": {
        "id": "pQHqx6MFJpk-"
      },
      "execution_count": 30,
      "outputs": []
    },
    {
      "cell_type": "code",
      "source": [
        "df['LoanOriginationDate']"
      ],
      "metadata": {
        "colab": {
          "base_uri": "https://localhost:8080/"
        },
        "id": "qNRkRmt5JqoG",
        "outputId": "0032d6b0-4b88-4b2e-a6f4-b95335d01fe4"
      },
      "execution_count": 31,
      "outputs": [
        {
          "output_type": "execute_result",
          "data": {
            "text/plain": [
              "0         2007-09-12 00:00:00\n",
              "2         2007-01-17 00:00:00\n",
              "11        2007-10-18 00:00:00\n",
              "12        2014-01-07 00:00:00\n",
              "15        2012-04-19 00:00:00\n",
              "                 ...         \n",
              "113914    2006-08-18 00:00:00\n",
              "113918    2008-06-27 00:00:00\n",
              "113923    2008-09-23 00:00:00\n",
              "113926    2006-08-08 00:00:00\n",
              "113929    2013-07-10 00:00:00\n",
              "Name: LoanOriginationDate, Length: 42789, dtype: object"
            ]
          },
          "metadata": {},
          "execution_count": 31
        }
      ]
    },
    {
      "cell_type": "code",
      "source": [
        "df['LoanOriginationDate']=pd.to_datetime(df['LoanOriginationDate'])"
      ],
      "metadata": {
        "id": "jq8ZgeTiMdHI"
      },
      "execution_count": 32,
      "outputs": []
    },
    {
      "cell_type": "code",
      "source": [
        "df['𝑀𝑎𝑡𝑢𝑟𝑖𝑡𝑦𝐷𝑎𝑡𝑂𝑟𝑖𝑔𝑖𝑛𝑎𝑙𝑦𝑒𝑎𝑟'] = df['LoanOriginationDate'].dt.year\n",
        "df['𝑀𝑎𝑡𝑢𝑟𝑖𝑡𝑦𝐷𝑎𝑡𝑒𝑂𝑟𝑖𝑔𝑖𝑛𝑎𝑙𝑚𝑜𝑛𝑡ℎ'] = df['LoanOriginationDate'].dt.month"
      ],
      "metadata": {
        "id": "MJ_tNrjeJtus"
      },
      "execution_count": 33,
      "outputs": []
    },
    {
      "cell_type": "code",
      "source": [
        "df['𝑀𝑎𝑡𝑢𝑟𝑖𝑡𝑦𝐷𝑎𝑡𝑒𝑂𝑟𝑖𝑔𝑖𝑛𝑎𝑙𝑚𝑜𝑛𝑡ℎ']"
      ],
      "metadata": {
        "colab": {
          "base_uri": "https://localhost:8080/"
        },
        "id": "-agdb3_8JvHI",
        "outputId": "941badb0-25f8-4acb-cdd2-395b1f4810b3"
      },
      "execution_count": 34,
      "outputs": [
        {
          "output_type": "execute_result",
          "data": {
            "text/plain": [
              "0          9\n",
              "2          1\n",
              "11        10\n",
              "12         1\n",
              "15         4\n",
              "          ..\n",
              "113914     8\n",
              "113918     6\n",
              "113923     9\n",
              "113926     8\n",
              "113929     7\n",
              "Name: 𝑀𝑎𝑡𝑢𝑟𝑖𝑡𝑦𝐷𝑎𝑡𝑒𝑂𝑟𝑖𝑔𝑖𝑛𝑎𝑙𝑚𝑜𝑛𝑡ℎ, Length: 42789, dtype: int64"
            ]
          },
          "metadata": {},
          "execution_count": 34
        }
      ]
    },
    {
      "cell_type": "markdown",
      "source": [
        "<h5>LoanTenure = (𝑀𝑎𝑡𝑢𝑟𝑖𝑡𝑦𝐷𝑎𝑡𝑂𝑟𝑖𝑔𝑖𝑛𝑎𝑙𝑦𝑒𝑎𝑟 − 𝐿𝑜𝑎𝑛𝐷𝑎𝑡𝑒𝑦𝑒𝑎𝑟) 𝑥 12 − (𝑀𝑎𝑡𝑢𝑟𝑖𝑡𝑦𝐷𝑎𝑡𝑒𝑂𝑟𝑖𝑔𝑖𝑛𝑎𝑙𝑚𝑜𝑛𝑡ℎ − 𝐿𝑜𝑎𝑛𝐷𝑎𝑡𝑒𝑚𝑜𝑛𝑡ℎ)</h5>"
      ],
      "metadata": {
        "id": "Mjw8EDyQJ8Dp"
      }
    },
    {
      "cell_type": "code",
      "source": [
        "df['LoanTenure']=((df['𝑀𝑎𝑡𝑢𝑟𝑖𝑡𝑦𝐷𝑎𝑡𝑂𝑟𝑖𝑔𝑖𝑛𝑎𝑙𝑦𝑒𝑎𝑟']-df['𝐿𝑜𝑎𝑛𝐷𝑎𝑡𝑒𝑦𝑒𝑎𝑟'])*12)-(df['𝑀𝑎𝑡𝑢𝑟𝑖𝑡𝑦𝐷𝑎𝑡𝑒𝑂𝑟𝑖𝑔𝑖𝑛𝑎𝑙𝑚𝑜𝑛𝑡ℎ']-df['month'])"
      ],
      "metadata": {
        "id": "iYusqBLcJ6al"
      },
      "execution_count": 35,
      "outputs": []
    },
    {
      "cell_type": "code",
      "source": [
        "df['LoanTenure']"
      ],
      "metadata": {
        "colab": {
          "base_uri": "https://localhost:8080/"
        },
        "id": "CxmYyIbjJ-Ip",
        "outputId": "695672cd-835f-4d46-e36b-41077b3dc048"
      },
      "execution_count": 36,
      "outputs": [
        {
          "output_type": "execute_result",
          "data": {
            "text/plain": [
              "0        -25\n",
              "2        -13\n",
              "11       -21\n",
              "12         2\n",
              "15         8\n",
              "          ..\n",
              "113914   -17\n",
              "113918   -41\n",
              "113923   -36\n",
              "113926   -11\n",
              "113929   -17\n",
              "Name: LoanTenure, Length: 42789, dtype: int64"
            ]
          },
          "metadata": {},
          "execution_count": 36
        }
      ]
    },
    {
      "cell_type": "code",
      "source": [
        "df['EMI']=cal_EMI(df['LP_CustomerPrincipalPayments'],df['BorrowerRate'],df['LoanTenure'])"
      ],
      "metadata": {
        "colab": {
          "base_uri": "https://localhost:8080/"
        },
        "id": "ygD-zaV2KAaO",
        "outputId": "74476dab-92fd-49ae-b5a7-11cfff324278"
      },
      "execution_count": 37,
      "outputs": [
        {
          "output_type": "stream",
          "name": "stderr",
          "text": [
            "<ipython-input-27-4fc7b78a00c8>:17: RuntimeWarning: invalid value encountered in double_scalars\n",
            "  result =  np.append(result , (result_1[i] / result_2[i]))\n",
            "<ipython-input-27-4fc7b78a00c8>:17: RuntimeWarning: divide by zero encountered in double_scalars\n",
            "  result =  np.append(result , (result_1[i] / result_2[i]))\n"
          ]
        }
      ]
    },
    {
      "cell_type": "code",
      "source": [
        "df.head()"
      ],
      "metadata": {
        "colab": {
          "base_uri": "https://localhost:8080/",
          "height": 386
        },
        "id": "I_J9N8GLKBue",
        "outputId": "5690eebc-1541-444d-9c44-587e8dc0e07e"
      },
      "execution_count": 38,
      "outputs": [
        {
          "output_type": "execute_result",
          "data": {
            "text/plain": [
              "                 ListingKey  ListingNumber            ListingCreationDate  \\\n",
              "0   1021339766868145413AB3B       193129.0  2007-08-26 19:09:29.263000000   \n",
              "2   0EE9337825851032864889A        81716.0  2007-01-05 15:00:47.090000000   \n",
              "11  0F1734025150298088A5F2B       213551.0  2007-10-09 20:28:33.640000000   \n",
              "12  0F1A3597143888805163EF7      1081604.0  2013-12-15 20:01:10.757000000   \n",
              "15  0F483544120452347F48121       577164.0  2012-04-10 09:14:46.297000000   \n",
              "\n",
              "   CreditGrade  Term     LoanStatus ClosedDate  BorrowerAPR  BorrowerRate  \\\n",
              "0            C  36.0  Non-Defaulted 2009-08-14      0.16516        0.1580   \n",
              "2           HR  36.0  Non-Defaulted 2009-12-17      0.28269        0.2750   \n",
              "11           C  36.0  Non-Defaulted 2008-01-07      0.15033        0.1325   \n",
              "12           C  36.0  Non-Defaulted 2014-03-04      0.17969        0.1435   \n",
              "15           C  36.0  Non-Defaulted 2012-12-19      0.35797        0.3177   \n",
              "\n",
              "    LenderYield  ...  Recommendations  InvestmentFromFriendsCount  \\\n",
              "0        0.1380  ...              0.0                         0.0   \n",
              "2        0.2400  ...              0.0                         0.0   \n",
              "11       0.1225  ...              0.0                         0.0   \n",
              "12       0.1335  ...              0.0                         0.0   \n",
              "15       0.3077  ...              0.0                         0.0   \n",
              "\n",
              "    InvestmentFromFriendsAmount  Investors 𝐿𝑜𝑎𝑛𝐷𝑎𝑡𝑒𝑦𝑒𝑎𝑟  month  \\\n",
              "0                           0.0      258.0         2009      8   \n",
              "2                           0.0       41.0         2009     12   \n",
              "11                          0.0       53.0         2008      1   \n",
              "12                          0.0        1.0         2014      3   \n",
              "15                          0.0       10.0         2012     12   \n",
              "\n",
              "    𝑀𝑎𝑡𝑢𝑟𝑖𝑡𝑦𝐷𝑎𝑡𝑂𝑟𝑖𝑔𝑖𝑛𝑎𝑙𝑦𝑒𝑎𝑟 𝑀𝑎𝑡𝑢𝑟𝑖𝑡𝑦𝐷𝑎𝑡𝑒𝑂𝑟𝑖𝑔𝑖𝑛𝑎𝑙𝑚𝑜𝑛𝑡ℎ LoanTenure        EMI  \n",
              "0                      2007                         9        -25 -39.035716  \n",
              "2                      2007                         1        -13 -36.629126  \n",
              "11                     2007                        10        -21 -10.482906  \n",
              "12                     2014                         1          2  54.072767  \n",
              "15                     2012                         4          8  74.875277  \n",
              "\n",
              "[5 rows x 87 columns]"
            ],
            "text/html": [
              "\n",
              "  <div id=\"df-91e40418-bc18-4099-8123-80c4f5ff7db2\">\n",
              "    <div class=\"colab-df-container\">\n",
              "      <div>\n",
              "<style scoped>\n",
              "    .dataframe tbody tr th:only-of-type {\n",
              "        vertical-align: middle;\n",
              "    }\n",
              "\n",
              "    .dataframe tbody tr th {\n",
              "        vertical-align: top;\n",
              "    }\n",
              "\n",
              "    .dataframe thead th {\n",
              "        text-align: right;\n",
              "    }\n",
              "</style>\n",
              "<table border=\"1\" class=\"dataframe\">\n",
              "  <thead>\n",
              "    <tr style=\"text-align: right;\">\n",
              "      <th></th>\n",
              "      <th>ListingKey</th>\n",
              "      <th>ListingNumber</th>\n",
              "      <th>ListingCreationDate</th>\n",
              "      <th>CreditGrade</th>\n",
              "      <th>Term</th>\n",
              "      <th>LoanStatus</th>\n",
              "      <th>ClosedDate</th>\n",
              "      <th>BorrowerAPR</th>\n",
              "      <th>BorrowerRate</th>\n",
              "      <th>LenderYield</th>\n",
              "      <th>...</th>\n",
              "      <th>Recommendations</th>\n",
              "      <th>InvestmentFromFriendsCount</th>\n",
              "      <th>InvestmentFromFriendsAmount</th>\n",
              "      <th>Investors</th>\n",
              "      <th>𝐿𝑜𝑎𝑛𝐷𝑎𝑡𝑒𝑦𝑒𝑎𝑟</th>\n",
              "      <th>month</th>\n",
              "      <th>𝑀𝑎𝑡𝑢𝑟𝑖𝑡𝑦𝐷𝑎𝑡𝑂𝑟𝑖𝑔𝑖𝑛𝑎𝑙𝑦𝑒𝑎𝑟</th>\n",
              "      <th>𝑀𝑎𝑡𝑢𝑟𝑖𝑡𝑦𝐷𝑎𝑡𝑒𝑂𝑟𝑖𝑔𝑖𝑛𝑎𝑙𝑚𝑜𝑛𝑡ℎ</th>\n",
              "      <th>LoanTenure</th>\n",
              "      <th>EMI</th>\n",
              "    </tr>\n",
              "  </thead>\n",
              "  <tbody>\n",
              "    <tr>\n",
              "      <th>0</th>\n",
              "      <td>1021339766868145413AB3B</td>\n",
              "      <td>193129.0</td>\n",
              "      <td>2007-08-26 19:09:29.263000000</td>\n",
              "      <td>C</td>\n",
              "      <td>36.0</td>\n",
              "      <td>Non-Defaulted</td>\n",
              "      <td>2009-08-14</td>\n",
              "      <td>0.16516</td>\n",
              "      <td>0.1580</td>\n",
              "      <td>0.1380</td>\n",
              "      <td>...</td>\n",
              "      <td>0.0</td>\n",
              "      <td>0.0</td>\n",
              "      <td>0.0</td>\n",
              "      <td>258.0</td>\n",
              "      <td>2009</td>\n",
              "      <td>8</td>\n",
              "      <td>2007</td>\n",
              "      <td>9</td>\n",
              "      <td>-25</td>\n",
              "      <td>-39.035716</td>\n",
              "    </tr>\n",
              "    <tr>\n",
              "      <th>2</th>\n",
              "      <td>0EE9337825851032864889A</td>\n",
              "      <td>81716.0</td>\n",
              "      <td>2007-01-05 15:00:47.090000000</td>\n",
              "      <td>HR</td>\n",
              "      <td>36.0</td>\n",
              "      <td>Non-Defaulted</td>\n",
              "      <td>2009-12-17</td>\n",
              "      <td>0.28269</td>\n",
              "      <td>0.2750</td>\n",
              "      <td>0.2400</td>\n",
              "      <td>...</td>\n",
              "      <td>0.0</td>\n",
              "      <td>0.0</td>\n",
              "      <td>0.0</td>\n",
              "      <td>41.0</td>\n",
              "      <td>2009</td>\n",
              "      <td>12</td>\n",
              "      <td>2007</td>\n",
              "      <td>1</td>\n",
              "      <td>-13</td>\n",
              "      <td>-36.629126</td>\n",
              "    </tr>\n",
              "    <tr>\n",
              "      <th>11</th>\n",
              "      <td>0F1734025150298088A5F2B</td>\n",
              "      <td>213551.0</td>\n",
              "      <td>2007-10-09 20:28:33.640000000</td>\n",
              "      <td>C</td>\n",
              "      <td>36.0</td>\n",
              "      <td>Non-Defaulted</td>\n",
              "      <td>2008-01-07</td>\n",
              "      <td>0.15033</td>\n",
              "      <td>0.1325</td>\n",
              "      <td>0.1225</td>\n",
              "      <td>...</td>\n",
              "      <td>0.0</td>\n",
              "      <td>0.0</td>\n",
              "      <td>0.0</td>\n",
              "      <td>53.0</td>\n",
              "      <td>2008</td>\n",
              "      <td>1</td>\n",
              "      <td>2007</td>\n",
              "      <td>10</td>\n",
              "      <td>-21</td>\n",
              "      <td>-10.482906</td>\n",
              "    </tr>\n",
              "    <tr>\n",
              "      <th>12</th>\n",
              "      <td>0F1A3597143888805163EF7</td>\n",
              "      <td>1081604.0</td>\n",
              "      <td>2013-12-15 20:01:10.757000000</td>\n",
              "      <td>C</td>\n",
              "      <td>36.0</td>\n",
              "      <td>Non-Defaulted</td>\n",
              "      <td>2014-03-04</td>\n",
              "      <td>0.17969</td>\n",
              "      <td>0.1435</td>\n",
              "      <td>0.1335</td>\n",
              "      <td>...</td>\n",
              "      <td>0.0</td>\n",
              "      <td>0.0</td>\n",
              "      <td>0.0</td>\n",
              "      <td>1.0</td>\n",
              "      <td>2014</td>\n",
              "      <td>3</td>\n",
              "      <td>2014</td>\n",
              "      <td>1</td>\n",
              "      <td>2</td>\n",
              "      <td>54.072767</td>\n",
              "    </tr>\n",
              "    <tr>\n",
              "      <th>15</th>\n",
              "      <td>0F483544120452347F48121</td>\n",
              "      <td>577164.0</td>\n",
              "      <td>2012-04-10 09:14:46.297000000</td>\n",
              "      <td>C</td>\n",
              "      <td>36.0</td>\n",
              "      <td>Non-Defaulted</td>\n",
              "      <td>2012-12-19</td>\n",
              "      <td>0.35797</td>\n",
              "      <td>0.3177</td>\n",
              "      <td>0.3077</td>\n",
              "      <td>...</td>\n",
              "      <td>0.0</td>\n",
              "      <td>0.0</td>\n",
              "      <td>0.0</td>\n",
              "      <td>10.0</td>\n",
              "      <td>2012</td>\n",
              "      <td>12</td>\n",
              "      <td>2012</td>\n",
              "      <td>4</td>\n",
              "      <td>8</td>\n",
              "      <td>74.875277</td>\n",
              "    </tr>\n",
              "  </tbody>\n",
              "</table>\n",
              "<p>5 rows × 87 columns</p>\n",
              "</div>\n",
              "      <button class=\"colab-df-convert\" onclick=\"convertToInteractive('df-91e40418-bc18-4099-8123-80c4f5ff7db2')\"\n",
              "              title=\"Convert this dataframe to an interactive table.\"\n",
              "              style=\"display:none;\">\n",
              "        \n",
              "  <svg xmlns=\"http://www.w3.org/2000/svg\" height=\"24px\"viewBox=\"0 0 24 24\"\n",
              "       width=\"24px\">\n",
              "    <path d=\"M0 0h24v24H0V0z\" fill=\"none\"/>\n",
              "    <path d=\"M18.56 5.44l.94 2.06.94-2.06 2.06-.94-2.06-.94-.94-2.06-.94 2.06-2.06.94zm-11 1L8.5 8.5l.94-2.06 2.06-.94-2.06-.94L8.5 2.5l-.94 2.06-2.06.94zm10 10l.94 2.06.94-2.06 2.06-.94-2.06-.94-.94-2.06-.94 2.06-2.06.94z\"/><path d=\"M17.41 7.96l-1.37-1.37c-.4-.4-.92-.59-1.43-.59-.52 0-1.04.2-1.43.59L10.3 9.45l-7.72 7.72c-.78.78-.78 2.05 0 2.83L4 21.41c.39.39.9.59 1.41.59.51 0 1.02-.2 1.41-.59l7.78-7.78 2.81-2.81c.8-.78.8-2.07 0-2.86zM5.41 20L4 18.59l7.72-7.72 1.47 1.35L5.41 20z\"/>\n",
              "  </svg>\n",
              "      </button>\n",
              "      \n",
              "  <style>\n",
              "    .colab-df-container {\n",
              "      display:flex;\n",
              "      flex-wrap:wrap;\n",
              "      gap: 12px;\n",
              "    }\n",
              "\n",
              "    .colab-df-convert {\n",
              "      background-color: #E8F0FE;\n",
              "      border: none;\n",
              "      border-radius: 50%;\n",
              "      cursor: pointer;\n",
              "      display: none;\n",
              "      fill: #1967D2;\n",
              "      height: 32px;\n",
              "      padding: 0 0 0 0;\n",
              "      width: 32px;\n",
              "    }\n",
              "\n",
              "    .colab-df-convert:hover {\n",
              "      background-color: #E2EBFA;\n",
              "      box-shadow: 0px 1px 2px rgba(60, 64, 67, 0.3), 0px 1px 3px 1px rgba(60, 64, 67, 0.15);\n",
              "      fill: #174EA6;\n",
              "    }\n",
              "\n",
              "    [theme=dark] .colab-df-convert {\n",
              "      background-color: #3B4455;\n",
              "      fill: #D2E3FC;\n",
              "    }\n",
              "\n",
              "    [theme=dark] .colab-df-convert:hover {\n",
              "      background-color: #434B5C;\n",
              "      box-shadow: 0px 1px 3px 1px rgba(0, 0, 0, 0.15);\n",
              "      filter: drop-shadow(0px 1px 2px rgba(0, 0, 0, 0.3));\n",
              "      fill: #FFFFFF;\n",
              "    }\n",
              "  </style>\n",
              "\n",
              "      <script>\n",
              "        const buttonEl =\n",
              "          document.querySelector('#df-91e40418-bc18-4099-8123-80c4f5ff7db2 button.colab-df-convert');\n",
              "        buttonEl.style.display =\n",
              "          google.colab.kernel.accessAllowed ? 'block' : 'none';\n",
              "\n",
              "        async function convertToInteractive(key) {\n",
              "          const element = document.querySelector('#df-91e40418-bc18-4099-8123-80c4f5ff7db2');\n",
              "          const dataTable =\n",
              "            await google.colab.kernel.invokeFunction('convertToInteractive',\n",
              "                                                     [key], {});\n",
              "          if (!dataTable) return;\n",
              "\n",
              "          const docLinkHtml = 'Like what you see? Visit the ' +\n",
              "            '<a target=\"_blank\" href=https://colab.research.google.com/notebooks/data_table.ipynb>data table notebook</a>'\n",
              "            + ' to learn more about interactive tables.';\n",
              "          element.innerHTML = '';\n",
              "          dataTable['output_type'] = 'display_data';\n",
              "          await google.colab.output.renderOutput(dataTable, element);\n",
              "          const docLink = document.createElement('div');\n",
              "          docLink.innerHTML = docLinkHtml;\n",
              "          element.appendChild(docLink);\n",
              "        }\n",
              "      </script>\n",
              "    </div>\n",
              "  </div>\n",
              "  "
            ]
          },
          "metadata": {},
          "execution_count": 38
        }
      ]
    },
    {
      "cell_type": "markdown",
      "source": [
        "## 2- Preferred Return on Investment (PROI)\n",
        "\n"
      ],
      "metadata": {
        "id": "9GE2-vHFKP4q"
      }
    },
    {
      "cell_type": "code",
      "source": [
        "#the function displays a graph\n",
        "\n",
        "def plot_by_woe(df_WoE , rotation_of_x_axis_labels = 0):\n",
        "  x = np.array(df_WoE.iloc[:,0].apply(str))\n",
        "  #turns the values of the column with index 0 to strings, makes an array from these strings, and passes it to variable x.\n",
        "  y = df_WoE['WoE']\n",
        "  #selects a column with label 'WoE' and passes it to variable y.\n",
        "  plt.figure(figsize=(18,6))\n",
        "  #sets the graph size to width 18 x height 6.\n",
        "  plt.plot(x, y, marker = 'o',linestyle = '--',color = 'k')\n",
        "  #Plots the datapoints with coordinates variable x on the x axisand variable y on the y axis.\n",
        "  #sets the marker for each datapoint to a circle, the style line between the points to dashed,and the color to black.\n",
        "  plt.xlabel(df_WoE.columns[0])\n",
        "  #names the x axis with the name of the column with index 0.\n",
        "  plt.ylabel('Weight of Evidence')\n",
        "  #names the y axis 'weight of evidence'\n",
        "  plt.title(str('Weight of Evidence by '+ df_WoE.columns[0]))\n",
        "  #names the graph 'Weight of Evidence by ' the name of the column with index 0.\n",
        "  plt.xticks(rotation = rotation_of_x_axis_labels)\n",
        "  #rotates the labels of the x axis a predefined number of degrees.\n",
        "  plt.show()"
      ],
      "metadata": {
        "id": "NrReXec0KQNP"
      },
      "execution_count": 39,
      "outputs": []
    },
    {
      "cell_type": "code",
      "source": [
        "def PROI(df):\n",
        "  #calculate ROI\n",
        "  df['InterestAmount'] = (df['LoanOriginalAmount']*(df['BorrowerRate']))\n",
        "  df['TotalAmount'] = (df['InterestAmount']+df['LoanOriginalAmount'])\n",
        "  df['ROI'] = (df['InterestAmount']/df['TotalAmount'])\n",
        "\n",
        "  #setting root\n",
        "  df['PROI'] = df['ROI'].median()\n",
        "\n",
        "  for i in range(df.shape[0]):\n",
        "    #check out the creditGrade\n",
        "    if df['CreditGrade'].iloc[i] == 'E':\n",
        "      df['PROI'].iloc[i] = df['PROI'].iloc[i] + 0.05\n",
        "    elif df['CreditGrade'].iloc[i] == 'HR':\n",
        "      df['PROI'].iloc[i] = df['PROI'].iloc[i] + 0.05\n",
        "    elif df['CreditGrade'].iloc[i] == 'A':\n",
        "      df['PROI'].iloc[i] = df['PROI'].iloc[i] - 0.05\n",
        "    elif df['CreditGrade'].iloc[i] == 'AA':\n",
        "      df['PROI'].iloc[i] = df['PROI'].iloc[i] - 0.1\n",
        "\n",
        "    #check out the TradesNeverDeliquent\n",
        "    if df['TradesNeverDelinquent (percentage)'].iloc[i].all() < 0.7:\n",
        "      df['PROI'].iloc[i] = df['PROI'].iloc[i] + 0.05\n",
        "\n",
        "\n",
        "    #check out the AvailableBankCreditCardCredit\n",
        "    if df['AvailableBankcardCredit'].iloc[i] <= 800:\n",
        "       df['PROI'].iloc[i] = df['PROI'].iloc[i] + 0.05\n",
        "    elif df['AvailableBankcardCredit'].iloc[i] >= 16500:\n",
        "       df['PROI'].iloc[i] = df['PROI'].iloc[i] + 0.05\n",
        "\n",
        "    #check out TotalInquiries\n",
        "    if df['TotalInquiries'].iloc[i] > 28:\n",
        "       df['PROI'].iloc[i] = df['PROI'].iloc[i] + 0.1\n",
        "    elif df['TotalInquiries'].iloc[i] > 12:\n",
        "       df['PROI'].iloc[i] = df['PROI'].iloc[i] + 0.05\n",
        "\n",
        "      \n",
        "  print(df['ROI'].describe())\n",
        "\n",
        "  return df['PROI']\n"
      ],
      "metadata": {
        "id": "Ejr_VpslKSfo"
      },
      "execution_count": 40,
      "outputs": []
    },
    {
      "cell_type": "code",
      "source": [
        "df['PROI']=PROI(df)\n",
        "df.head()"
      ],
      "metadata": {
        "colab": {
          "base_uri": "https://localhost:8080/",
          "height": 1000
        },
        "id": "DyUAoU6kKW2D",
        "outputId": "5d1123dd-ea82-494a-9912-f28d1208e5fa"
      },
      "execution_count": 41,
      "outputs": [
        {
          "output_type": "stream",
          "name": "stderr",
          "text": [
            "<ipython-input-40-9470ce97be2f>:15: SettingWithCopyWarning: \n",
            "A value is trying to be set on a copy of a slice from a DataFrame\n",
            "\n",
            "See the caveats in the documentation: https://pandas.pydata.org/pandas-docs/stable/user_guide/indexing.html#returning-a-view-versus-a-copy\n",
            "  df['PROI'].iloc[i] = df['PROI'].iloc[i] + 0.05\n",
            "<ipython-input-40-9470ce97be2f>:28: SettingWithCopyWarning: \n",
            "A value is trying to be set on a copy of a slice from a DataFrame\n",
            "\n",
            "See the caveats in the documentation: https://pandas.pydata.org/pandas-docs/stable/user_guide/indexing.html#returning-a-view-versus-a-copy\n",
            "  df['PROI'].iloc[i] = df['PROI'].iloc[i] + 0.05\n",
            "<ipython-input-40-9470ce97be2f>:19: SettingWithCopyWarning: \n",
            "A value is trying to be set on a copy of a slice from a DataFrame\n",
            "\n",
            "See the caveats in the documentation: https://pandas.pydata.org/pandas-docs/stable/user_guide/indexing.html#returning-a-view-versus-a-copy\n",
            "  df['PROI'].iloc[i] = df['PROI'].iloc[i] - 0.1\n",
            "<ipython-input-40-9470ce97be2f>:36: SettingWithCopyWarning: \n",
            "A value is trying to be set on a copy of a slice from a DataFrame\n",
            "\n",
            "See the caveats in the documentation: https://pandas.pydata.org/pandas-docs/stable/user_guide/indexing.html#returning-a-view-versus-a-copy\n",
            "  df['PROI'].iloc[i] = df['PROI'].iloc[i] + 0.05\n",
            "<ipython-input-40-9470ce97be2f>:30: SettingWithCopyWarning: \n",
            "A value is trying to be set on a copy of a slice from a DataFrame\n",
            "\n",
            "See the caveats in the documentation: https://pandas.pydata.org/pandas-docs/stable/user_guide/indexing.html#returning-a-view-versus-a-copy\n",
            "  df['PROI'].iloc[i] = df['PROI'].iloc[i] + 0.05\n",
            "<ipython-input-40-9470ce97be2f>:13: SettingWithCopyWarning: \n",
            "A value is trying to be set on a copy of a slice from a DataFrame\n",
            "\n",
            "See the caveats in the documentation: https://pandas.pydata.org/pandas-docs/stable/user_guide/indexing.html#returning-a-view-versus-a-copy\n",
            "  df['PROI'].iloc[i] = df['PROI'].iloc[i] + 0.05\n",
            "<ipython-input-40-9470ce97be2f>:17: SettingWithCopyWarning: \n",
            "A value is trying to be set on a copy of a slice from a DataFrame\n",
            "\n",
            "See the caveats in the documentation: https://pandas.pydata.org/pandas-docs/stable/user_guide/indexing.html#returning-a-view-versus-a-copy\n",
            "  df['PROI'].iloc[i] = df['PROI'].iloc[i] - 0.05\n",
            "<ipython-input-40-9470ce97be2f>:34: SettingWithCopyWarning: \n",
            "A value is trying to be set on a copy of a slice from a DataFrame\n",
            "\n",
            "See the caveats in the documentation: https://pandas.pydata.org/pandas-docs/stable/user_guide/indexing.html#returning-a-view-versus-a-copy\n",
            "  df['PROI'].iloc[i] = df['PROI'].iloc[i] + 0.1\n",
            "<ipython-input-40-9470ce97be2f>:23: SettingWithCopyWarning: \n",
            "A value is trying to be set on a copy of a slice from a DataFrame\n",
            "\n",
            "See the caveats in the documentation: https://pandas.pydata.org/pandas-docs/stable/user_guide/indexing.html#returning-a-view-versus-a-copy\n",
            "  df['PROI'].iloc[i] = df['PROI'].iloc[i] + 0.05\n"
          ]
        },
        {
          "output_type": "stream",
          "name": "stdout",
          "text": [
            "count    42789.000000\n",
            "mean         0.164418\n",
            "std          0.055886\n",
            "min          0.000000\n",
            "25%          0.121651\n",
            "50%          0.165972\n",
            "75%          0.212536\n",
            "max          0.332220\n",
            "Name: ROI, dtype: float64\n"
          ]
        },
        {
          "output_type": "execute_result",
          "data": {
            "text/plain": [
              "                 ListingKey  ListingNumber            ListingCreationDate  \\\n",
              "0   1021339766868145413AB3B       193129.0  2007-08-26 19:09:29.263000000   \n",
              "2   0EE9337825851032864889A        81716.0  2007-01-05 15:00:47.090000000   \n",
              "11  0F1734025150298088A5F2B       213551.0  2007-10-09 20:28:33.640000000   \n",
              "12  0F1A3597143888805163EF7      1081604.0  2013-12-15 20:01:10.757000000   \n",
              "15  0F483544120452347F48121       577164.0  2012-04-10 09:14:46.297000000   \n",
              "\n",
              "   CreditGrade  Term     LoanStatus ClosedDate  BorrowerAPR  BorrowerRate  \\\n",
              "0            C  36.0  Non-Defaulted 2009-08-14      0.16516        0.1580   \n",
              "2           HR  36.0  Non-Defaulted 2009-12-17      0.28269        0.2750   \n",
              "11           C  36.0  Non-Defaulted 2008-01-07      0.15033        0.1325   \n",
              "12           C  36.0  Non-Defaulted 2014-03-04      0.17969        0.1435   \n",
              "15           C  36.0  Non-Defaulted 2012-12-19      0.35797        0.3177   \n",
              "\n",
              "    LenderYield  ...  𝐿𝑜𝑎𝑛𝐷𝑎𝑡𝑒𝑦𝑒𝑎𝑟  month  𝑀𝑎𝑡𝑢𝑟𝑖𝑡𝑦𝐷𝑎𝑡𝑂𝑟𝑖𝑔𝑖𝑛𝑎𝑙𝑦𝑒𝑎𝑟  \\\n",
              "0        0.1380  ...          2009      8                     2007   \n",
              "2        0.2400  ...          2009     12                     2007   \n",
              "11       0.1225  ...          2008      1                     2007   \n",
              "12       0.1335  ...          2014      3                     2014   \n",
              "15       0.3077  ...          2012     12                     2012   \n",
              "\n",
              "    𝑀𝑎𝑡𝑢𝑟𝑖𝑡𝑦𝐷𝑎𝑡𝑒𝑂𝑟𝑖𝑔𝑖𝑛𝑎𝑙𝑚𝑜𝑛𝑡ℎ LoanTenure        EMI  InterestAmount  \\\n",
              "0                           9        -25 -39.035716        1489.150   \n",
              "2                           1        -13 -36.629126         825.275   \n",
              "11                         10        -21 -10.482906         132.500   \n",
              "12                          1          2  54.072767         574.000   \n",
              "15                          4          8  74.875277        1270.800   \n",
              "\n",
              "   TotalAmount       ROI      PROI  \n",
              "0    10914.150  0.136442  0.165972  \n",
              "2     3826.275  0.215686  0.215972  \n",
              "11    1132.500  0.116998  0.165972  \n",
              "12    4574.000  0.125492  0.165972  \n",
              "15    5270.800  0.241102  0.215972  \n",
              "\n",
              "[5 rows x 91 columns]"
            ],
            "text/html": [
              "\n",
              "  <div id=\"df-da57741e-baeb-499a-bf13-498bef69f98d\">\n",
              "    <div class=\"colab-df-container\">\n",
              "      <div>\n",
              "<style scoped>\n",
              "    .dataframe tbody tr th:only-of-type {\n",
              "        vertical-align: middle;\n",
              "    }\n",
              "\n",
              "    .dataframe tbody tr th {\n",
              "        vertical-align: top;\n",
              "    }\n",
              "\n",
              "    .dataframe thead th {\n",
              "        text-align: right;\n",
              "    }\n",
              "</style>\n",
              "<table border=\"1\" class=\"dataframe\">\n",
              "  <thead>\n",
              "    <tr style=\"text-align: right;\">\n",
              "      <th></th>\n",
              "      <th>ListingKey</th>\n",
              "      <th>ListingNumber</th>\n",
              "      <th>ListingCreationDate</th>\n",
              "      <th>CreditGrade</th>\n",
              "      <th>Term</th>\n",
              "      <th>LoanStatus</th>\n",
              "      <th>ClosedDate</th>\n",
              "      <th>BorrowerAPR</th>\n",
              "      <th>BorrowerRate</th>\n",
              "      <th>LenderYield</th>\n",
              "      <th>...</th>\n",
              "      <th>𝐿𝑜𝑎𝑛𝐷𝑎𝑡𝑒𝑦𝑒𝑎𝑟</th>\n",
              "      <th>month</th>\n",
              "      <th>𝑀𝑎𝑡𝑢𝑟𝑖𝑡𝑦𝐷𝑎𝑡𝑂𝑟𝑖𝑔𝑖𝑛𝑎𝑙𝑦𝑒𝑎𝑟</th>\n",
              "      <th>𝑀𝑎𝑡𝑢𝑟𝑖𝑡𝑦𝐷𝑎𝑡𝑒𝑂𝑟𝑖𝑔𝑖𝑛𝑎𝑙𝑚𝑜𝑛𝑡ℎ</th>\n",
              "      <th>LoanTenure</th>\n",
              "      <th>EMI</th>\n",
              "      <th>InterestAmount</th>\n",
              "      <th>TotalAmount</th>\n",
              "      <th>ROI</th>\n",
              "      <th>PROI</th>\n",
              "    </tr>\n",
              "  </thead>\n",
              "  <tbody>\n",
              "    <tr>\n",
              "      <th>0</th>\n",
              "      <td>1021339766868145413AB3B</td>\n",
              "      <td>193129.0</td>\n",
              "      <td>2007-08-26 19:09:29.263000000</td>\n",
              "      <td>C</td>\n",
              "      <td>36.0</td>\n",
              "      <td>Non-Defaulted</td>\n",
              "      <td>2009-08-14</td>\n",
              "      <td>0.16516</td>\n",
              "      <td>0.1580</td>\n",
              "      <td>0.1380</td>\n",
              "      <td>...</td>\n",
              "      <td>2009</td>\n",
              "      <td>8</td>\n",
              "      <td>2007</td>\n",
              "      <td>9</td>\n",
              "      <td>-25</td>\n",
              "      <td>-39.035716</td>\n",
              "      <td>1489.150</td>\n",
              "      <td>10914.150</td>\n",
              "      <td>0.136442</td>\n",
              "      <td>0.165972</td>\n",
              "    </tr>\n",
              "    <tr>\n",
              "      <th>2</th>\n",
              "      <td>0EE9337825851032864889A</td>\n",
              "      <td>81716.0</td>\n",
              "      <td>2007-01-05 15:00:47.090000000</td>\n",
              "      <td>HR</td>\n",
              "      <td>36.0</td>\n",
              "      <td>Non-Defaulted</td>\n",
              "      <td>2009-12-17</td>\n",
              "      <td>0.28269</td>\n",
              "      <td>0.2750</td>\n",
              "      <td>0.2400</td>\n",
              "      <td>...</td>\n",
              "      <td>2009</td>\n",
              "      <td>12</td>\n",
              "      <td>2007</td>\n",
              "      <td>1</td>\n",
              "      <td>-13</td>\n",
              "      <td>-36.629126</td>\n",
              "      <td>825.275</td>\n",
              "      <td>3826.275</td>\n",
              "      <td>0.215686</td>\n",
              "      <td>0.215972</td>\n",
              "    </tr>\n",
              "    <tr>\n",
              "      <th>11</th>\n",
              "      <td>0F1734025150298088A5F2B</td>\n",
              "      <td>213551.0</td>\n",
              "      <td>2007-10-09 20:28:33.640000000</td>\n",
              "      <td>C</td>\n",
              "      <td>36.0</td>\n",
              "      <td>Non-Defaulted</td>\n",
              "      <td>2008-01-07</td>\n",
              "      <td>0.15033</td>\n",
              "      <td>0.1325</td>\n",
              "      <td>0.1225</td>\n",
              "      <td>...</td>\n",
              "      <td>2008</td>\n",
              "      <td>1</td>\n",
              "      <td>2007</td>\n",
              "      <td>10</td>\n",
              "      <td>-21</td>\n",
              "      <td>-10.482906</td>\n",
              "      <td>132.500</td>\n",
              "      <td>1132.500</td>\n",
              "      <td>0.116998</td>\n",
              "      <td>0.165972</td>\n",
              "    </tr>\n",
              "    <tr>\n",
              "      <th>12</th>\n",
              "      <td>0F1A3597143888805163EF7</td>\n",
              "      <td>1081604.0</td>\n",
              "      <td>2013-12-15 20:01:10.757000000</td>\n",
              "      <td>C</td>\n",
              "      <td>36.0</td>\n",
              "      <td>Non-Defaulted</td>\n",
              "      <td>2014-03-04</td>\n",
              "      <td>0.17969</td>\n",
              "      <td>0.1435</td>\n",
              "      <td>0.1335</td>\n",
              "      <td>...</td>\n",
              "      <td>2014</td>\n",
              "      <td>3</td>\n",
              "      <td>2014</td>\n",
              "      <td>1</td>\n",
              "      <td>2</td>\n",
              "      <td>54.072767</td>\n",
              "      <td>574.000</td>\n",
              "      <td>4574.000</td>\n",
              "      <td>0.125492</td>\n",
              "      <td>0.165972</td>\n",
              "    </tr>\n",
              "    <tr>\n",
              "      <th>15</th>\n",
              "      <td>0F483544120452347F48121</td>\n",
              "      <td>577164.0</td>\n",
              "      <td>2012-04-10 09:14:46.297000000</td>\n",
              "      <td>C</td>\n",
              "      <td>36.0</td>\n",
              "      <td>Non-Defaulted</td>\n",
              "      <td>2012-12-19</td>\n",
              "      <td>0.35797</td>\n",
              "      <td>0.3177</td>\n",
              "      <td>0.3077</td>\n",
              "      <td>...</td>\n",
              "      <td>2012</td>\n",
              "      <td>12</td>\n",
              "      <td>2012</td>\n",
              "      <td>4</td>\n",
              "      <td>8</td>\n",
              "      <td>74.875277</td>\n",
              "      <td>1270.800</td>\n",
              "      <td>5270.800</td>\n",
              "      <td>0.241102</td>\n",
              "      <td>0.215972</td>\n",
              "    </tr>\n",
              "  </tbody>\n",
              "</table>\n",
              "<p>5 rows × 91 columns</p>\n",
              "</div>\n",
              "      <button class=\"colab-df-convert\" onclick=\"convertToInteractive('df-da57741e-baeb-499a-bf13-498bef69f98d')\"\n",
              "              title=\"Convert this dataframe to an interactive table.\"\n",
              "              style=\"display:none;\">\n",
              "        \n",
              "  <svg xmlns=\"http://www.w3.org/2000/svg\" height=\"24px\"viewBox=\"0 0 24 24\"\n",
              "       width=\"24px\">\n",
              "    <path d=\"M0 0h24v24H0V0z\" fill=\"none\"/>\n",
              "    <path d=\"M18.56 5.44l.94 2.06.94-2.06 2.06-.94-2.06-.94-.94-2.06-.94 2.06-2.06.94zm-11 1L8.5 8.5l.94-2.06 2.06-.94-2.06-.94L8.5 2.5l-.94 2.06-2.06.94zm10 10l.94 2.06.94-2.06 2.06-.94-2.06-.94-.94-2.06-.94 2.06-2.06.94z\"/><path d=\"M17.41 7.96l-1.37-1.37c-.4-.4-.92-.59-1.43-.59-.52 0-1.04.2-1.43.59L10.3 9.45l-7.72 7.72c-.78.78-.78 2.05 0 2.83L4 21.41c.39.39.9.59 1.41.59.51 0 1.02-.2 1.41-.59l7.78-7.78 2.81-2.81c.8-.78.8-2.07 0-2.86zM5.41 20L4 18.59l7.72-7.72 1.47 1.35L5.41 20z\"/>\n",
              "  </svg>\n",
              "      </button>\n",
              "      \n",
              "  <style>\n",
              "    .colab-df-container {\n",
              "      display:flex;\n",
              "      flex-wrap:wrap;\n",
              "      gap: 12px;\n",
              "    }\n",
              "\n",
              "    .colab-df-convert {\n",
              "      background-color: #E8F0FE;\n",
              "      border: none;\n",
              "      border-radius: 50%;\n",
              "      cursor: pointer;\n",
              "      display: none;\n",
              "      fill: #1967D2;\n",
              "      height: 32px;\n",
              "      padding: 0 0 0 0;\n",
              "      width: 32px;\n",
              "    }\n",
              "\n",
              "    .colab-df-convert:hover {\n",
              "      background-color: #E2EBFA;\n",
              "      box-shadow: 0px 1px 2px rgba(60, 64, 67, 0.3), 0px 1px 3px 1px rgba(60, 64, 67, 0.15);\n",
              "      fill: #174EA6;\n",
              "    }\n",
              "\n",
              "    [theme=dark] .colab-df-convert {\n",
              "      background-color: #3B4455;\n",
              "      fill: #D2E3FC;\n",
              "    }\n",
              "\n",
              "    [theme=dark] .colab-df-convert:hover {\n",
              "      background-color: #434B5C;\n",
              "      box-shadow: 0px 1px 3px 1px rgba(0, 0, 0, 0.15);\n",
              "      filter: drop-shadow(0px 1px 2px rgba(0, 0, 0, 0.3));\n",
              "      fill: #FFFFFF;\n",
              "    }\n",
              "  </style>\n",
              "\n",
              "      <script>\n",
              "        const buttonEl =\n",
              "          document.querySelector('#df-da57741e-baeb-499a-bf13-498bef69f98d button.colab-df-convert');\n",
              "        buttonEl.style.display =\n",
              "          google.colab.kernel.accessAllowed ? 'block' : 'none';\n",
              "\n",
              "        async function convertToInteractive(key) {\n",
              "          const element = document.querySelector('#df-da57741e-baeb-499a-bf13-498bef69f98d');\n",
              "          const dataTable =\n",
              "            await google.colab.kernel.invokeFunction('convertToInteractive',\n",
              "                                                     [key], {});\n",
              "          if (!dataTable) return;\n",
              "\n",
              "          const docLinkHtml = 'Like what you see? Visit the ' +\n",
              "            '<a target=\"_blank\" href=https://colab.research.google.com/notebooks/data_table.ipynb>data table notebook</a>'\n",
              "            + ' to learn more about interactive tables.';\n",
              "          element.innerHTML = '';\n",
              "          dataTable['output_type'] = 'display_data';\n",
              "          await google.colab.output.renderOutput(dataTable, element);\n",
              "          const docLink = document.createElement('div');\n",
              "          docLink.innerHTML = docLinkHtml;\n",
              "          element.appendChild(docLink);\n",
              "        }\n",
              "      </script>\n",
              "    </div>\n",
              "  </div>\n",
              "  "
            ]
          },
          "metadata": {},
          "execution_count": 41
        }
      ]
    },
    {
      "cell_type": "markdown",
      "source": [
        "## 3-Elgible Loan Amount (ELA)\n",
        "\n",
        "Components of ELA:\n",
        " \n",
        " * A: 'AppliedAmount' --> **LoanOriginalAmount**\n",
        " * R: 'Interest' --> **BorrowerRate**\n",
        " * N: 'LoanTenure' --> **LoanTenure**\n",
        " * I: 'IncomeTotal' --> **StatedMonthlyIncome**"
      ],
      "metadata": {
        "id": "90pRVGXrKi58"
      }
    },
    {
      "cell_type": "code",
      "source": [
        "ela_cols = ['DebtToIncomeRatio' , 'IncomeRange' , 'IncomeVerifiable' , 'StatedMonthlyIncome']\n",
        "\n",
        "df[ela_cols].head()"
      ],
      "metadata": {
        "colab": {
          "base_uri": "https://localhost:8080/",
          "height": 206
        },
        "id": "ZeHXdBHiKgc7",
        "outputId": "915e4290-5080-40ef-aa8d-4871cc5bda72"
      },
      "execution_count": 42,
      "outputs": [
        {
          "output_type": "execute_result",
          "data": {
            "text/plain": [
              "    DebtToIncomeRatio     IncomeRange  IncomeVerifiable  StatedMonthlyIncome\n",
              "0                0.17  $25,000-49,999              True          3083.333333\n",
              "2                0.06   Not displayed              True          2083.333333\n",
              "11               0.27       $1-24,999              True          1666.666667\n",
              "12               0.18  $25,000-49,999              True          2416.666667\n",
              "15               0.49  $50,000-74,999              True          5500.000000"
            ],
            "text/html": [
              "\n",
              "  <div id=\"df-22d0614c-2499-47a7-921f-8d5112e62f0d\">\n",
              "    <div class=\"colab-df-container\">\n",
              "      <div>\n",
              "<style scoped>\n",
              "    .dataframe tbody tr th:only-of-type {\n",
              "        vertical-align: middle;\n",
              "    }\n",
              "\n",
              "    .dataframe tbody tr th {\n",
              "        vertical-align: top;\n",
              "    }\n",
              "\n",
              "    .dataframe thead th {\n",
              "        text-align: right;\n",
              "    }\n",
              "</style>\n",
              "<table border=\"1\" class=\"dataframe\">\n",
              "  <thead>\n",
              "    <tr style=\"text-align: right;\">\n",
              "      <th></th>\n",
              "      <th>DebtToIncomeRatio</th>\n",
              "      <th>IncomeRange</th>\n",
              "      <th>IncomeVerifiable</th>\n",
              "      <th>StatedMonthlyIncome</th>\n",
              "    </tr>\n",
              "  </thead>\n",
              "  <tbody>\n",
              "    <tr>\n",
              "      <th>0</th>\n",
              "      <td>0.17</td>\n",
              "      <td>$25,000-49,999</td>\n",
              "      <td>True</td>\n",
              "      <td>3083.333333</td>\n",
              "    </tr>\n",
              "    <tr>\n",
              "      <th>2</th>\n",
              "      <td>0.06</td>\n",
              "      <td>Not displayed</td>\n",
              "      <td>True</td>\n",
              "      <td>2083.333333</td>\n",
              "    </tr>\n",
              "    <tr>\n",
              "      <th>11</th>\n",
              "      <td>0.27</td>\n",
              "      <td>$1-24,999</td>\n",
              "      <td>True</td>\n",
              "      <td>1666.666667</td>\n",
              "    </tr>\n",
              "    <tr>\n",
              "      <th>12</th>\n",
              "      <td>0.18</td>\n",
              "      <td>$25,000-49,999</td>\n",
              "      <td>True</td>\n",
              "      <td>2416.666667</td>\n",
              "    </tr>\n",
              "    <tr>\n",
              "      <th>15</th>\n",
              "      <td>0.49</td>\n",
              "      <td>$50,000-74,999</td>\n",
              "      <td>True</td>\n",
              "      <td>5500.000000</td>\n",
              "    </tr>\n",
              "  </tbody>\n",
              "</table>\n",
              "</div>\n",
              "      <button class=\"colab-df-convert\" onclick=\"convertToInteractive('df-22d0614c-2499-47a7-921f-8d5112e62f0d')\"\n",
              "              title=\"Convert this dataframe to an interactive table.\"\n",
              "              style=\"display:none;\">\n",
              "        \n",
              "  <svg xmlns=\"http://www.w3.org/2000/svg\" height=\"24px\"viewBox=\"0 0 24 24\"\n",
              "       width=\"24px\">\n",
              "    <path d=\"M0 0h24v24H0V0z\" fill=\"none\"/>\n",
              "    <path d=\"M18.56 5.44l.94 2.06.94-2.06 2.06-.94-2.06-.94-.94-2.06-.94 2.06-2.06.94zm-11 1L8.5 8.5l.94-2.06 2.06-.94-2.06-.94L8.5 2.5l-.94 2.06-2.06.94zm10 10l.94 2.06.94-2.06 2.06-.94-2.06-.94-.94-2.06-.94 2.06-2.06.94z\"/><path d=\"M17.41 7.96l-1.37-1.37c-.4-.4-.92-.59-1.43-.59-.52 0-1.04.2-1.43.59L10.3 9.45l-7.72 7.72c-.78.78-.78 2.05 0 2.83L4 21.41c.39.39.9.59 1.41.59.51 0 1.02-.2 1.41-.59l7.78-7.78 2.81-2.81c.8-.78.8-2.07 0-2.86zM5.41 20L4 18.59l7.72-7.72 1.47 1.35L5.41 20z\"/>\n",
              "  </svg>\n",
              "      </button>\n",
              "      \n",
              "  <style>\n",
              "    .colab-df-container {\n",
              "      display:flex;\n",
              "      flex-wrap:wrap;\n",
              "      gap: 12px;\n",
              "    }\n",
              "\n",
              "    .colab-df-convert {\n",
              "      background-color: #E8F0FE;\n",
              "      border: none;\n",
              "      border-radius: 50%;\n",
              "      cursor: pointer;\n",
              "      display: none;\n",
              "      fill: #1967D2;\n",
              "      height: 32px;\n",
              "      padding: 0 0 0 0;\n",
              "      width: 32px;\n",
              "    }\n",
              "\n",
              "    .colab-df-convert:hover {\n",
              "      background-color: #E2EBFA;\n",
              "      box-shadow: 0px 1px 2px rgba(60, 64, 67, 0.3), 0px 1px 3px 1px rgba(60, 64, 67, 0.15);\n",
              "      fill: #174EA6;\n",
              "    }\n",
              "\n",
              "    [theme=dark] .colab-df-convert {\n",
              "      background-color: #3B4455;\n",
              "      fill: #D2E3FC;\n",
              "    }\n",
              "\n",
              "    [theme=dark] .colab-df-convert:hover {\n",
              "      background-color: #434B5C;\n",
              "      box-shadow: 0px 1px 3px 1px rgba(0, 0, 0, 0.15);\n",
              "      filter: drop-shadow(0px 1px 2px rgba(0, 0, 0, 0.3));\n",
              "      fill: #FFFFFF;\n",
              "    }\n",
              "  </style>\n",
              "\n",
              "      <script>\n",
              "        const buttonEl =\n",
              "          document.querySelector('#df-22d0614c-2499-47a7-921f-8d5112e62f0d button.colab-df-convert');\n",
              "        buttonEl.style.display =\n",
              "          google.colab.kernel.accessAllowed ? 'block' : 'none';\n",
              "\n",
              "        async function convertToInteractive(key) {\n",
              "          const element = document.querySelector('#df-22d0614c-2499-47a7-921f-8d5112e62f0d');\n",
              "          const dataTable =\n",
              "            await google.colab.kernel.invokeFunction('convertToInteractive',\n",
              "                                                     [key], {});\n",
              "          if (!dataTable) return;\n",
              "\n",
              "          const docLinkHtml = 'Like what you see? Visit the ' +\n",
              "            '<a target=\"_blank\" href=https://colab.research.google.com/notebooks/data_table.ipynb>data table notebook</a>'\n",
              "            + ' to learn more about interactive tables.';\n",
              "          element.innerHTML = '';\n",
              "          dataTable['output_type'] = 'display_data';\n",
              "          await google.colab.output.renderOutput(dataTable, element);\n",
              "          const docLink = document.createElement('div');\n",
              "          docLink.innerHTML = docLinkHtml;\n",
              "          element.appendChild(docLink);\n",
              "        }\n",
              "      </script>\n",
              "    </div>\n",
              "  </div>\n",
              "  "
            ]
          },
          "metadata": {},
          "execution_count": 42
        }
      ]
    },
    {
      "cell_type": "code",
      "source": [
        "df_new = df[df['IncomeVerifiable'] == True]\n",
        "\n",
        "print(df_new.shape)\n",
        "print(df.shape[0] - df_new.shape[0])"
      ],
      "metadata": {
        "colab": {
          "base_uri": "https://localhost:8080/"
        },
        "id": "wr6coDZuKntr",
        "outputId": "85455b4d-1032-4959-b3ab-0fc6cdc975bf"
      },
      "execution_count": 43,
      "outputs": [
        {
          "output_type": "stream",
          "name": "stdout",
          "text": [
            "(39450, 91)\n",
            "3339\n"
          ]
        }
      ]
    },
    {
      "cell_type": "markdown",
      "source": [
        "Calculation Procedure for each row in the dataset: \n",
        "\n",
        "* Calculate: Total Payment Due = (A + (Ar))n\n",
        "* Calculate: Max allowable amount = I * 12 * 30%\n",
        "* If(total Payment Due <= Max allowable amount) Then ELA = AppliedAmount Else ELA = Max allowable amount"
      ],
      "metadata": {
        "id": "bj-a0GuyKr5P"
      }
    },
    {
      "cell_type": "code",
      "source": [
        "def calculate_total_payment_due(A, Ar, n):\n",
        "    return (A + (Ar))* n\n",
        "\n",
        "def calculate_max_allowable_amount(I):\n",
        "    return I * 12 * 0.3\n",
        "\n",
        "def calculate_ela(total_payment_due, max_allowable_amount, applied_amount):\n",
        "    if total_payment_due <= max_allowable_amount:\n",
        "        return applied_amount\n",
        "    else:\n",
        "        return max_allowable_amount\n",
        "\n",
        "\n",
        "ela_values = []  # Initialize an empty list to store ela values\n",
        "\n",
        "for i in range(len(df_new)):\n",
        "    row = df_new.iloc[i]\n",
        "    total_payment_due = calculate_total_payment_due(row['LoanOriginalAmount'], row['LoanOriginalAmount']*row['BorrowerRate'], row['LoanTenure'])\n",
        "    max_allowable_amount = calculate_max_allowable_amount(row['StatedMonthlyIncome'])\n",
        "    ela = calculate_ela(total_payment_due, max_allowable_amount, row['LoanOriginalAmount'])\n",
        "    ela_values.append(ela)  # Append ela value to the list\n",
        "\n",
        "df_new['EligibleLoanAmount'] = ela_values  # Assign the list of ela values to the column\n",
        "\n",
        "print(df_new['EligibleLoanAmount'])\n",
        "\n",
        "   "
      ],
      "metadata": {
        "colab": {
          "base_uri": "https://localhost:8080/"
        },
        "id": "cyzfJrZRKqA3",
        "outputId": "e7cc6dcc-7d51-40ab-ab15-cfaecffb182f"
      },
      "execution_count": 44,
      "outputs": [
        {
          "output_type": "stream",
          "name": "stdout",
          "text": [
            "0          9425.000000\n",
            "2          3001.000000\n",
            "11         1000.000000\n",
            "12         8700.000001\n",
            "15        19800.000000\n",
            "              ...     \n",
            "113914     3000.000000\n",
            "113918     7000.000000\n",
            "113923     8000.000000\n",
            "113926     3000.000000\n",
            "113929     2500.000000\n",
            "Name: EligibleLoanAmount, Length: 39450, dtype: float64\n"
          ]
        },
        {
          "output_type": "stream",
          "name": "stderr",
          "text": [
            "<ipython-input-44-e0ae3206f0d0>:23: SettingWithCopyWarning: \n",
            "A value is trying to be set on a copy of a slice from a DataFrame.\n",
            "Try using .loc[row_indexer,col_indexer] = value instead\n",
            "\n",
            "See the caveats in the documentation: https://pandas.pydata.org/pandas-docs/stable/user_guide/indexing.html#returning-a-view-versus-a-copy\n",
            "  df_new['EligibleLoanAmount'] = ela_values  # Assign the list of ela values to the column\n"
          ]
        }
      ]
    },
    {
      "cell_type": "code",
      "source": [
        "df_new.head()"
      ],
      "metadata": {
        "colab": {
          "base_uri": "https://localhost:8080/",
          "height": 386
        },
        "id": "N6I3t03MKwq3",
        "outputId": "705a2f56-0e89-490d-ad87-74eb3a1dc7e5"
      },
      "execution_count": 45,
      "outputs": [
        {
          "output_type": "execute_result",
          "data": {
            "text/plain": [
              "                 ListingKey  ListingNumber            ListingCreationDate  \\\n",
              "0   1021339766868145413AB3B       193129.0  2007-08-26 19:09:29.263000000   \n",
              "2   0EE9337825851032864889A        81716.0  2007-01-05 15:00:47.090000000   \n",
              "11  0F1734025150298088A5F2B       213551.0  2007-10-09 20:28:33.640000000   \n",
              "12  0F1A3597143888805163EF7      1081604.0  2013-12-15 20:01:10.757000000   \n",
              "15  0F483544120452347F48121       577164.0  2012-04-10 09:14:46.297000000   \n",
              "\n",
              "   CreditGrade  Term     LoanStatus ClosedDate  BorrowerAPR  BorrowerRate  \\\n",
              "0            C  36.0  Non-Defaulted 2009-08-14      0.16516        0.1580   \n",
              "2           HR  36.0  Non-Defaulted 2009-12-17      0.28269        0.2750   \n",
              "11           C  36.0  Non-Defaulted 2008-01-07      0.15033        0.1325   \n",
              "12           C  36.0  Non-Defaulted 2014-03-04      0.17969        0.1435   \n",
              "15           C  36.0  Non-Defaulted 2012-12-19      0.35797        0.3177   \n",
              "\n",
              "    LenderYield  ...  month  𝑀𝑎𝑡𝑢𝑟𝑖𝑡𝑦𝐷𝑎𝑡𝑂𝑟𝑖𝑔𝑖𝑛𝑎𝑙𝑦𝑒𝑎𝑟  \\\n",
              "0        0.1380  ...      8                     2007   \n",
              "2        0.2400  ...     12                     2007   \n",
              "11       0.1225  ...      1                     2007   \n",
              "12       0.1335  ...      3                     2014   \n",
              "15       0.3077  ...     12                     2012   \n",
              "\n",
              "    𝑀𝑎𝑡𝑢𝑟𝑖𝑡𝑦𝐷𝑎𝑡𝑒𝑂𝑟𝑖𝑔𝑖𝑛𝑎𝑙𝑚𝑜𝑛𝑡ℎ  LoanTenure        EMI  InterestAmount  \\\n",
              "0                           9         -25 -39.035716        1489.150   \n",
              "2                           1         -13 -36.629126         825.275   \n",
              "11                         10         -21 -10.482906         132.500   \n",
              "12                          1           2  54.072767         574.000   \n",
              "15                          4           8  74.875277        1270.800   \n",
              "\n",
              "    TotalAmount       ROI      PROI EligibleLoanAmount  \n",
              "0     10914.150  0.136442  0.165972        9425.000000  \n",
              "2      3826.275  0.215686  0.215972        3001.000000  \n",
              "11     1132.500  0.116998  0.165972        1000.000000  \n",
              "12     4574.000  0.125492  0.165972        8700.000001  \n",
              "15     5270.800  0.241102  0.215972       19800.000000  \n",
              "\n",
              "[5 rows x 92 columns]"
            ],
            "text/html": [
              "\n",
              "  <div id=\"df-60becbfd-9d97-490a-b40a-ca2afbe7b0e0\">\n",
              "    <div class=\"colab-df-container\">\n",
              "      <div>\n",
              "<style scoped>\n",
              "    .dataframe tbody tr th:only-of-type {\n",
              "        vertical-align: middle;\n",
              "    }\n",
              "\n",
              "    .dataframe tbody tr th {\n",
              "        vertical-align: top;\n",
              "    }\n",
              "\n",
              "    .dataframe thead th {\n",
              "        text-align: right;\n",
              "    }\n",
              "</style>\n",
              "<table border=\"1\" class=\"dataframe\">\n",
              "  <thead>\n",
              "    <tr style=\"text-align: right;\">\n",
              "      <th></th>\n",
              "      <th>ListingKey</th>\n",
              "      <th>ListingNumber</th>\n",
              "      <th>ListingCreationDate</th>\n",
              "      <th>CreditGrade</th>\n",
              "      <th>Term</th>\n",
              "      <th>LoanStatus</th>\n",
              "      <th>ClosedDate</th>\n",
              "      <th>BorrowerAPR</th>\n",
              "      <th>BorrowerRate</th>\n",
              "      <th>LenderYield</th>\n",
              "      <th>...</th>\n",
              "      <th>month</th>\n",
              "      <th>𝑀𝑎𝑡𝑢𝑟𝑖𝑡𝑦𝐷𝑎𝑡𝑂𝑟𝑖𝑔𝑖𝑛𝑎𝑙𝑦𝑒𝑎𝑟</th>\n",
              "      <th>𝑀𝑎𝑡𝑢𝑟𝑖𝑡𝑦𝐷𝑎𝑡𝑒𝑂𝑟𝑖𝑔𝑖𝑛𝑎𝑙𝑚𝑜𝑛𝑡ℎ</th>\n",
              "      <th>LoanTenure</th>\n",
              "      <th>EMI</th>\n",
              "      <th>InterestAmount</th>\n",
              "      <th>TotalAmount</th>\n",
              "      <th>ROI</th>\n",
              "      <th>PROI</th>\n",
              "      <th>EligibleLoanAmount</th>\n",
              "    </tr>\n",
              "  </thead>\n",
              "  <tbody>\n",
              "    <tr>\n",
              "      <th>0</th>\n",
              "      <td>1021339766868145413AB3B</td>\n",
              "      <td>193129.0</td>\n",
              "      <td>2007-08-26 19:09:29.263000000</td>\n",
              "      <td>C</td>\n",
              "      <td>36.0</td>\n",
              "      <td>Non-Defaulted</td>\n",
              "      <td>2009-08-14</td>\n",
              "      <td>0.16516</td>\n",
              "      <td>0.1580</td>\n",
              "      <td>0.1380</td>\n",
              "      <td>...</td>\n",
              "      <td>8</td>\n",
              "      <td>2007</td>\n",
              "      <td>9</td>\n",
              "      <td>-25</td>\n",
              "      <td>-39.035716</td>\n",
              "      <td>1489.150</td>\n",
              "      <td>10914.150</td>\n",
              "      <td>0.136442</td>\n",
              "      <td>0.165972</td>\n",
              "      <td>9425.000000</td>\n",
              "    </tr>\n",
              "    <tr>\n",
              "      <th>2</th>\n",
              "      <td>0EE9337825851032864889A</td>\n",
              "      <td>81716.0</td>\n",
              "      <td>2007-01-05 15:00:47.090000000</td>\n",
              "      <td>HR</td>\n",
              "      <td>36.0</td>\n",
              "      <td>Non-Defaulted</td>\n",
              "      <td>2009-12-17</td>\n",
              "      <td>0.28269</td>\n",
              "      <td>0.2750</td>\n",
              "      <td>0.2400</td>\n",
              "      <td>...</td>\n",
              "      <td>12</td>\n",
              "      <td>2007</td>\n",
              "      <td>1</td>\n",
              "      <td>-13</td>\n",
              "      <td>-36.629126</td>\n",
              "      <td>825.275</td>\n",
              "      <td>3826.275</td>\n",
              "      <td>0.215686</td>\n",
              "      <td>0.215972</td>\n",
              "      <td>3001.000000</td>\n",
              "    </tr>\n",
              "    <tr>\n",
              "      <th>11</th>\n",
              "      <td>0F1734025150298088A5F2B</td>\n",
              "      <td>213551.0</td>\n",
              "      <td>2007-10-09 20:28:33.640000000</td>\n",
              "      <td>C</td>\n",
              "      <td>36.0</td>\n",
              "      <td>Non-Defaulted</td>\n",
              "      <td>2008-01-07</td>\n",
              "      <td>0.15033</td>\n",
              "      <td>0.1325</td>\n",
              "      <td>0.1225</td>\n",
              "      <td>...</td>\n",
              "      <td>1</td>\n",
              "      <td>2007</td>\n",
              "      <td>10</td>\n",
              "      <td>-21</td>\n",
              "      <td>-10.482906</td>\n",
              "      <td>132.500</td>\n",
              "      <td>1132.500</td>\n",
              "      <td>0.116998</td>\n",
              "      <td>0.165972</td>\n",
              "      <td>1000.000000</td>\n",
              "    </tr>\n",
              "    <tr>\n",
              "      <th>12</th>\n",
              "      <td>0F1A3597143888805163EF7</td>\n",
              "      <td>1081604.0</td>\n",
              "      <td>2013-12-15 20:01:10.757000000</td>\n",
              "      <td>C</td>\n",
              "      <td>36.0</td>\n",
              "      <td>Non-Defaulted</td>\n",
              "      <td>2014-03-04</td>\n",
              "      <td>0.17969</td>\n",
              "      <td>0.1435</td>\n",
              "      <td>0.1335</td>\n",
              "      <td>...</td>\n",
              "      <td>3</td>\n",
              "      <td>2014</td>\n",
              "      <td>1</td>\n",
              "      <td>2</td>\n",
              "      <td>54.072767</td>\n",
              "      <td>574.000</td>\n",
              "      <td>4574.000</td>\n",
              "      <td>0.125492</td>\n",
              "      <td>0.165972</td>\n",
              "      <td>8700.000001</td>\n",
              "    </tr>\n",
              "    <tr>\n",
              "      <th>15</th>\n",
              "      <td>0F483544120452347F48121</td>\n",
              "      <td>577164.0</td>\n",
              "      <td>2012-04-10 09:14:46.297000000</td>\n",
              "      <td>C</td>\n",
              "      <td>36.0</td>\n",
              "      <td>Non-Defaulted</td>\n",
              "      <td>2012-12-19</td>\n",
              "      <td>0.35797</td>\n",
              "      <td>0.3177</td>\n",
              "      <td>0.3077</td>\n",
              "      <td>...</td>\n",
              "      <td>12</td>\n",
              "      <td>2012</td>\n",
              "      <td>4</td>\n",
              "      <td>8</td>\n",
              "      <td>74.875277</td>\n",
              "      <td>1270.800</td>\n",
              "      <td>5270.800</td>\n",
              "      <td>0.241102</td>\n",
              "      <td>0.215972</td>\n",
              "      <td>19800.000000</td>\n",
              "    </tr>\n",
              "  </tbody>\n",
              "</table>\n",
              "<p>5 rows × 92 columns</p>\n",
              "</div>\n",
              "      <button class=\"colab-df-convert\" onclick=\"convertToInteractive('df-60becbfd-9d97-490a-b40a-ca2afbe7b0e0')\"\n",
              "              title=\"Convert this dataframe to an interactive table.\"\n",
              "              style=\"display:none;\">\n",
              "        \n",
              "  <svg xmlns=\"http://www.w3.org/2000/svg\" height=\"24px\"viewBox=\"0 0 24 24\"\n",
              "       width=\"24px\">\n",
              "    <path d=\"M0 0h24v24H0V0z\" fill=\"none\"/>\n",
              "    <path d=\"M18.56 5.44l.94 2.06.94-2.06 2.06-.94-2.06-.94-.94-2.06-.94 2.06-2.06.94zm-11 1L8.5 8.5l.94-2.06 2.06-.94-2.06-.94L8.5 2.5l-.94 2.06-2.06.94zm10 10l.94 2.06.94-2.06 2.06-.94-2.06-.94-.94-2.06-.94 2.06-2.06.94z\"/><path d=\"M17.41 7.96l-1.37-1.37c-.4-.4-.92-.59-1.43-.59-.52 0-1.04.2-1.43.59L10.3 9.45l-7.72 7.72c-.78.78-.78 2.05 0 2.83L4 21.41c.39.39.9.59 1.41.59.51 0 1.02-.2 1.41-.59l7.78-7.78 2.81-2.81c.8-.78.8-2.07 0-2.86zM5.41 20L4 18.59l7.72-7.72 1.47 1.35L5.41 20z\"/>\n",
              "  </svg>\n",
              "      </button>\n",
              "      \n",
              "  <style>\n",
              "    .colab-df-container {\n",
              "      display:flex;\n",
              "      flex-wrap:wrap;\n",
              "      gap: 12px;\n",
              "    }\n",
              "\n",
              "    .colab-df-convert {\n",
              "      background-color: #E8F0FE;\n",
              "      border: none;\n",
              "      border-radius: 50%;\n",
              "      cursor: pointer;\n",
              "      display: none;\n",
              "      fill: #1967D2;\n",
              "      height: 32px;\n",
              "      padding: 0 0 0 0;\n",
              "      width: 32px;\n",
              "    }\n",
              "\n",
              "    .colab-df-convert:hover {\n",
              "      background-color: #E2EBFA;\n",
              "      box-shadow: 0px 1px 2px rgba(60, 64, 67, 0.3), 0px 1px 3px 1px rgba(60, 64, 67, 0.15);\n",
              "      fill: #174EA6;\n",
              "    }\n",
              "\n",
              "    [theme=dark] .colab-df-convert {\n",
              "      background-color: #3B4455;\n",
              "      fill: #D2E3FC;\n",
              "    }\n",
              "\n",
              "    [theme=dark] .colab-df-convert:hover {\n",
              "      background-color: #434B5C;\n",
              "      box-shadow: 0px 1px 3px 1px rgba(0, 0, 0, 0.15);\n",
              "      filter: drop-shadow(0px 1px 2px rgba(0, 0, 0, 0.3));\n",
              "      fill: #FFFFFF;\n",
              "    }\n",
              "  </style>\n",
              "\n",
              "      <script>\n",
              "        const buttonEl =\n",
              "          document.querySelector('#df-60becbfd-9d97-490a-b40a-ca2afbe7b0e0 button.colab-df-convert');\n",
              "        buttonEl.style.display =\n",
              "          google.colab.kernel.accessAllowed ? 'block' : 'none';\n",
              "\n",
              "        async function convertToInteractive(key) {\n",
              "          const element = document.querySelector('#df-60becbfd-9d97-490a-b40a-ca2afbe7b0e0');\n",
              "          const dataTable =\n",
              "            await google.colab.kernel.invokeFunction('convertToInteractive',\n",
              "                                                     [key], {});\n",
              "          if (!dataTable) return;\n",
              "\n",
              "          const docLinkHtml = 'Like what you see? Visit the ' +\n",
              "            '<a target=\"_blank\" href=https://colab.research.google.com/notebooks/data_table.ipynb>data table notebook</a>'\n",
              "            + ' to learn more about interactive tables.';\n",
              "          element.innerHTML = '';\n",
              "          dataTable['output_type'] = 'display_data';\n",
              "          await google.colab.output.renderOutput(dataTable, element);\n",
              "          const docLink = document.createElement('div');\n",
              "          docLink.innerHTML = docLinkHtml;\n",
              "          element.appendChild(docLink);\n",
              "        }\n",
              "      </script>\n",
              "    </div>\n",
              "  </div>\n",
              "  "
            ]
          },
          "metadata": {},
          "execution_count": 45
        }
      ]
    },
    {
      "cell_type": "code",
      "source": [
        "cols_emi= ['LP_CustomerPayments' , 'LP_CustomerPrincipalPayments',\n",
        "        '𝐿𝑜𝑎𝑛𝐷𝑎𝑡𝑒𝑦𝑒𝑎𝑟','month','𝑀𝑎𝑡𝑢𝑟𝑖𝑡𝑦𝐷𝑎𝑡𝑂𝑟𝑖𝑔𝑖𝑛𝑎𝑙𝑦𝑒𝑎𝑟','𝑀𝑎𝑡𝑢𝑟𝑖𝑡𝑦𝐷𝑎𝑡𝑒𝑂𝑟𝑖𝑔𝑖𝑛𝑎𝑙𝑚𝑜𝑛𝑡ℎ',\n",
        "        'LP_CustomerPrincipalPayments','BorrowerRate']"
      ],
      "metadata": {
        "id": "8k0c8pzt5KF9"
      },
      "execution_count": 99,
      "outputs": []
    },
    {
      "cell_type": "code",
      "source": [
        "from sklearn.linear_model import LinearRegression\n",
        "from sklearn.model_selection import train_test_split"
      ],
      "metadata": {
        "id": "ePI0afh_0h3x"
      },
      "execution_count": 100,
      "outputs": []
    },
    {
      "cell_type": "code",
      "source": [
        "df_model = df_new"
      ],
      "metadata": {
        "id": "1reG4ZKF2Lrl"
      },
      "execution_count": 101,
      "outputs": []
    },
    {
      "cell_type": "code",
      "source": [
        "df_model=df_model.fillna(0)"
      ],
      "metadata": {
        "id": "t6o_3WOD25r8"
      },
      "execution_count": 102,
      "outputs": []
    },
    {
      "cell_type": "code",
      "source": [
        "df_model['EMI'].replace([np.inf, -np.inf], np.nan, inplace=True)"
      ],
      "metadata": {
        "id": "9FhidvOX3D1-"
      },
      "execution_count": 103,
      "outputs": []
    },
    {
      "cell_type": "code",
      "source": [
        "df_model['EMI'].isna().any()"
      ],
      "metadata": {
        "colab": {
          "base_uri": "https://localhost:8080/"
        },
        "id": "px7y4tqJ3MEH",
        "outputId": "e3366cf6-25c0-46a0-a04d-61d30dc53a50"
      },
      "execution_count": 104,
      "outputs": [
        {
          "output_type": "execute_result",
          "data": {
            "text/plain": [
              "True"
            ]
          },
          "metadata": {},
          "execution_count": 104
        }
      ]
    },
    {
      "cell_type": "code",
      "source": [
        "df_model=df_model.fillna(0)"
      ],
      "metadata": {
        "id": "J0M2-EQz3TTN"
      },
      "execution_count": 105,
      "outputs": []
    },
    {
      "cell_type": "code",
      "source": [
        "#Assign X and y\n",
        "X = df_model[cols_emi].values\n",
        "y = df_model['EMI'].values"
      ],
      "metadata": {
        "id": "ZCIlTHoj2IUV"
      },
      "execution_count": 106,
      "outputs": []
    },
    {
      "cell_type": "code",
      "source": [
        "#split\n",
        "X_train, X_test, y_train, y_test = train_test_split(X, y, test_size=0.3, random_state=42)\n",
        "\n",
        "# Fit linear regression model\n",
        "lr = LinearRegression()\n",
        "lr.fit(X_train, y_train)\n",
        "\n",
        "# Evaluating the model \n",
        "print(\"Training accuracy for EMI=\", lr.score(X_train, y_train))\n",
        "print(\"Testing accuracy for EMI=\", lr.score(X_test, y_test))"
      ],
      "metadata": {
        "colab": {
          "base_uri": "https://localhost:8080/"
        },
        "id": "QqC4g71H2qkY",
        "outputId": "7f349a60-47dc-4e35-a008-af6b5cdeb4af"
      },
      "execution_count": 107,
      "outputs": [
        {
          "output_type": "stream",
          "name": "stdout",
          "text": [
            "Training accuracy for EMI= 0.22065791717398986\n",
            "Testing accuracy for EMI= 0.21881099714470198\n"
          ]
        }
      ]
    },
    {
      "cell_type": "code",
      "source": [
        "cols_roi=['LoanOriginalAmount','BorrowerRate'\n",
        ",'TradesNeverDelinquent (percentage)',\n",
        "'AvailableBankcardCredit','TotalInquiries'\n",
        ",'InterestAmount','TotalAmount','StatedMonthlyIncome', 'DebtToIncomeRatio']"
      ],
      "metadata": {
        "id": "O_P-P7H47Mdl"
      },
      "execution_count": 114,
      "outputs": []
    },
    {
      "cell_type": "code",
      "source": [
        "#Assign X and y\n",
        "X = df_model[cols_roi].values\n",
        "y = df_model['ROI'].values"
      ],
      "metadata": {
        "id": "rtche9gh2bLW"
      },
      "execution_count": 117,
      "outputs": []
    },
    {
      "cell_type": "code",
      "source": [
        "#split\n",
        "X_train, X_test, y_train, y_test = train_test_split(X, y, test_size=0.3, random_state=42)\n",
        "\n",
        "# Fit linear regression model\n",
        "lr = LinearRegression()\n",
        "lr.fit(X_train, y_train)\n",
        "\n",
        "# Evaluating the model \n",
        "print(\"Training accuracy for ROI=\", lr.score(X_train, y_train))\n",
        "print(\"Testing accuracy for ROI=\", lr.score(X_test, y_test))"
      ],
      "metadata": {
        "colab": {
          "base_uri": "https://localhost:8080/"
        },
        "id": "6xfTH4GR4FM1",
        "outputId": "56790883-5962-4097-b27d-138e603b97db"
      },
      "execution_count": 118,
      "outputs": [
        {
          "output_type": "stream",
          "name": "stdout",
          "text": [
            "Training accuracy for ROI= 0.996435893446353\n",
            "Testing accuracy for ROI= 0.996457038317881\n"
          ]
        }
      ]
    },
    {
      "cell_type": "code",
      "source": [
        "cols_ela=['DebtToIncomeRatio'  , \n",
        "          'IncomeVerifiable' , 'StatedMonthlyIncome',\n",
        "          'LoanOriginalAmount','StatedMonthlyIncome',\n",
        "          'BorrowerRate','LoanTenure']"
      ],
      "metadata": {
        "id": "GcmuhsYB4JZM"
      },
      "execution_count": 122,
      "outputs": []
    },
    {
      "cell_type": "code",
      "source": [
        "#Assign X and y\n",
        "X = df_model[cols_ela].values\n",
        "y = df_model['EligibleLoanAmount'].values"
      ],
      "metadata": {
        "id": "rRLlXRle8HRC"
      },
      "execution_count": 123,
      "outputs": []
    },
    {
      "cell_type": "code",
      "source": [
        "#split\n",
        "X_train, X_test, y_train, y_test = train_test_split(X, y, test_size=0.3, random_state=42)\n",
        "\n",
        "# Fit linear regression model\n",
        "lr = LinearRegression()\n",
        "lr.fit(X_train, y_train)\n",
        "\n",
        "# Evaluating the model \n",
        "print(\"Training accuracy for ELA=\", lr.score(X_train, y_train))\n",
        "print(\"Testing accuracy for ELA=\", lr.score(X_test, y_test))"
      ],
      "metadata": {
        "colab": {
          "base_uri": "https://localhost:8080/"
        },
        "id": "NbeqqG2G8GFR",
        "outputId": "c286fb22-2681-48b3-d073-b557a32a0db3"
      },
      "execution_count": 124,
      "outputs": [
        {
          "output_type": "stream",
          "name": "stdout",
          "text": [
            "Training accuracy for ELA= 0.7540640683618861\n",
            "Testing accuracy for ELA= 0.742537658418467\n"
          ]
        }
      ]
    },
    {
      "cell_type": "code",
      "source": [],
      "metadata": {
        "id": "tEzOuWnI845s"
      },
      "execution_count": null,
      "outputs": []
    }
  ]
}