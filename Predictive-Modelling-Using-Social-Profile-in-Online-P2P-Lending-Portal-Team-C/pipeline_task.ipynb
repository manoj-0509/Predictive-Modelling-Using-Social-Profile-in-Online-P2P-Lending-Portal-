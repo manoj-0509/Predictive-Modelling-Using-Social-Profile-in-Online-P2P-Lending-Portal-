{
  "cells": [
    {
      "cell_type": "code",
      "execution_count": 43,
      "metadata": {
        "id": "rurBTixja9q_"
      },
      "outputs": [],
      "source": [
        "import pandas as pd\n",
        "import numpy as np\n",
        "import warnings\n",
        "import matplotlib.pyplot as plt\n",
        "import seaborn as sns\n",
        "# import eli5\n",
        "import pickle\n",
        "\n",
        "sns.set()\n",
        "warnings.filterwarnings('ignore')"
      ]
    },
    {
      "cell_type": "code",
      "execution_count": 6,
      "metadata": {
        "id": "gYwqE6Qra9rA"
      },
      "outputs": [],
      "source": [
        "from sklearn.feature_selection import mutual_info_regression, SelectKBest, chi2\n",
        "from sklearn.ensemble import ExtraTreesClassifier, RandomForestRegressor, RandomForestClassifier, StackingClassifier, GradientBoostingClassifier\n",
        "from sklearn.preprocessing import StandardScaler, scale, MinMaxScaler\n",
        "from sklearn.decomposition import PCA\n",
        "# from sklearn.metrics import accuracy_score, classification_report, confusion_matrix, mean_absolute_percentage_error, mean_squared_error, roc_auc_score, log_loss, precision_recall_fscore_support, mean_absolute_error\n",
        "from sklearn.model_selection import train_test_split, cross_val_score, cross_validate, GridSearchCV, RandomizedSearchCV\n",
        "from sklearn.linear_model import LogisticRegression\n",
        "from sklearn.pipeline import Pipeline\n",
        "\n",
        "from sklearn.discriminant_analysis import QuadraticDiscriminantAnalysis\n",
        "from sklearn.discriminant_analysis import LinearDiscriminantAnalysis\n",
        "\n",
        "from imblearn.over_sampling import RandomOverSampler, SMOTE\n",
        "# from eli5.sklearn import PermutationImportance\n",
        "from pprint import pprint\n",
        "\n",
        "from xgboost import XGBRegressor, XGBClassifier"
      ]
    },
    {
      "cell_type": "markdown",
      "metadata": {
        "id": "s3FX_-ksa9rB"
      },
      "source": [
        "---"
      ]
    },
    {
      "cell_type": "code",
      "execution_count": 7,
      "metadata": {
        "id": "aQPr9lYKa9rC"
      },
      "outputs": [],
      "source": [
        "pd.set_option('display.max_columns', None)"
      ]
    },
    {
      "cell_type": "markdown",
      "metadata": {
        "id": "H0b5JiGIa9rC"
      },
      "source": [
        "---"
      ]
    },
    {
      "cell_type": "markdown",
      "metadata": {
        "id": "WCDggGAda9rD"
      },
      "source": [
        "**loading data + X, y split**"
      ]
    },
    {
      "cell_type": "code",
      "source": [
        "from google.colab import drive\n",
        "drive.mount('/content/drive')\n",
        "path_x1= '/content/drive/MyDrive/technocolabs_prosper/X1.csv'"
      ],
      "metadata": {
        "colab": {
          "base_uri": "https://localhost:8080/"
        },
        "id": "AonEtxyQiprp",
        "outputId": "8b44aad2-a7a2-4f7a-cd2c-70e122fcecf0"
      },
      "execution_count": 28,
      "outputs": [
        {
          "output_type": "stream",
          "name": "stdout",
          "text": [
            "Mounted at /content/drive\n"
          ]
        }
      ]
    },
    {
      "cell_type": "code",
      "execution_count": 29,
      "metadata": {
        "id": "7FPyACDIa9rD"
      },
      "outputs": [],
      "source": [
        "# path_x1=\"/content/X1.csv\"\n",
        "path_x2=\"/content/X2.csv\"\n",
        "path_y1=\"/content/Y1.csv\"\n",
        "path_y2=\"/content/Y2.csv\"\n",
        "\n",
        "x1=pd.read_csv(path_x1)\n",
        "y1=pd.read_csv(path_y1)\n",
        "x2=pd.read_csv(path_x2)\n",
        "y2=pd.read_csv(path_y2)"
      ]
    },
    {
      "cell_type": "code",
      "source": [
        "x1.drop('Unnamed: 0',inplace=True,axis=1)\n",
        "x2.drop('Unnamed: 0',inplace=True,axis=1)\n",
        "y1.drop('Unnamed: 0',inplace=True,axis=1)\n",
        "y2.drop('Unnamed: 0',inplace=True,axis=1)"
      ],
      "metadata": {
        "id": "QPTb6HFidAZm"
      },
      "execution_count": 30,
      "outputs": []
    },
    {
      "cell_type": "code",
      "execution_count": 31,
      "metadata": {
        "id": "y8x5rVNPa9rE",
        "outputId": "c69baf2b-5f82-4325-a2f6-d4724a5ca623",
        "colab": {
          "base_uri": "https://localhost:8080/",
          "height": 206
        }
      },
      "outputs": [
        {
          "output_type": "execute_result",
          "data": {
            "text/plain": [
              "   LoanStatus\n",
              "0           1\n",
              "1           1\n",
              "2           1\n",
              "3           1\n",
              "4           1"
            ],
            "text/html": [
              "\n",
              "  <div id=\"df-58c2d57a-fcf5-4f7f-92f5-f68eeac779cf\">\n",
              "    <div class=\"colab-df-container\">\n",
              "      <div>\n",
              "<style scoped>\n",
              "    .dataframe tbody tr th:only-of-type {\n",
              "        vertical-align: middle;\n",
              "    }\n",
              "\n",
              "    .dataframe tbody tr th {\n",
              "        vertical-align: top;\n",
              "    }\n",
              "\n",
              "    .dataframe thead th {\n",
              "        text-align: right;\n",
              "    }\n",
              "</style>\n",
              "<table border=\"1\" class=\"dataframe\">\n",
              "  <thead>\n",
              "    <tr style=\"text-align: right;\">\n",
              "      <th></th>\n",
              "      <th>LoanStatus</th>\n",
              "    </tr>\n",
              "  </thead>\n",
              "  <tbody>\n",
              "    <tr>\n",
              "      <th>0</th>\n",
              "      <td>1</td>\n",
              "    </tr>\n",
              "    <tr>\n",
              "      <th>1</th>\n",
              "      <td>1</td>\n",
              "    </tr>\n",
              "    <tr>\n",
              "      <th>2</th>\n",
              "      <td>1</td>\n",
              "    </tr>\n",
              "    <tr>\n",
              "      <th>3</th>\n",
              "      <td>1</td>\n",
              "    </tr>\n",
              "    <tr>\n",
              "      <th>4</th>\n",
              "      <td>1</td>\n",
              "    </tr>\n",
              "  </tbody>\n",
              "</table>\n",
              "</div>\n",
              "      <button class=\"colab-df-convert\" onclick=\"convertToInteractive('df-58c2d57a-fcf5-4f7f-92f5-f68eeac779cf')\"\n",
              "              title=\"Convert this dataframe to an interactive table.\"\n",
              "              style=\"display:none;\">\n",
              "        \n",
              "  <svg xmlns=\"http://www.w3.org/2000/svg\" height=\"24px\"viewBox=\"0 0 24 24\"\n",
              "       width=\"24px\">\n",
              "    <path d=\"M0 0h24v24H0V0z\" fill=\"none\"/>\n",
              "    <path d=\"M18.56 5.44l.94 2.06.94-2.06 2.06-.94-2.06-.94-.94-2.06-.94 2.06-2.06.94zm-11 1L8.5 8.5l.94-2.06 2.06-.94-2.06-.94L8.5 2.5l-.94 2.06-2.06.94zm10 10l.94 2.06.94-2.06 2.06-.94-2.06-.94-.94-2.06-.94 2.06-2.06.94z\"/><path d=\"M17.41 7.96l-1.37-1.37c-.4-.4-.92-.59-1.43-.59-.52 0-1.04.2-1.43.59L10.3 9.45l-7.72 7.72c-.78.78-.78 2.05 0 2.83L4 21.41c.39.39.9.59 1.41.59.51 0 1.02-.2 1.41-.59l7.78-7.78 2.81-2.81c.8-.78.8-2.07 0-2.86zM5.41 20L4 18.59l7.72-7.72 1.47 1.35L5.41 20z\"/>\n",
              "  </svg>\n",
              "      </button>\n",
              "      \n",
              "  <style>\n",
              "    .colab-df-container {\n",
              "      display:flex;\n",
              "      flex-wrap:wrap;\n",
              "      gap: 12px;\n",
              "    }\n",
              "\n",
              "    .colab-df-convert {\n",
              "      background-color: #E8F0FE;\n",
              "      border: none;\n",
              "      border-radius: 50%;\n",
              "      cursor: pointer;\n",
              "      display: none;\n",
              "      fill: #1967D2;\n",
              "      height: 32px;\n",
              "      padding: 0 0 0 0;\n",
              "      width: 32px;\n",
              "    }\n",
              "\n",
              "    .colab-df-convert:hover {\n",
              "      background-color: #E2EBFA;\n",
              "      box-shadow: 0px 1px 2px rgba(60, 64, 67, 0.3), 0px 1px 3px 1px rgba(60, 64, 67, 0.15);\n",
              "      fill: #174EA6;\n",
              "    }\n",
              "\n",
              "    [theme=dark] .colab-df-convert {\n",
              "      background-color: #3B4455;\n",
              "      fill: #D2E3FC;\n",
              "    }\n",
              "\n",
              "    [theme=dark] .colab-df-convert:hover {\n",
              "      background-color: #434B5C;\n",
              "      box-shadow: 0px 1px 3px 1px rgba(0, 0, 0, 0.15);\n",
              "      filter: drop-shadow(0px 1px 2px rgba(0, 0, 0, 0.3));\n",
              "      fill: #FFFFFF;\n",
              "    }\n",
              "  </style>\n",
              "\n",
              "      <script>\n",
              "        const buttonEl =\n",
              "          document.querySelector('#df-58c2d57a-fcf5-4f7f-92f5-f68eeac779cf button.colab-df-convert');\n",
              "        buttonEl.style.display =\n",
              "          google.colab.kernel.accessAllowed ? 'block' : 'none';\n",
              "\n",
              "        async function convertToInteractive(key) {\n",
              "          const element = document.querySelector('#df-58c2d57a-fcf5-4f7f-92f5-f68eeac779cf');\n",
              "          const dataTable =\n",
              "            await google.colab.kernel.invokeFunction('convertToInteractive',\n",
              "                                                     [key], {});\n",
              "          if (!dataTable) return;\n",
              "\n",
              "          const docLinkHtml = 'Like what you see? Visit the ' +\n",
              "            '<a target=\"_blank\" href=https://colab.research.google.com/notebooks/data_table.ipynb>data table notebook</a>'\n",
              "            + ' to learn more about interactive tables.';\n",
              "          element.innerHTML = '';\n",
              "          dataTable['output_type'] = 'display_data';\n",
              "          await google.colab.output.renderOutput(dataTable, element);\n",
              "          const docLink = document.createElement('div');\n",
              "          docLink.innerHTML = docLinkHtml;\n",
              "          element.appendChild(docLink);\n",
              "        }\n",
              "      </script>\n",
              "    </div>\n",
              "  </div>\n",
              "  "
            ]
          },
          "metadata": {},
          "execution_count": 31
        }
      ],
      "source": [
        "y1.head()"
      ]
    },
    {
      "cell_type": "code",
      "execution_count": 32,
      "metadata": {
        "id": "9IrM5Q6Aa9rF",
        "outputId": "1f1f6b03-adaa-41e5-a5c3-ec43fb1ced47",
        "colab": {
          "base_uri": "https://localhost:8080/",
          "height": 206
        }
      },
      "outputs": [
        {
          "output_type": "execute_result",
          "data": {
            "text/plain": [
              "           EMI       ROI  EligibleLoanAmount\n",
              "0  1489.150000  0.136442        11100.000000\n",
              "1   825.275000  0.215686         7499.999999\n",
              "2   132.500000  0.116998         6000.000001\n",
              "3    12.719840  0.125492         8700.000001\n",
              "4    66.637575  0.241102        19800.000000"
            ],
            "text/html": [
              "\n",
              "  <div id=\"df-e0e62989-4b86-4879-b393-b053b7797139\">\n",
              "    <div class=\"colab-df-container\">\n",
              "      <div>\n",
              "<style scoped>\n",
              "    .dataframe tbody tr th:only-of-type {\n",
              "        vertical-align: middle;\n",
              "    }\n",
              "\n",
              "    .dataframe tbody tr th {\n",
              "        vertical-align: top;\n",
              "    }\n",
              "\n",
              "    .dataframe thead th {\n",
              "        text-align: right;\n",
              "    }\n",
              "</style>\n",
              "<table border=\"1\" class=\"dataframe\">\n",
              "  <thead>\n",
              "    <tr style=\"text-align: right;\">\n",
              "      <th></th>\n",
              "      <th>EMI</th>\n",
              "      <th>ROI</th>\n",
              "      <th>EligibleLoanAmount</th>\n",
              "    </tr>\n",
              "  </thead>\n",
              "  <tbody>\n",
              "    <tr>\n",
              "      <th>0</th>\n",
              "      <td>1489.150000</td>\n",
              "      <td>0.136442</td>\n",
              "      <td>11100.000000</td>\n",
              "    </tr>\n",
              "    <tr>\n",
              "      <th>1</th>\n",
              "      <td>825.275000</td>\n",
              "      <td>0.215686</td>\n",
              "      <td>7499.999999</td>\n",
              "    </tr>\n",
              "    <tr>\n",
              "      <th>2</th>\n",
              "      <td>132.500000</td>\n",
              "      <td>0.116998</td>\n",
              "      <td>6000.000001</td>\n",
              "    </tr>\n",
              "    <tr>\n",
              "      <th>3</th>\n",
              "      <td>12.719840</td>\n",
              "      <td>0.125492</td>\n",
              "      <td>8700.000001</td>\n",
              "    </tr>\n",
              "    <tr>\n",
              "      <th>4</th>\n",
              "      <td>66.637575</td>\n",
              "      <td>0.241102</td>\n",
              "      <td>19800.000000</td>\n",
              "    </tr>\n",
              "  </tbody>\n",
              "</table>\n",
              "</div>\n",
              "      <button class=\"colab-df-convert\" onclick=\"convertToInteractive('df-e0e62989-4b86-4879-b393-b053b7797139')\"\n",
              "              title=\"Convert this dataframe to an interactive table.\"\n",
              "              style=\"display:none;\">\n",
              "        \n",
              "  <svg xmlns=\"http://www.w3.org/2000/svg\" height=\"24px\"viewBox=\"0 0 24 24\"\n",
              "       width=\"24px\">\n",
              "    <path d=\"M0 0h24v24H0V0z\" fill=\"none\"/>\n",
              "    <path d=\"M18.56 5.44l.94 2.06.94-2.06 2.06-.94-2.06-.94-.94-2.06-.94 2.06-2.06.94zm-11 1L8.5 8.5l.94-2.06 2.06-.94-2.06-.94L8.5 2.5l-.94 2.06-2.06.94zm10 10l.94 2.06.94-2.06 2.06-.94-2.06-.94-.94-2.06-.94 2.06-2.06.94z\"/><path d=\"M17.41 7.96l-1.37-1.37c-.4-.4-.92-.59-1.43-.59-.52 0-1.04.2-1.43.59L10.3 9.45l-7.72 7.72c-.78.78-.78 2.05 0 2.83L4 21.41c.39.39.9.59 1.41.59.51 0 1.02-.2 1.41-.59l7.78-7.78 2.81-2.81c.8-.78.8-2.07 0-2.86zM5.41 20L4 18.59l7.72-7.72 1.47 1.35L5.41 20z\"/>\n",
              "  </svg>\n",
              "      </button>\n",
              "      \n",
              "  <style>\n",
              "    .colab-df-container {\n",
              "      display:flex;\n",
              "      flex-wrap:wrap;\n",
              "      gap: 12px;\n",
              "    }\n",
              "\n",
              "    .colab-df-convert {\n",
              "      background-color: #E8F0FE;\n",
              "      border: none;\n",
              "      border-radius: 50%;\n",
              "      cursor: pointer;\n",
              "      display: none;\n",
              "      fill: #1967D2;\n",
              "      height: 32px;\n",
              "      padding: 0 0 0 0;\n",
              "      width: 32px;\n",
              "    }\n",
              "\n",
              "    .colab-df-convert:hover {\n",
              "      background-color: #E2EBFA;\n",
              "      box-shadow: 0px 1px 2px rgba(60, 64, 67, 0.3), 0px 1px 3px 1px rgba(60, 64, 67, 0.15);\n",
              "      fill: #174EA6;\n",
              "    }\n",
              "\n",
              "    [theme=dark] .colab-df-convert {\n",
              "      background-color: #3B4455;\n",
              "      fill: #D2E3FC;\n",
              "    }\n",
              "\n",
              "    [theme=dark] .colab-df-convert:hover {\n",
              "      background-color: #434B5C;\n",
              "      box-shadow: 0px 1px 3px 1px rgba(0, 0, 0, 0.15);\n",
              "      filter: drop-shadow(0px 1px 2px rgba(0, 0, 0, 0.3));\n",
              "      fill: #FFFFFF;\n",
              "    }\n",
              "  </style>\n",
              "\n",
              "      <script>\n",
              "        const buttonEl =\n",
              "          document.querySelector('#df-e0e62989-4b86-4879-b393-b053b7797139 button.colab-df-convert');\n",
              "        buttonEl.style.display =\n",
              "          google.colab.kernel.accessAllowed ? 'block' : 'none';\n",
              "\n",
              "        async function convertToInteractive(key) {\n",
              "          const element = document.querySelector('#df-e0e62989-4b86-4879-b393-b053b7797139');\n",
              "          const dataTable =\n",
              "            await google.colab.kernel.invokeFunction('convertToInteractive',\n",
              "                                                     [key], {});\n",
              "          if (!dataTable) return;\n",
              "\n",
              "          const docLinkHtml = 'Like what you see? Visit the ' +\n",
              "            '<a target=\"_blank\" href=https://colab.research.google.com/notebooks/data_table.ipynb>data table notebook</a>'\n",
              "            + ' to learn more about interactive tables.';\n",
              "          element.innerHTML = '';\n",
              "          dataTable['output_type'] = 'display_data';\n",
              "          await google.colab.output.renderOutput(dataTable, element);\n",
              "          const docLink = document.createElement('div');\n",
              "          docLink.innerHTML = docLinkHtml;\n",
              "          element.appendChild(docLink);\n",
              "        }\n",
              "      </script>\n",
              "    </div>\n",
              "  </div>\n",
              "  "
            ]
          },
          "metadata": {},
          "execution_count": 32
        }
      ],
      "source": [
        "y2.head()"
      ]
    },
    {
      "cell_type": "code",
      "execution_count": 33,
      "metadata": {
        "id": "OUiIe5Wwa9rG"
      },
      "outputs": [],
      "source": [
        "y1_loan_status = y1['LoanStatus']\n",
        "y2_EMI= y2['EMI']\n",
        "y2_ROI= y2['ROI']\n",
        "y2_EligibleLoanAmount= y2['EligibleLoanAmount']"
      ]
    },
    {
      "cell_type": "code",
      "execution_count": 34,
      "metadata": {
        "id": "jvn5MQm7a9rG",
        "outputId": "72ddb6c1-96e8-4495-c27c-1f81d05c3488",
        "colab": {
          "base_uri": "https://localhost:8080/",
          "height": 270
        }
      },
      "outputs": [
        {
          "output_type": "execute_result",
          "data": {
            "text/plain": [
              "   BorrowerAPR  CreditScoreRangeLower  CreditScoreRangeUpper  \\\n",
              "0     0.313647               0.727273               0.727273   \n",
              "1     0.546030               0.545455               0.545455   \n",
              "2     0.284325               0.727273               0.727273   \n",
              "3     0.342376               0.772727               0.772727   \n",
              "4     0.694875               0.795455               0.795455   \n",
              "\n",
              "   LP_CustomerPrincipalPayments  EstimatedReturn  LenderYield  LenderYield.1  \\\n",
              "0                      0.269286         0.622761     0.294527       0.294527   \n",
              "1                      0.085743         0.622761     0.497512       0.497512   \n",
              "2                      0.028571         0.622761     0.263682       0.263682   \n",
              "3                      0.002533         0.550386     0.285572       0.285572   \n",
              "4                      0.005993         0.658877     0.632239       0.632239   \n",
              "\n",
              "   LP_CustomerPayments  EstimatedLoss  BorrowerRate  \n",
              "0             0.280029       0.247189      0.317588  \n",
              "1             0.102911       0.247189      0.552764  \n",
              "2             0.024911       0.247189      0.266332  \n",
              "3             0.003394       0.131543      0.288442  \n",
              "4             0.012860       0.443367      0.638593  "
            ],
            "text/html": [
              "\n",
              "  <div id=\"df-2dd33883-9dd0-4b9c-9dac-dc6a49bb9e48\">\n",
              "    <div class=\"colab-df-container\">\n",
              "      <div>\n",
              "<style scoped>\n",
              "    .dataframe tbody tr th:only-of-type {\n",
              "        vertical-align: middle;\n",
              "    }\n",
              "\n",
              "    .dataframe tbody tr th {\n",
              "        vertical-align: top;\n",
              "    }\n",
              "\n",
              "    .dataframe thead th {\n",
              "        text-align: right;\n",
              "    }\n",
              "</style>\n",
              "<table border=\"1\" class=\"dataframe\">\n",
              "  <thead>\n",
              "    <tr style=\"text-align: right;\">\n",
              "      <th></th>\n",
              "      <th>BorrowerAPR</th>\n",
              "      <th>CreditScoreRangeLower</th>\n",
              "      <th>CreditScoreRangeUpper</th>\n",
              "      <th>LP_CustomerPrincipalPayments</th>\n",
              "      <th>EstimatedReturn</th>\n",
              "      <th>LenderYield</th>\n",
              "      <th>LenderYield.1</th>\n",
              "      <th>LP_CustomerPayments</th>\n",
              "      <th>EstimatedLoss</th>\n",
              "      <th>BorrowerRate</th>\n",
              "    </tr>\n",
              "  </thead>\n",
              "  <tbody>\n",
              "    <tr>\n",
              "      <th>0</th>\n",
              "      <td>0.313647</td>\n",
              "      <td>0.727273</td>\n",
              "      <td>0.727273</td>\n",
              "      <td>0.269286</td>\n",
              "      <td>0.622761</td>\n",
              "      <td>0.294527</td>\n",
              "      <td>0.294527</td>\n",
              "      <td>0.280029</td>\n",
              "      <td>0.247189</td>\n",
              "      <td>0.317588</td>\n",
              "    </tr>\n",
              "    <tr>\n",
              "      <th>1</th>\n",
              "      <td>0.546030</td>\n",
              "      <td>0.545455</td>\n",
              "      <td>0.545455</td>\n",
              "      <td>0.085743</td>\n",
              "      <td>0.622761</td>\n",
              "      <td>0.497512</td>\n",
              "      <td>0.497512</td>\n",
              "      <td>0.102911</td>\n",
              "      <td>0.247189</td>\n",
              "      <td>0.552764</td>\n",
              "    </tr>\n",
              "    <tr>\n",
              "      <th>2</th>\n",
              "      <td>0.284325</td>\n",
              "      <td>0.727273</td>\n",
              "      <td>0.727273</td>\n",
              "      <td>0.028571</td>\n",
              "      <td>0.622761</td>\n",
              "      <td>0.263682</td>\n",
              "      <td>0.263682</td>\n",
              "      <td>0.024911</td>\n",
              "      <td>0.247189</td>\n",
              "      <td>0.266332</td>\n",
              "    </tr>\n",
              "    <tr>\n",
              "      <th>3</th>\n",
              "      <td>0.342376</td>\n",
              "      <td>0.772727</td>\n",
              "      <td>0.772727</td>\n",
              "      <td>0.002533</td>\n",
              "      <td>0.550386</td>\n",
              "      <td>0.285572</td>\n",
              "      <td>0.285572</td>\n",
              "      <td>0.003394</td>\n",
              "      <td>0.131543</td>\n",
              "      <td>0.288442</td>\n",
              "    </tr>\n",
              "    <tr>\n",
              "      <th>4</th>\n",
              "      <td>0.694875</td>\n",
              "      <td>0.795455</td>\n",
              "      <td>0.795455</td>\n",
              "      <td>0.005993</td>\n",
              "      <td>0.658877</td>\n",
              "      <td>0.632239</td>\n",
              "      <td>0.632239</td>\n",
              "      <td>0.012860</td>\n",
              "      <td>0.443367</td>\n",
              "      <td>0.638593</td>\n",
              "    </tr>\n",
              "  </tbody>\n",
              "</table>\n",
              "</div>\n",
              "      <button class=\"colab-df-convert\" onclick=\"convertToInteractive('df-2dd33883-9dd0-4b9c-9dac-dc6a49bb9e48')\"\n",
              "              title=\"Convert this dataframe to an interactive table.\"\n",
              "              style=\"display:none;\">\n",
              "        \n",
              "  <svg xmlns=\"http://www.w3.org/2000/svg\" height=\"24px\"viewBox=\"0 0 24 24\"\n",
              "       width=\"24px\">\n",
              "    <path d=\"M0 0h24v24H0V0z\" fill=\"none\"/>\n",
              "    <path d=\"M18.56 5.44l.94 2.06.94-2.06 2.06-.94-2.06-.94-.94-2.06-.94 2.06-2.06.94zm-11 1L8.5 8.5l.94-2.06 2.06-.94-2.06-.94L8.5 2.5l-.94 2.06-2.06.94zm10 10l.94 2.06.94-2.06 2.06-.94-2.06-.94-.94-2.06-.94 2.06-2.06.94z\"/><path d=\"M17.41 7.96l-1.37-1.37c-.4-.4-.92-.59-1.43-.59-.52 0-1.04.2-1.43.59L10.3 9.45l-7.72 7.72c-.78.78-.78 2.05 0 2.83L4 21.41c.39.39.9.59 1.41.59.51 0 1.02-.2 1.41-.59l7.78-7.78 2.81-2.81c.8-.78.8-2.07 0-2.86zM5.41 20L4 18.59l7.72-7.72 1.47 1.35L5.41 20z\"/>\n",
              "  </svg>\n",
              "      </button>\n",
              "      \n",
              "  <style>\n",
              "    .colab-df-container {\n",
              "      display:flex;\n",
              "      flex-wrap:wrap;\n",
              "      gap: 12px;\n",
              "    }\n",
              "\n",
              "    .colab-df-convert {\n",
              "      background-color: #E8F0FE;\n",
              "      border: none;\n",
              "      border-radius: 50%;\n",
              "      cursor: pointer;\n",
              "      display: none;\n",
              "      fill: #1967D2;\n",
              "      height: 32px;\n",
              "      padding: 0 0 0 0;\n",
              "      width: 32px;\n",
              "    }\n",
              "\n",
              "    .colab-df-convert:hover {\n",
              "      background-color: #E2EBFA;\n",
              "      box-shadow: 0px 1px 2px rgba(60, 64, 67, 0.3), 0px 1px 3px 1px rgba(60, 64, 67, 0.15);\n",
              "      fill: #174EA6;\n",
              "    }\n",
              "\n",
              "    [theme=dark] .colab-df-convert {\n",
              "      background-color: #3B4455;\n",
              "      fill: #D2E3FC;\n",
              "    }\n",
              "\n",
              "    [theme=dark] .colab-df-convert:hover {\n",
              "      background-color: #434B5C;\n",
              "      box-shadow: 0px 1px 3px 1px rgba(0, 0, 0, 0.15);\n",
              "      filter: drop-shadow(0px 1px 2px rgba(0, 0, 0, 0.3));\n",
              "      fill: #FFFFFF;\n",
              "    }\n",
              "  </style>\n",
              "\n",
              "      <script>\n",
              "        const buttonEl =\n",
              "          document.querySelector('#df-2dd33883-9dd0-4b9c-9dac-dc6a49bb9e48 button.colab-df-convert');\n",
              "        buttonEl.style.display =\n",
              "          google.colab.kernel.accessAllowed ? 'block' : 'none';\n",
              "\n",
              "        async function convertToInteractive(key) {\n",
              "          const element = document.querySelector('#df-2dd33883-9dd0-4b9c-9dac-dc6a49bb9e48');\n",
              "          const dataTable =\n",
              "            await google.colab.kernel.invokeFunction('convertToInteractive',\n",
              "                                                     [key], {});\n",
              "          if (!dataTable) return;\n",
              "\n",
              "          const docLinkHtml = 'Like what you see? Visit the ' +\n",
              "            '<a target=\"_blank\" href=https://colab.research.google.com/notebooks/data_table.ipynb>data table notebook</a>'\n",
              "            + ' to learn more about interactive tables.';\n",
              "          element.innerHTML = '';\n",
              "          dataTable['output_type'] = 'display_data';\n",
              "          await google.colab.output.renderOutput(dataTable, element);\n",
              "          const docLink = document.createElement('div');\n",
              "          docLink.innerHTML = docLinkHtml;\n",
              "          element.appendChild(docLink);\n",
              "        }\n",
              "      </script>\n",
              "    </div>\n",
              "  </div>\n",
              "  "
            ]
          },
          "metadata": {},
          "execution_count": 34
        }
      ],
      "source": [
        "x1.head()"
      ]
    },
    {
      "cell_type": "code",
      "execution_count": 35,
      "metadata": {
        "id": "ygOdfE8-a9rH",
        "outputId": "e8b8e65d-f8de-4374-9eaf-547013bdacef",
        "colab": {
          "base_uri": "https://localhost:8080/",
          "height": 287
        }
      },
      "outputs": [
        {
          "output_type": "execute_result",
          "data": {
            "text/plain": [
              "   LP_CustomerPayments  𝐿𝑜𝑎𝑛𝐷𝑎𝑡𝑒𝑦𝑒𝑎𝑟  month  𝑀𝑎𝑡𝑢𝑟𝑖𝑡𝑦𝐷𝑎𝑡𝑂𝑟𝑖𝑔𝑖𝑛𝑎𝑙𝑦𝑒𝑎𝑟  \\\n",
              "0           11396.1400          1970      1                     2007   \n",
              "1            4186.6300          1970      1                     2007   \n",
              "2            1011.6500          1970      1                     2007   \n",
              "3             135.8174          1970      1                     2014   \n",
              "4             521.1300          1970      1                     2012   \n",
              "\n",
              "   𝑀𝑎𝑡𝑢𝑟𝑖𝑡𝑦𝐷𝑎𝑡𝑒𝑂𝑟𝑖𝑔𝑖𝑛𝑎𝑙𝑚𝑜𝑛𝑡ℎ  LP_CustomerPrincipalPayments  \\\n",
              "0                          9                       9425.00   \n",
              "1                          1                       3001.00   \n",
              "2                         10                       1000.00   \n",
              "3                          1                         88.64   \n",
              "4                          4                        209.75   \n",
              "\n",
              "   TradesNeverDelinquent (percentage)  AvailableBankcardCredit  \\\n",
              "0                            0.810000              1500.000000   \n",
              "1                            0.857548             10761.775498   \n",
              "2                            0.400000              2580.000000   \n",
              "3                            1.000000              3626.000000   \n",
              "4                            0.940000               178.000000   \n",
              "\n",
              "   TotalInquiries  InterestAmount  TotalAmount  StatedMonthlyIncome  \\\n",
              "0             3.0        1489.150    10914.150          3083.333333   \n",
              "1             1.0         825.275     3826.275          2083.333333   \n",
              "2             5.0         132.500     1132.500          1666.666667   \n",
              "3             4.0         574.000     4574.000          2416.666667   \n",
              "4             1.0        1270.800     5270.800          5500.000000   \n",
              "\n",
              "   DebtToIncomeRatio  IncomeVerifiable  LoanOriginalAmount  BorrowerRate  \\\n",
              "0               0.17                 1              9425.0        0.1580   \n",
              "1               0.06                 1              3001.0        0.2750   \n",
              "2               0.27                 1              1000.0        0.1325   \n",
              "3               0.18                 1              4000.0        0.1435   \n",
              "4               0.49                 1              4000.0        0.3177   \n",
              "\n",
              "   LoanTenure  \n",
              "0         436  \n",
              "1         444  \n",
              "2         435  \n",
              "3         528  \n",
              "4         501  "
            ],
            "text/html": [
              "\n",
              "  <div id=\"df-0bca7377-6fa4-4678-a139-a1a5d74cff3f\">\n",
              "    <div class=\"colab-df-container\">\n",
              "      <div>\n",
              "<style scoped>\n",
              "    .dataframe tbody tr th:only-of-type {\n",
              "        vertical-align: middle;\n",
              "    }\n",
              "\n",
              "    .dataframe tbody tr th {\n",
              "        vertical-align: top;\n",
              "    }\n",
              "\n",
              "    .dataframe thead th {\n",
              "        text-align: right;\n",
              "    }\n",
              "</style>\n",
              "<table border=\"1\" class=\"dataframe\">\n",
              "  <thead>\n",
              "    <tr style=\"text-align: right;\">\n",
              "      <th></th>\n",
              "      <th>LP_CustomerPayments</th>\n",
              "      <th>𝐿𝑜𝑎𝑛𝐷𝑎𝑡𝑒𝑦𝑒𝑎𝑟</th>\n",
              "      <th>month</th>\n",
              "      <th>𝑀𝑎𝑡𝑢𝑟𝑖𝑡𝑦𝐷𝑎𝑡𝑂𝑟𝑖𝑔𝑖𝑛𝑎𝑙𝑦𝑒𝑎𝑟</th>\n",
              "      <th>𝑀𝑎𝑡𝑢𝑟𝑖𝑡𝑦𝐷𝑎𝑡𝑒𝑂𝑟𝑖𝑔𝑖𝑛𝑎𝑙𝑚𝑜𝑛𝑡ℎ</th>\n",
              "      <th>LP_CustomerPrincipalPayments</th>\n",
              "      <th>TradesNeverDelinquent (percentage)</th>\n",
              "      <th>AvailableBankcardCredit</th>\n",
              "      <th>TotalInquiries</th>\n",
              "      <th>InterestAmount</th>\n",
              "      <th>TotalAmount</th>\n",
              "      <th>StatedMonthlyIncome</th>\n",
              "      <th>DebtToIncomeRatio</th>\n",
              "      <th>IncomeVerifiable</th>\n",
              "      <th>LoanOriginalAmount</th>\n",
              "      <th>BorrowerRate</th>\n",
              "      <th>LoanTenure</th>\n",
              "    </tr>\n",
              "  </thead>\n",
              "  <tbody>\n",
              "    <tr>\n",
              "      <th>0</th>\n",
              "      <td>11396.1400</td>\n",
              "      <td>1970</td>\n",
              "      <td>1</td>\n",
              "      <td>2007</td>\n",
              "      <td>9</td>\n",
              "      <td>9425.00</td>\n",
              "      <td>0.810000</td>\n",
              "      <td>1500.000000</td>\n",
              "      <td>3.0</td>\n",
              "      <td>1489.150</td>\n",
              "      <td>10914.150</td>\n",
              "      <td>3083.333333</td>\n",
              "      <td>0.17</td>\n",
              "      <td>1</td>\n",
              "      <td>9425.0</td>\n",
              "      <td>0.1580</td>\n",
              "      <td>436</td>\n",
              "    </tr>\n",
              "    <tr>\n",
              "      <th>1</th>\n",
              "      <td>4186.6300</td>\n",
              "      <td>1970</td>\n",
              "      <td>1</td>\n",
              "      <td>2007</td>\n",
              "      <td>1</td>\n",
              "      <td>3001.00</td>\n",
              "      <td>0.857548</td>\n",
              "      <td>10761.775498</td>\n",
              "      <td>1.0</td>\n",
              "      <td>825.275</td>\n",
              "      <td>3826.275</td>\n",
              "      <td>2083.333333</td>\n",
              "      <td>0.06</td>\n",
              "      <td>1</td>\n",
              "      <td>3001.0</td>\n",
              "      <td>0.2750</td>\n",
              "      <td>444</td>\n",
              "    </tr>\n",
              "    <tr>\n",
              "      <th>2</th>\n",
              "      <td>1011.6500</td>\n",
              "      <td>1970</td>\n",
              "      <td>1</td>\n",
              "      <td>2007</td>\n",
              "      <td>10</td>\n",
              "      <td>1000.00</td>\n",
              "      <td>0.400000</td>\n",
              "      <td>2580.000000</td>\n",
              "      <td>5.0</td>\n",
              "      <td>132.500</td>\n",
              "      <td>1132.500</td>\n",
              "      <td>1666.666667</td>\n",
              "      <td>0.27</td>\n",
              "      <td>1</td>\n",
              "      <td>1000.0</td>\n",
              "      <td>0.1325</td>\n",
              "      <td>435</td>\n",
              "    </tr>\n",
              "    <tr>\n",
              "      <th>3</th>\n",
              "      <td>135.8174</td>\n",
              "      <td>1970</td>\n",
              "      <td>1</td>\n",
              "      <td>2014</td>\n",
              "      <td>1</td>\n",
              "      <td>88.64</td>\n",
              "      <td>1.000000</td>\n",
              "      <td>3626.000000</td>\n",
              "      <td>4.0</td>\n",
              "      <td>574.000</td>\n",
              "      <td>4574.000</td>\n",
              "      <td>2416.666667</td>\n",
              "      <td>0.18</td>\n",
              "      <td>1</td>\n",
              "      <td>4000.0</td>\n",
              "      <td>0.1435</td>\n",
              "      <td>528</td>\n",
              "    </tr>\n",
              "    <tr>\n",
              "      <th>4</th>\n",
              "      <td>521.1300</td>\n",
              "      <td>1970</td>\n",
              "      <td>1</td>\n",
              "      <td>2012</td>\n",
              "      <td>4</td>\n",
              "      <td>209.75</td>\n",
              "      <td>0.940000</td>\n",
              "      <td>178.000000</td>\n",
              "      <td>1.0</td>\n",
              "      <td>1270.800</td>\n",
              "      <td>5270.800</td>\n",
              "      <td>5500.000000</td>\n",
              "      <td>0.49</td>\n",
              "      <td>1</td>\n",
              "      <td>4000.0</td>\n",
              "      <td>0.3177</td>\n",
              "      <td>501</td>\n",
              "    </tr>\n",
              "  </tbody>\n",
              "</table>\n",
              "</div>\n",
              "      <button class=\"colab-df-convert\" onclick=\"convertToInteractive('df-0bca7377-6fa4-4678-a139-a1a5d74cff3f')\"\n",
              "              title=\"Convert this dataframe to an interactive table.\"\n",
              "              style=\"display:none;\">\n",
              "        \n",
              "  <svg xmlns=\"http://www.w3.org/2000/svg\" height=\"24px\"viewBox=\"0 0 24 24\"\n",
              "       width=\"24px\">\n",
              "    <path d=\"M0 0h24v24H0V0z\" fill=\"none\"/>\n",
              "    <path d=\"M18.56 5.44l.94 2.06.94-2.06 2.06-.94-2.06-.94-.94-2.06-.94 2.06-2.06.94zm-11 1L8.5 8.5l.94-2.06 2.06-.94-2.06-.94L8.5 2.5l-.94 2.06-2.06.94zm10 10l.94 2.06.94-2.06 2.06-.94-2.06-.94-.94-2.06-.94 2.06-2.06.94z\"/><path d=\"M17.41 7.96l-1.37-1.37c-.4-.4-.92-.59-1.43-.59-.52 0-1.04.2-1.43.59L10.3 9.45l-7.72 7.72c-.78.78-.78 2.05 0 2.83L4 21.41c.39.39.9.59 1.41.59.51 0 1.02-.2 1.41-.59l7.78-7.78 2.81-2.81c.8-.78.8-2.07 0-2.86zM5.41 20L4 18.59l7.72-7.72 1.47 1.35L5.41 20z\"/>\n",
              "  </svg>\n",
              "      </button>\n",
              "      \n",
              "  <style>\n",
              "    .colab-df-container {\n",
              "      display:flex;\n",
              "      flex-wrap:wrap;\n",
              "      gap: 12px;\n",
              "    }\n",
              "\n",
              "    .colab-df-convert {\n",
              "      background-color: #E8F0FE;\n",
              "      border: none;\n",
              "      border-radius: 50%;\n",
              "      cursor: pointer;\n",
              "      display: none;\n",
              "      fill: #1967D2;\n",
              "      height: 32px;\n",
              "      padding: 0 0 0 0;\n",
              "      width: 32px;\n",
              "    }\n",
              "\n",
              "    .colab-df-convert:hover {\n",
              "      background-color: #E2EBFA;\n",
              "      box-shadow: 0px 1px 2px rgba(60, 64, 67, 0.3), 0px 1px 3px 1px rgba(60, 64, 67, 0.15);\n",
              "      fill: #174EA6;\n",
              "    }\n",
              "\n",
              "    [theme=dark] .colab-df-convert {\n",
              "      background-color: #3B4455;\n",
              "      fill: #D2E3FC;\n",
              "    }\n",
              "\n",
              "    [theme=dark] .colab-df-convert:hover {\n",
              "      background-color: #434B5C;\n",
              "      box-shadow: 0px 1px 3px 1px rgba(0, 0, 0, 0.15);\n",
              "      filter: drop-shadow(0px 1px 2px rgba(0, 0, 0, 0.3));\n",
              "      fill: #FFFFFF;\n",
              "    }\n",
              "  </style>\n",
              "\n",
              "      <script>\n",
              "        const buttonEl =\n",
              "          document.querySelector('#df-0bca7377-6fa4-4678-a139-a1a5d74cff3f button.colab-df-convert');\n",
              "        buttonEl.style.display =\n",
              "          google.colab.kernel.accessAllowed ? 'block' : 'none';\n",
              "\n",
              "        async function convertToInteractive(key) {\n",
              "          const element = document.querySelector('#df-0bca7377-6fa4-4678-a139-a1a5d74cff3f');\n",
              "          const dataTable =\n",
              "            await google.colab.kernel.invokeFunction('convertToInteractive',\n",
              "                                                     [key], {});\n",
              "          if (!dataTable) return;\n",
              "\n",
              "          const docLinkHtml = 'Like what you see? Visit the ' +\n",
              "            '<a target=\"_blank\" href=https://colab.research.google.com/notebooks/data_table.ipynb>data table notebook</a>'\n",
              "            + ' to learn more about interactive tables.';\n",
              "          element.innerHTML = '';\n",
              "          dataTable['output_type'] = 'display_data';\n",
              "          await google.colab.output.renderOutput(dataTable, element);\n",
              "          const docLink = document.createElement('div');\n",
              "          docLink.innerHTML = docLinkHtml;\n",
              "          element.appendChild(docLink);\n",
              "        }\n",
              "      </script>\n",
              "    </div>\n",
              "  </div>\n",
              "  "
            ]
          },
          "metadata": {},
          "execution_count": 35
        }
      ],
      "source": [
        "x2.head()"
      ]
    },
    {
      "cell_type": "code",
      "execution_count": 36,
      "metadata": {
        "id": "h-XLEtOHa9rH",
        "outputId": "dafeca97-e1d7-46d1-d7e9-c5cbe4651906",
        "colab": {
          "base_uri": "https://localhost:8080/"
        }
      },
      "outputs": [
        {
          "output_type": "stream",
          "name": "stdout",
          "text": [
            "0.000000       515\n",
            "1270.800000    417\n",
            "1279.600000     93\n",
            "635.400000      82\n",
            "600.000000      79\n",
            "              ... \n",
            "54.170214        1\n",
            "1446.667775      1\n",
            "830.998615       1\n",
            "386.980264       1\n",
            "659.750000       1\n",
            "Name: EMI, Length: 28087, dtype: int64\n",
            "0        0.136442\n",
            "1        0.215686\n",
            "2        0.116998\n",
            "3        0.125492\n",
            "4        0.241102\n",
            "           ...   \n",
            "42353    0.097473\n",
            "42354    0.114653\n",
            "42355    0.172802\n",
            "42356    0.224806\n",
            "42357    0.208798\n",
            "Name: ROI, Length: 42358, dtype: float64\n",
            "18000.000000    1211\n",
            "15000.000000    1137\n",
            "12000.000000    1096\n",
            "9000.000000     1025\n",
            "13500.000000     880\n",
            "                ... \n",
            "34762.500000       1\n",
            "11998.500000       1\n",
            "11716.800000       1\n",
            "6122.400001        1\n",
            "4908.300001        1\n",
            "Name: EligibleLoanAmount, Length: 7667, dtype: int64\n"
          ]
        }
      ],
      "source": [
        "y2_EMI=y2_EMI.value_counts()\n",
        "print(y2_EMI)\n",
        "y2_EOI=y2_ROI.value_counts()\n",
        "print(y2_ROI)\n",
        "y2_EligibleLoanAmount=y2_EligibleLoanAmount.value_counts()\n",
        "print(y2_EligibleLoanAmount)\n"
      ]
    },
    {
      "cell_type": "markdown",
      "metadata": {
        "id": "KSeogzjga9rI"
      },
      "source": [
        "---"
      ]
    },
    {
      "cell_type": "markdown",
      "metadata": {
        "id": "nAYxZYLXa9rI"
      },
      "source": [
        "**train, test split**"
      ]
    },
    {
      "cell_type": "code",
      "source": [
        "print(x1.shape)\n",
        "print(y1.shape)"
      ],
      "metadata": {
        "colab": {
          "base_uri": "https://localhost:8080/"
        },
        "id": "70u79rpugSKs",
        "outputId": "b679ed01-73fa-4875-d5e9-d1b7774026eb"
      },
      "execution_count": 37,
      "outputs": [
        {
          "output_type": "stream",
          "name": "stdout",
          "text": [
            "(57361, 10)\n",
            "(57361, 1)\n"
          ]
        }
      ]
    },
    {
      "cell_type": "code",
      "source": [
        "print(x2.shape)\n",
        "print(y2.shape)"
      ],
      "metadata": {
        "colab": {
          "base_uri": "https://localhost:8080/"
        },
        "id": "DYtb3Mo1goQY",
        "outputId": "89508ec8-4f74-454d-c5a2-88f310dd1884"
      },
      "execution_count": 38,
      "outputs": [
        {
          "output_type": "stream",
          "name": "stdout",
          "text": [
            "(42358, 17)\n",
            "(42358, 3)\n"
          ]
        }
      ]
    },
    {
      "cell_type": "code",
      "source": [
        "y2 = y2.fillna(0)"
      ],
      "metadata": {
        "id": "RoiljT22sKqP"
      },
      "execution_count": 94,
      "outputs": []
    },
    {
      "cell_type": "code",
      "execution_count": 135,
      "metadata": {
        "id": "0v6ISR92a9rI"
      },
      "outputs": [],
      "source": [
        "X_train1, X_test1, y_train, y_test = train_test_split(x1, y1, test_size=0.20, random_state=0)\n",
        "\n",
        "yLoanstates_train = y_train\n",
        "yLoanstates_test = y_test\n",
        "\n",
        "X_train2, X_test2, y_train, y_test = train_test_split(x2, y2, test_size=0.20, random_state=0)\n",
        "\n",
        "\n",
        "yEMI_train = y_train['EMI']\n",
        "yROI_train = y_train['ROI']\n",
        "yEligibleLoanAmount_train = y_train['EligibleLoanAmount']\n",
        "\n",
        "yEMI_test = y_test['EMI']\n",
        "yROI_test = y_test['ROI']\n",
        "yEligibleLoanAmount_test = y_test['EligibleLoanAmount']\n",
        "\n",
        "\n"
      ]
    },
    {
      "cell_type": "markdown",
      "metadata": {
        "id": "44OqCHhua9rI"
      },
      "source": [
        "---"
      ]
    },
    {
      "cell_type": "markdown",
      "metadata": {
        "id": "Lc9cs69ca9rJ"
      },
      "source": [
        "## data preprocessing"
      ]
    },
    {
      "cell_type": "code",
      "execution_count": 97,
      "metadata": {
        "id": "7LyBUpqpa9rJ"
      },
      "outputs": [],
      "source": [
        "from imblearn.over_sampling import RandomOverSampler\n",
        "from imblearn.over_sampling import SMOTE\n",
        "from sklearn.decomposition import PCA\n",
        "from sklearn.preprocessing import StandardScaler, MinMaxScaler\n",
        "from sklearn.pipeline import Pipeline\n",
        "\n",
        "# Define the oversampling and scaling transformers\n",
        "over = RandomOverSampler(random_state=0)\n",
        "smote = SMOTE()\n",
        "stdscaler = StandardScaler()\n",
        "scaler = MinMaxScaler()\n",
        "\n",
        "\n",
        "pca = PCA(n_components=2)\n",
        "\n",
        "# Define the pipeline\n",
        "steps=[(\"scaling\",StandardScaler()),\n",
        "      (\"PCA\",PCA(n_components=3)),\n",
        "      ]\n",
        "pipeline=Pipeline(steps)\n"
      ]
    },
    {
      "cell_type": "markdown",
      "metadata": {
        "id": "-yWt-yaPa9rJ"
      },
      "source": [
        "---"
      ]
    },
    {
      "cell_type": "markdown",
      "metadata": {
        "id": "rLSWm31Ha9rJ"
      },
      "source": [
        "## classification"
      ]
    },
    {
      "cell_type": "markdown",
      "metadata": {
        "id": "-L0DENWXa9rJ"
      },
      "source": [
        "**classifier learning**"
      ]
    },
    {
      "cell_type": "code",
      "source": [
        "import xgboost as xgb\n",
        "from sklearn.metrics import mean_squared_error\n",
        "from sklearn.linear_model import LinearRegression\n",
        "from sklearn.linear_model import Lasso\n",
        "from sklearn.ensemble import GradientBoostingRegressor"
      ],
      "metadata": {
        "id": "0EswlxhPnx6c"
      },
      "execution_count": 124,
      "outputs": []
    },
    {
      "cell_type": "code",
      "execution_count": 122,
      "metadata": {
        "id": "DWkwwk5pa9rJ"
      },
      "outputs": [],
      "source": [
        "xgb_regressor = xgb.XGBRegressor()\n",
        "ls = Lasso(alpha=0.1)\n",
        "lr = LinearRegression()\n"
      ]
    },
    {
      "cell_type": "code",
      "execution_count": 100,
      "metadata": {
        "id": "g5ogENPIa9rJ"
      },
      "outputs": [],
      "source": [
        "estimators = [('XGB', xgb_regressor)]\n",
        "clf = StackingClassifier(estimators=estimators)"
      ]
    },
    {
      "cell_type": "code",
      "execution_count": 101,
      "metadata": {
        "id": "WgArM_nEa9rK"
      },
      "outputs": [],
      "source": [
        "model_classifier = Pipeline([\n",
        "    ('stdscaler', stdscaler),\n",
        "    ('pca', pca),\n",
        "    ('classifier', clf)\n",
        "])"
      ]
    },
    {
      "cell_type": "code",
      "execution_count": 102,
      "metadata": {
        "id": "oH5LRVmHa9rK",
        "outputId": "504ab84b-ba6a-48c1-c0ea-c5c57cfa6faf",
        "colab": {
          "base_uri": "https://localhost:8080/"
        }
      },
      "outputs": [
        {
          "output_type": "stream",
          "name": "stdout",
          "text": [
            "test accuracy =  76.74 %\n"
          ]
        }
      ],
      "source": [
        "model_classifier.fit(X_train1, yLoanstates_train)\n",
        "pred = model_classifier.predict(X_test1)\n",
        "print('test accuracy = ', round(accuracy_score(yLoanstates_test, pred)*100, 2), '%')"
      ]
    },
    {
      "cell_type": "code",
      "execution_count": 103,
      "metadata": {
        "id": "AHUGfCEka9rK",
        "outputId": "ed65f92d-188a-4bc0-dcfb-5f9d7d7753ea",
        "colab": {
          "base_uri": "https://localhost:8080/"
        }
      },
      "outputs": [
        {
          "output_type": "stream",
          "name": "stdout",
          "text": [
            "              precision    recall  f1-score   support\n",
            "\n",
            "           0      0.616     0.292     0.396      2998\n",
            "           1      0.789     0.935     0.856      8475\n",
            "\n",
            "    accuracy                          0.767     11473\n",
            "   macro avg      0.702     0.614     0.626     11473\n",
            "weighted avg      0.744     0.767     0.736     11473\n",
            "\n"
          ]
        }
      ],
      "source": [
        "print(classification_report(yLoanstates_test, pred, digits=3))"
      ]
    },
    {
      "cell_type": "markdown",
      "metadata": {
        "id": "jWHea7qia9rK"
      },
      "source": [
        "**regression**"
      ]
    },
    {
      "cell_type": "code",
      "source": [
        "from sklearn.ensemble import StackingRegressor\n",
        "from sklearn.metrics import r2_score"
      ],
      "metadata": {
        "id": "IKANKO7Su7al"
      },
      "execution_count": 129,
      "outputs": []
    },
    {
      "cell_type": "code",
      "source": [
        "#Buid Pipeline\n",
        "estimators = [('Lasso', ls), ('linearRegression', lr)]\n",
        "final_estimator = GradientBoostingRegressor()\n",
        "clf = StackingRegressor(estimators=estimators, final_estimator=final_estimator)\n",
        "\n",
        "model_regressor=Pipeline([\n",
        "('stdscaler', stdscaler),\n",
        "('classifier', clf)\n",
        "])"
      ],
      "metadata": {
        "id": "nS4VxvWquKMh"
      },
      "execution_count": 127,
      "outputs": []
    },
    {
      "cell_type": "markdown",
      "source": [
        "EMI"
      ],
      "metadata": {
        "id": "egbUZvCgp9u8"
      }
    },
    {
      "cell_type": "code",
      "execution_count": 130,
      "metadata": {
        "outputId": "b6fd5d79-640f-49e8-9e0a-064a6138b1a0",
        "colab": {
          "base_uri": "https://localhost:8080/"
        },
        "id": "81ghQ3GFqHBI"
      },
      "outputs": [
        {
          "output_type": "stream",
          "name": "stdout",
          "text": [
            "test accuracy =  96.3 %\n"
          ]
        }
      ],
      "source": [
        "model_regressor.fit(X_train2, yEMI_train)\n",
        "pred = model_regressor.predict(X_test2)\n",
        "print('test accuracy = ', round(r2_score(yEMI_test, pred)*100, 2), '%')"
      ]
    },
    {
      "cell_type": "markdown",
      "source": [
        "ROI"
      ],
      "metadata": {
        "id": "x0WJ7mrBp_B7"
      }
    },
    {
      "cell_type": "code",
      "execution_count": 131,
      "metadata": {
        "outputId": "ef23da94-0ebb-4e69-f4a1-284a299a9cbb",
        "colab": {
          "base_uri": "https://localhost:8080/"
        },
        "id": "jB4nchkxqJmu"
      },
      "outputs": [
        {
          "output_type": "stream",
          "name": "stdout",
          "text": [
            "test accuracy =  99.95 %\n"
          ]
        }
      ],
      "source": [
        "\n",
        "model_regressor.fit(X_train2, yROI_train)\n",
        "pred = model_regressor.predict(X_test2)\n",
        "print('test accuracy = ', round(r2_score(yROI_test, pred)*100, 2), '%')"
      ]
    },
    {
      "cell_type": "markdown",
      "source": [
        "ELA"
      ],
      "metadata": {
        "id": "cGz5n9hup_31"
      }
    },
    {
      "cell_type": "code",
      "execution_count": 136,
      "metadata": {
        "id": "_Zg4XPR9a9rL",
        "outputId": "4ddb1829-9e04-4195-9588-7aec35029c16",
        "colab": {
          "base_uri": "https://localhost:8080/"
        }
      },
      "outputs": [
        {
          "output_type": "stream",
          "name": "stdout",
          "text": [
            "test accuracy =  99.31 %\n"
          ]
        }
      ],
      "source": [
        "model_regressor.fit(X_train2, yEligibleLoanAmount_train)\n",
        "pred = model_regressor.predict(X_test2)\n",
        "print('test accuracy = ', round(r2_score(yEligibleLoanAmount_test, pred)*100, 2), '%')"
      ]
    },
    {
      "cell_type": "markdown",
      "metadata": {
        "id": "ZvGmw6xTa9rN"
      },
      "source": [
        "---"
      ]
    },
    {
      "cell_type": "markdown",
      "metadata": {
        "id": "d7LFFYS3a9rN"
      },
      "source": [
        "## saving model"
      ]
    },
    {
      "cell_type": "markdown",
      "metadata": {
        "id": "r0p3Xrtma9rO"
      },
      "source": [
        "---"
      ]
    }
  ],
  "metadata": {
    "kernelspec": {
      "display_name": "Python 3.9.0 64-bit",
      "language": "python",
      "name": "python3"
    },
    "language_info": {
      "codemirror_mode": {
        "name": "ipython",
        "version": 3
      },
      "file_extension": ".py",
      "mimetype": "text/x-python",
      "name": "python",
      "nbconvert_exporter": "python",
      "pygments_lexer": "ipython3",
      "version": "3.10.11"
    },
    "orig_nbformat": 4,
    "vscode": {
      "interpreter": {
        "hash": "8304880a3e767ad58ed1695f5214ef77ebbb8fdf4513a7eb4c0fbb1ff3deb86b"
      }
    },
    "colab": {
      "provenance": []
    }
  },
  "nbformat": 4,
  "nbformat_minor": 0
}