{
 "cells": [
  {
   "cell_type": "code",
   "execution_count": 31,
   "metadata": {
    "id": "rurBTixja9q_"
   },
   "outputs": [],
   "source": [
    "import pandas as pd\n",
    "import numpy as np\n",
    "import warnings\n",
    "import matplotlib.pyplot as plt\n",
    "import seaborn as sns\n",
    "# import eli5\n",
    "import pickle\n",
    "\n",
    "sns.set()\n",
    "warnings.filterwarnings('ignore')"
   ]
  },
  {
   "cell_type": "code",
   "execution_count": 32,
   "metadata": {
    "id": "gYwqE6Qra9rA"
   },
   "outputs": [],
   "source": [
    "from sklearn.feature_selection import mutual_info_regression, SelectKBest, chi2\n",
    "from sklearn.ensemble import ExtraTreesClassifier, RandomForestRegressor, RandomForestClassifier, StackingClassifier, GradientBoostingClassifier\n",
    "from sklearn.preprocessing import StandardScaler, scale, MinMaxScaler\n",
    "from sklearn.decomposition import PCA\n",
    "from sklearn.metrics import accuracy_score, classification_report, confusion_matrix, mean_absolute_percentage_error, mean_squared_error, roc_auc_score, log_loss, precision_recall_fscore_support, mean_absolute_error\n",
    "from sklearn.model_selection import train_test_split, cross_val_score, cross_validate, GridSearchCV, RandomizedSearchCV\n",
    "from sklearn.linear_model import LogisticRegression\n",
    "from sklearn.pipeline import Pipeline\n",
    "\n",
    "from sklearn.discriminant_analysis import QuadraticDiscriminantAnalysis\n",
    "from sklearn.discriminant_analysis import LinearDiscriminantAnalysis\n",
    "\n",
    "from imblearn.over_sampling import RandomOverSampler, SMOTE\n",
    "# from eli5.sklearn import PermutationImportance\n",
    "from pprint import pprint\n",
    "\n",
    "from xgboost import XGBRegressor, XGBClassifier"
   ]
  },
  {
   "cell_type": "markdown",
   "metadata": {
    "id": "s3FX_-ksa9rB"
   },
   "source": [
    "---"
   ]
  },
  {
   "cell_type": "code",
   "execution_count": 33,
   "metadata": {
    "id": "aQPr9lYKa9rC"
   },
   "outputs": [],
   "source": [
    "pd.set_option('display.max_columns', None)"
   ]
  },
  {
   "cell_type": "markdown",
   "metadata": {
    "id": "H0b5JiGIa9rC"
   },
   "source": [
    "---"
   ]
  },
  {
   "cell_type": "markdown",
   "metadata": {
    "id": "WCDggGAda9rD"
   },
   "source": [
    "**loading data + X, y split**"
   ]
  },
  {
   "cell_type": "code",
   "execution_count": 34,
   "metadata": {
    "id": "7FPyACDIa9rD"
   },
   "outputs": [],
   "source": [
    "path_x1=\"C:/Users/DELL/Desktop/flask_project/X1.csv\"\n",
    "path_x2=\"C:/Users/DELL/Desktop/flask_project/X2.csv\"\n",
    "path_y1=\"C:/Users/DELL/Desktop/flask_project/Y1.csv\"\n",
    "path_y2=\"C:/Users/DELL/Desktop/flask_project/Y2.csv\"\n",
    "\n",
    "x1=pd.read_csv(path_x1)\n",
    "y1=pd.read_csv(path_y1)\n",
    "x2=pd.read_csv(path_x2)\n",
    "y2=pd.read_csv(path_y2)"
   ]
  },
  {
   "cell_type": "code",
   "execution_count": 35,
   "metadata": {
    "id": "QPTb6HFidAZm"
   },
   "outputs": [],
   "source": [
    "x1.drop('Unnamed: 0',inplace=True,axis=1)\n",
    "x2.drop('Unnamed: 0',inplace=True,axis=1)\n",
    "y1.drop('Unnamed: 0',inplace=True,axis=1)\n",
    "y2.drop('Unnamed: 0',inplace=True,axis=1)"
   ]
  },
  {
   "cell_type": "code",
   "execution_count": 36,
   "metadata": {
    "colab": {
     "base_uri": "https://localhost:8080/",
     "height": 206
    },
    "id": "y8x5rVNPa9rE",
    "outputId": "c69baf2b-5f82-4325-a2f6-d4724a5ca623"
   },
   "outputs": [
    {
     "data": {
      "text/html": [
       "<div>\n",
       "<style scoped>\n",
       "    .dataframe tbody tr th:only-of-type {\n",
       "        vertical-align: middle;\n",
       "    }\n",
       "\n",
       "    .dataframe tbody tr th {\n",
       "        vertical-align: top;\n",
       "    }\n",
       "\n",
       "    .dataframe thead th {\n",
       "        text-align: right;\n",
       "    }\n",
       "</style>\n",
       "<table border=\"1\" class=\"dataframe\">\n",
       "  <thead>\n",
       "    <tr style=\"text-align: right;\">\n",
       "      <th></th>\n",
       "      <th>LoanStatus</th>\n",
       "    </tr>\n",
       "  </thead>\n",
       "  <tbody>\n",
       "    <tr>\n",
       "      <th>0</th>\n",
       "      <td>1</td>\n",
       "    </tr>\n",
       "    <tr>\n",
       "      <th>1</th>\n",
       "      <td>1</td>\n",
       "    </tr>\n",
       "    <tr>\n",
       "      <th>2</th>\n",
       "      <td>1</td>\n",
       "    </tr>\n",
       "    <tr>\n",
       "      <th>3</th>\n",
       "      <td>1</td>\n",
       "    </tr>\n",
       "    <tr>\n",
       "      <th>4</th>\n",
       "      <td>1</td>\n",
       "    </tr>\n",
       "  </tbody>\n",
       "</table>\n",
       "</div>"
      ],
      "text/plain": [
       "   LoanStatus\n",
       "0           1\n",
       "1           1\n",
       "2           1\n",
       "3           1\n",
       "4           1"
      ]
     },
     "execution_count": 36,
     "metadata": {},
     "output_type": "execute_result"
    }
   ],
   "source": [
    "y1.head()"
   ]
  },
  {
   "cell_type": "code",
   "execution_count": 37,
   "metadata": {
    "colab": {
     "base_uri": "https://localhost:8080/",
     "height": 206
    },
    "id": "9IrM5Q6Aa9rF",
    "outputId": "1f1f6b03-adaa-41e5-a5c3-ec43fb1ced47"
   },
   "outputs": [
    {
     "data": {
      "text/html": [
       "<div>\n",
       "<style scoped>\n",
       "    .dataframe tbody tr th:only-of-type {\n",
       "        vertical-align: middle;\n",
       "    }\n",
       "\n",
       "    .dataframe tbody tr th {\n",
       "        vertical-align: top;\n",
       "    }\n",
       "\n",
       "    .dataframe thead th {\n",
       "        text-align: right;\n",
       "    }\n",
       "</style>\n",
       "<table border=\"1\" class=\"dataframe\">\n",
       "  <thead>\n",
       "    <tr style=\"text-align: right;\">\n",
       "      <th></th>\n",
       "      <th>EMI</th>\n",
       "      <th>ROI</th>\n",
       "      <th>EligibleLoanAmount</th>\n",
       "    </tr>\n",
       "  </thead>\n",
       "  <tbody>\n",
       "    <tr>\n",
       "      <th>0</th>\n",
       "      <td>1489.150000</td>\n",
       "      <td>0.136442</td>\n",
       "      <td>11099.999999</td>\n",
       "    </tr>\n",
       "    <tr>\n",
       "      <th>1</th>\n",
       "      <td>825.275000</td>\n",
       "      <td>0.215686</td>\n",
       "      <td>7499.999999</td>\n",
       "    </tr>\n",
       "    <tr>\n",
       "      <th>2</th>\n",
       "      <td>132.500000</td>\n",
       "      <td>0.116998</td>\n",
       "      <td>6000.000001</td>\n",
       "    </tr>\n",
       "    <tr>\n",
       "      <th>3</th>\n",
       "      <td>12.719840</td>\n",
       "      <td>0.125492</td>\n",
       "      <td>8700.000001</td>\n",
       "    </tr>\n",
       "    <tr>\n",
       "      <th>4</th>\n",
       "      <td>66.637575</td>\n",
       "      <td>0.241102</td>\n",
       "      <td>19800.000000</td>\n",
       "    </tr>\n",
       "  </tbody>\n",
       "</table>\n",
       "</div>"
      ],
      "text/plain": [
       "           EMI       ROI  EligibleLoanAmount\n",
       "0  1489.150000  0.136442        11099.999999\n",
       "1   825.275000  0.215686         7499.999999\n",
       "2   132.500000  0.116998         6000.000001\n",
       "3    12.719840  0.125492         8700.000001\n",
       "4    66.637575  0.241102        19800.000000"
      ]
     },
     "execution_count": 37,
     "metadata": {},
     "output_type": "execute_result"
    }
   ],
   "source": [
    "y2.head()"
   ]
  },
  {
   "cell_type": "code",
   "execution_count": 38,
   "metadata": {
    "id": "OUiIe5Wwa9rG"
   },
   "outputs": [],
   "source": [
    "y1_loan_status = y1['LoanStatus']\n",
    "y2_EMI= y2['EMI']\n",
    "y2_ROI= y2['ROI']\n",
    "y2_EligibleLoanAmount= y2['EligibleLoanAmount']"
   ]
  },
  {
   "cell_type": "code",
   "execution_count": 39,
   "metadata": {
    "colab": {
     "base_uri": "https://localhost:8080/",
     "height": 270
    },
    "id": "jvn5MQm7a9rG",
    "outputId": "72ddb6c1-96e8-4495-c27c-1f81d05c3488"
   },
   "outputs": [
    {
     "data": {
      "text/html": [
       "<div>\n",
       "<style scoped>\n",
       "    .dataframe tbody tr th:only-of-type {\n",
       "        vertical-align: middle;\n",
       "    }\n",
       "\n",
       "    .dataframe tbody tr th {\n",
       "        vertical-align: top;\n",
       "    }\n",
       "\n",
       "    .dataframe thead th {\n",
       "        text-align: right;\n",
       "    }\n",
       "</style>\n",
       "<table border=\"1\" class=\"dataframe\">\n",
       "  <thead>\n",
       "    <tr style=\"text-align: right;\">\n",
       "      <th></th>\n",
       "      <th>BorrowerAPR</th>\n",
       "      <th>CreditScoreRangeLower</th>\n",
       "      <th>CreditScoreRangeUpper</th>\n",
       "      <th>LP_CustomerPrincipalPayments</th>\n",
       "      <th>EstimatedReturn</th>\n",
       "      <th>LenderYield</th>\n",
       "      <th>LP_CustomerPayments</th>\n",
       "      <th>EstimatedLoss</th>\n",
       "      <th>BorrowerRate</th>\n",
       "    </tr>\n",
       "  </thead>\n",
       "  <tbody>\n",
       "    <tr>\n",
       "      <th>0</th>\n",
       "      <td>0.313647</td>\n",
       "      <td>0.727273</td>\n",
       "      <td>0.727273</td>\n",
       "      <td>0.269286</td>\n",
       "      <td>0.622761</td>\n",
       "      <td>0.294527</td>\n",
       "      <td>0.280029</td>\n",
       "      <td>0.247189</td>\n",
       "      <td>0.317588</td>\n",
       "    </tr>\n",
       "    <tr>\n",
       "      <th>1</th>\n",
       "      <td>0.546030</td>\n",
       "      <td>0.545455</td>\n",
       "      <td>0.545455</td>\n",
       "      <td>0.085743</td>\n",
       "      <td>0.622761</td>\n",
       "      <td>0.497512</td>\n",
       "      <td>0.102911</td>\n",
       "      <td>0.247189</td>\n",
       "      <td>0.552764</td>\n",
       "    </tr>\n",
       "    <tr>\n",
       "      <th>2</th>\n",
       "      <td>0.284325</td>\n",
       "      <td>0.727273</td>\n",
       "      <td>0.727273</td>\n",
       "      <td>0.028571</td>\n",
       "      <td>0.622761</td>\n",
       "      <td>0.263682</td>\n",
       "      <td>0.024911</td>\n",
       "      <td>0.247189</td>\n",
       "      <td>0.266332</td>\n",
       "    </tr>\n",
       "    <tr>\n",
       "      <th>3</th>\n",
       "      <td>0.342376</td>\n",
       "      <td>0.772727</td>\n",
       "      <td>0.772727</td>\n",
       "      <td>0.002533</td>\n",
       "      <td>0.550386</td>\n",
       "      <td>0.285572</td>\n",
       "      <td>0.003394</td>\n",
       "      <td>0.131543</td>\n",
       "      <td>0.288442</td>\n",
       "    </tr>\n",
       "    <tr>\n",
       "      <th>4</th>\n",
       "      <td>0.694875</td>\n",
       "      <td>0.795455</td>\n",
       "      <td>0.795455</td>\n",
       "      <td>0.005993</td>\n",
       "      <td>0.658877</td>\n",
       "      <td>0.632239</td>\n",
       "      <td>0.012860</td>\n",
       "      <td>0.443367</td>\n",
       "      <td>0.638593</td>\n",
       "    </tr>\n",
       "  </tbody>\n",
       "</table>\n",
       "</div>"
      ],
      "text/plain": [
       "   BorrowerAPR  CreditScoreRangeLower  CreditScoreRangeUpper  \\\n",
       "0     0.313647               0.727273               0.727273   \n",
       "1     0.546030               0.545455               0.545455   \n",
       "2     0.284325               0.727273               0.727273   \n",
       "3     0.342376               0.772727               0.772727   \n",
       "4     0.694875               0.795455               0.795455   \n",
       "\n",
       "   LP_CustomerPrincipalPayments  EstimatedReturn  LenderYield  \\\n",
       "0                      0.269286         0.622761     0.294527   \n",
       "1                      0.085743         0.622761     0.497512   \n",
       "2                      0.028571         0.622761     0.263682   \n",
       "3                      0.002533         0.550386     0.285572   \n",
       "4                      0.005993         0.658877     0.632239   \n",
       "\n",
       "   LP_CustomerPayments  EstimatedLoss  BorrowerRate  \n",
       "0             0.280029       0.247189      0.317588  \n",
       "1             0.102911       0.247189      0.552764  \n",
       "2             0.024911       0.247189      0.266332  \n",
       "3             0.003394       0.131543      0.288442  \n",
       "4             0.012860       0.443367      0.638593  "
      ]
     },
     "execution_count": 39,
     "metadata": {},
     "output_type": "execute_result"
    }
   ],
   "source": [
    "x1.head()"
   ]
  },
  {
   "cell_type": "code",
   "execution_count": 40,
   "metadata": {
    "colab": {
     "base_uri": "https://localhost:8080/",
     "height": 287
    },
    "id": "ygOdfE8-a9rH",
    "outputId": "e8b8e65d-f8de-4374-9eaf-547013bdacef"
   },
   "outputs": [
    {
     "data": {
      "text/html": [
       "<div>\n",
       "<style scoped>\n",
       "    .dataframe tbody tr th:only-of-type {\n",
       "        vertical-align: middle;\n",
       "    }\n",
       "\n",
       "    .dataframe tbody tr th {\n",
       "        vertical-align: top;\n",
       "    }\n",
       "\n",
       "    .dataframe thead th {\n",
       "        text-align: right;\n",
       "    }\n",
       "</style>\n",
       "<table border=\"1\" class=\"dataframe\">\n",
       "  <thead>\n",
       "    <tr style=\"text-align: right;\">\n",
       "      <th></th>\n",
       "      <th>LP_CustomerPayments</th>\n",
       "      <th>𝐿𝑜𝑎𝑛𝐷𝑎𝑡𝑒𝑦𝑒𝑎𝑟</th>\n",
       "      <th>month</th>\n",
       "      <th>𝑀𝑎𝑡𝑢𝑟𝑖𝑡𝑦𝐷𝑎𝑡𝑂𝑟𝑖𝑔𝑖𝑛𝑎𝑙𝑦𝑒𝑎𝑟</th>\n",
       "      <th>𝑀𝑎𝑡𝑢𝑟𝑖𝑡𝑦𝐷𝑎𝑡𝑒𝑂𝑟𝑖𝑔𝑖𝑛𝑎𝑙𝑚𝑜𝑛𝑡ℎ</th>\n",
       "      <th>LP_CustomerPrincipalPayments</th>\n",
       "      <th>TradesNeverDelinquent (percentage)</th>\n",
       "      <th>AvailableBankcardCredit</th>\n",
       "      <th>TotalInquiries</th>\n",
       "      <th>InterestAmount</th>\n",
       "      <th>TotalAmount</th>\n",
       "      <th>StatedMonthlyIncome</th>\n",
       "      <th>DebtToIncomeRatio</th>\n",
       "      <th>IncomeVerifiable</th>\n",
       "      <th>LoanOriginalAmount</th>\n",
       "      <th>BorrowerRate</th>\n",
       "      <th>LoanTenure</th>\n",
       "    </tr>\n",
       "  </thead>\n",
       "  <tbody>\n",
       "    <tr>\n",
       "      <th>0</th>\n",
       "      <td>11396.1400</td>\n",
       "      <td>1970</td>\n",
       "      <td>1</td>\n",
       "      <td>2007</td>\n",
       "      <td>9</td>\n",
       "      <td>9425.00</td>\n",
       "      <td>0.810000</td>\n",
       "      <td>1500.000000</td>\n",
       "      <td>3.0</td>\n",
       "      <td>1489.150</td>\n",
       "      <td>10914.150</td>\n",
       "      <td>3083.333333</td>\n",
       "      <td>0.17</td>\n",
       "      <td>1</td>\n",
       "      <td>9425.0</td>\n",
       "      <td>0.1580</td>\n",
       "      <td>436</td>\n",
       "    </tr>\n",
       "    <tr>\n",
       "      <th>1</th>\n",
       "      <td>4186.6300</td>\n",
       "      <td>1970</td>\n",
       "      <td>1</td>\n",
       "      <td>2007</td>\n",
       "      <td>1</td>\n",
       "      <td>3001.00</td>\n",
       "      <td>0.857548</td>\n",
       "      <td>10761.775498</td>\n",
       "      <td>1.0</td>\n",
       "      <td>825.275</td>\n",
       "      <td>3826.275</td>\n",
       "      <td>2083.333333</td>\n",
       "      <td>0.06</td>\n",
       "      <td>1</td>\n",
       "      <td>3001.0</td>\n",
       "      <td>0.2750</td>\n",
       "      <td>444</td>\n",
       "    </tr>\n",
       "    <tr>\n",
       "      <th>2</th>\n",
       "      <td>1011.6500</td>\n",
       "      <td>1970</td>\n",
       "      <td>1</td>\n",
       "      <td>2007</td>\n",
       "      <td>10</td>\n",
       "      <td>1000.00</td>\n",
       "      <td>0.400000</td>\n",
       "      <td>2580.000000</td>\n",
       "      <td>5.0</td>\n",
       "      <td>132.500</td>\n",
       "      <td>1132.500</td>\n",
       "      <td>1666.666667</td>\n",
       "      <td>0.27</td>\n",
       "      <td>1</td>\n",
       "      <td>1000.0</td>\n",
       "      <td>0.1325</td>\n",
       "      <td>435</td>\n",
       "    </tr>\n",
       "    <tr>\n",
       "      <th>3</th>\n",
       "      <td>135.8174</td>\n",
       "      <td>1970</td>\n",
       "      <td>1</td>\n",
       "      <td>2014</td>\n",
       "      <td>1</td>\n",
       "      <td>88.64</td>\n",
       "      <td>1.000000</td>\n",
       "      <td>3626.000000</td>\n",
       "      <td>4.0</td>\n",
       "      <td>574.000</td>\n",
       "      <td>4574.000</td>\n",
       "      <td>2416.666667</td>\n",
       "      <td>0.18</td>\n",
       "      <td>1</td>\n",
       "      <td>4000.0</td>\n",
       "      <td>0.1435</td>\n",
       "      <td>528</td>\n",
       "    </tr>\n",
       "    <tr>\n",
       "      <th>4</th>\n",
       "      <td>521.1300</td>\n",
       "      <td>1970</td>\n",
       "      <td>1</td>\n",
       "      <td>2012</td>\n",
       "      <td>4</td>\n",
       "      <td>209.75</td>\n",
       "      <td>0.940000</td>\n",
       "      <td>178.000000</td>\n",
       "      <td>1.0</td>\n",
       "      <td>1270.800</td>\n",
       "      <td>5270.800</td>\n",
       "      <td>5500.000000</td>\n",
       "      <td>0.49</td>\n",
       "      <td>1</td>\n",
       "      <td>4000.0</td>\n",
       "      <td>0.3177</td>\n",
       "      <td>501</td>\n",
       "    </tr>\n",
       "  </tbody>\n",
       "</table>\n",
       "</div>"
      ],
      "text/plain": [
       "   LP_CustomerPayments  𝐿𝑜𝑎𝑛𝐷𝑎𝑡𝑒𝑦𝑒𝑎𝑟  month  𝑀𝑎𝑡𝑢𝑟𝑖𝑡𝑦𝐷𝑎𝑡𝑂𝑟𝑖𝑔𝑖𝑛𝑎𝑙𝑦𝑒𝑎𝑟  \\\n",
       "0           11396.1400          1970      1                     2007   \n",
       "1            4186.6300          1970      1                     2007   \n",
       "2            1011.6500          1970      1                     2007   \n",
       "3             135.8174          1970      1                     2014   \n",
       "4             521.1300          1970      1                     2012   \n",
       "\n",
       "   𝑀𝑎𝑡𝑢𝑟𝑖𝑡𝑦𝐷𝑎𝑡𝑒𝑂𝑟𝑖𝑔𝑖𝑛𝑎𝑙𝑚𝑜𝑛𝑡ℎ  LP_CustomerPrincipalPayments  \\\n",
       "0                          9                       9425.00   \n",
       "1                          1                       3001.00   \n",
       "2                         10                       1000.00   \n",
       "3                          1                         88.64   \n",
       "4                          4                        209.75   \n",
       "\n",
       "   TradesNeverDelinquent (percentage)  AvailableBankcardCredit  \\\n",
       "0                            0.810000              1500.000000   \n",
       "1                            0.857548             10761.775498   \n",
       "2                            0.400000              2580.000000   \n",
       "3                            1.000000              3626.000000   \n",
       "4                            0.940000               178.000000   \n",
       "\n",
       "   TotalInquiries  InterestAmount  TotalAmount  StatedMonthlyIncome  \\\n",
       "0             3.0        1489.150    10914.150          3083.333333   \n",
       "1             1.0         825.275     3826.275          2083.333333   \n",
       "2             5.0         132.500     1132.500          1666.666667   \n",
       "3             4.0         574.000     4574.000          2416.666667   \n",
       "4             1.0        1270.800     5270.800          5500.000000   \n",
       "\n",
       "   DebtToIncomeRatio  IncomeVerifiable  LoanOriginalAmount  BorrowerRate  \\\n",
       "0               0.17                 1              9425.0        0.1580   \n",
       "1               0.06                 1              3001.0        0.2750   \n",
       "2               0.27                 1              1000.0        0.1325   \n",
       "3               0.18                 1              4000.0        0.1435   \n",
       "4               0.49                 1              4000.0        0.3177   \n",
       "\n",
       "   LoanTenure  \n",
       "0         436  \n",
       "1         444  \n",
       "2         435  \n",
       "3         528  \n",
       "4         501  "
      ]
     },
     "execution_count": 40,
     "metadata": {},
     "output_type": "execute_result"
    }
   ],
   "source": [
    "x2.head()"
   ]
  },
  {
   "cell_type": "code",
   "execution_count": 41,
   "metadata": {
    "colab": {
     "base_uri": "https://localhost:8080/"
    },
    "id": "h-XLEtOHa9rH",
    "outputId": "dafeca97-e1d7-46d1-d7e9-c5cbe4651906"
   },
   "outputs": [
    {
     "name": "stdout",
     "output_type": "stream",
     "text": [
      "0.000000       515\n",
      "1270.800000    380\n",
      "1279.600000     93\n",
      "635.400000      74\n",
      "1050.000000     70\n",
      "              ... \n",
      "2564.161230      1\n",
      "360.958872       1\n",
      "1794.150000      1\n",
      "1826.974692      1\n",
      "659.750000       1\n",
      "Name: EMI, Length: 29828, dtype: int64\n",
      "0        0.136442\n",
      "1        0.215686\n",
      "2        0.116998\n",
      "3        0.125492\n",
      "4        0.241102\n",
      "           ...   \n",
      "42353    0.097473\n",
      "42354    0.114653\n",
      "42355    0.172802\n",
      "42356    0.224806\n",
      "42357    0.208798\n",
      "Name: ROI, Length: 42358, dtype: float64\n",
      "18000.000000    1211\n",
      "15000.000001    1137\n",
      "11999.999999    1096\n",
      "9000.000000     1025\n",
      "13500.000000     880\n",
      "                ... \n",
      "34762.500000       1\n",
      "11998.500001       1\n",
      "11716.800001       1\n",
      "6122.400001        1\n",
      "4908.300001        1\n",
      "Name: EligibleLoanAmount, Length: 7667, dtype: int64\n"
     ]
    }
   ],
   "source": [
    "y2_EMI=y2_EMI.value_counts()\n",
    "print(y2_EMI)\n",
    "y2_EOI=y2_ROI.value_counts()\n",
    "print(y2_ROI)\n",
    "y2_EligibleLoanAmount=y2_EligibleLoanAmount.value_counts()\n",
    "print(y2_EligibleLoanAmount)\n"
   ]
  },
  {
   "cell_type": "markdown",
   "metadata": {
    "id": "KSeogzjga9rI"
   },
   "source": [
    "---"
   ]
  },
  {
   "cell_type": "markdown",
   "metadata": {
    "id": "nAYxZYLXa9rI"
   },
   "source": [
    "**train, test split**"
   ]
  },
  {
   "cell_type": "code",
   "execution_count": 42,
   "metadata": {
    "colab": {
     "base_uri": "https://localhost:8080/"
    },
    "id": "70u79rpugSKs",
    "outputId": "b679ed01-73fa-4875-d5e9-d1b7774026eb"
   },
   "outputs": [
    {
     "name": "stdout",
     "output_type": "stream",
     "text": [
      "(57361, 9)\n",
      "(57361, 1)\n"
     ]
    }
   ],
   "source": [
    "print(x1.shape)\n",
    "print(y1.shape)"
   ]
  },
  {
   "cell_type": "code",
   "execution_count": 43,
   "metadata": {
    "colab": {
     "base_uri": "https://localhost:8080/"
    },
    "id": "DYtb3Mo1goQY",
    "outputId": "89508ec8-4f74-454d-c5a2-88f310dd1884"
   },
   "outputs": [
    {
     "name": "stdout",
     "output_type": "stream",
     "text": [
      "(42358, 17)\n",
      "(42358, 3)\n"
     ]
    }
   ],
   "source": [
    "print(x2.shape)\n",
    "print(y2.shape)"
   ]
  },
  {
   "cell_type": "code",
   "execution_count": 44,
   "metadata": {
    "id": "RoiljT22sKqP"
   },
   "outputs": [],
   "source": [
    "y2 = y2.fillna(0)"
   ]
  },
  {
   "cell_type": "code",
   "execution_count": 45,
   "metadata": {
    "id": "0v6ISR92a9rI"
   },
   "outputs": [],
   "source": [
    "X_train1, X_test1, y_train, y_test = train_test_split(x1, y1, test_size=0.20, random_state=0)\n",
    "\n",
    "yLoanstates_train = y_train\n",
    "yLoanstates_test = y_test\n",
    "\n",
    "X_train2, X_test2, y_train, y_test = train_test_split(x2, y2, test_size=0.20, random_state=0)\n",
    "\n",
    "\n",
    "yEMI_train = y_train['EMI']\n",
    "yROI_train = y_train['ROI']\n",
    "yEligibleLoanAmount_train = y_train['EligibleLoanAmount']\n",
    "\n",
    "yEMI_test = y_test['EMI']\n",
    "yROI_test = y_test['ROI']\n",
    "yEligibleLoanAmount_test = y_test['EligibleLoanAmount']\n",
    "\n",
    "\n"
   ]
  },
  {
   "cell_type": "markdown",
   "metadata": {
    "id": "44OqCHhua9rI"
   },
   "source": [
    "---"
   ]
  },
  {
   "cell_type": "markdown",
   "metadata": {
    "id": "Lc9cs69ca9rJ"
   },
   "source": [
    "## data preprocessing"
   ]
  },
  {
   "cell_type": "code",
   "execution_count": 46,
   "metadata": {
    "id": "7LyBUpqpa9rJ"
   },
   "outputs": [],
   "source": [
    "from imblearn.over_sampling import RandomOverSampler\n",
    "from imblearn.over_sampling import SMOTE\n",
    "from sklearn.decomposition import PCA\n",
    "from sklearn.preprocessing import StandardScaler, MinMaxScaler\n",
    "from sklearn.pipeline import Pipeline\n",
    "\n",
    "# Define the oversampling and scaling transformers\n",
    "over = RandomOverSampler(random_state=0)\n",
    "smote = SMOTE()\n",
    "stdscaler = StandardScaler()\n",
    "scaler = MinMaxScaler()\n",
    "\n",
    "\n",
    "pca = PCA(n_components=2)\n",
    "\n",
    "# Define the pipeline\n",
    "steps=[(\"scaling\",StandardScaler()),\n",
    "      (\"PCA\",PCA(n_components=3)),\n",
    "      ]\n",
    "pipeline=Pipeline(steps)\n"
   ]
  },
  {
   "cell_type": "markdown",
   "metadata": {
    "id": "-yWt-yaPa9rJ"
   },
   "source": [
    "---"
   ]
  },
  {
   "cell_type": "markdown",
   "metadata": {
    "id": "rLSWm31Ha9rJ"
   },
   "source": [
    "## classification"
   ]
  },
  {
   "cell_type": "markdown",
   "metadata": {
    "id": "-L0DENWXa9rJ"
   },
   "source": [
    "**classifier learning**"
   ]
  },
  {
   "cell_type": "code",
   "execution_count": 47,
   "metadata": {
    "id": "0EswlxhPnx6c"
   },
   "outputs": [],
   "source": [
    "import xgboost as xgb\n",
    "from sklearn.metrics import mean_squared_error\n",
    "from sklearn.linear_model import LinearRegression\n",
    "from sklearn.linear_model import Lasso\n",
    "from sklearn.ensemble import GradientBoostingRegressor"
   ]
  },
  {
   "cell_type": "code",
   "execution_count": 48,
   "metadata": {
    "id": "DWkwwk5pa9rJ"
   },
   "outputs": [],
   "source": [
    "xgb_regressor = xgb.XGBRegressor()\n",
    "ls = Lasso(alpha=0.1)\n",
    "lr = LinearRegression()\n"
   ]
  },
  {
   "cell_type": "code",
   "execution_count": 49,
   "metadata": {
    "colab": {
     "base_uri": "https://localhost:8080/"
    },
    "id": "oH5LRVmHa9rK",
    "outputId": "504ab84b-ba6a-48c1-c0ea-c5c57cfa6faf"
   },
   "outputs": [
    {
     "name": "stdout",
     "output_type": "stream",
     "text": [
      "Test accuracy = 91.75 %\n"
     ]
    }
   ],
   "source": [
    "from xgboost import XGBClassifier\n",
    "from sklearn.ensemble import StackingClassifier\n",
    "from sklearn.pipeline import Pipeline\n",
    "from sklearn.preprocessing import StandardScaler\n",
    "from sklearn.decomposition import PCA\n",
    "from sklearn.metrics import accuracy_score, classification_report\n",
    "\n",
    "# Create the individual classifier\n",
    "xgb_classifier = XGBClassifier()\n",
    "\n",
    "# Create the stacking classifier\n",
    "estimators = [('XGB', xgb_classifier)]\n",
    "clf = StackingClassifier(estimators=estimators)\n",
    "\n",
    "# Create the pipeline\n",
    "model_classifier = Pipeline([\n",
    "    ('stdscaler', StandardScaler()),\n",
    "    ('pca', PCA()),\n",
    "    ('classifier', clf)\n",
    "])\n",
    "\n",
    "# Fit the classifier on the training data\n",
    "model_classifier.fit(X_train1, yLoanstates_train)\n",
    "\n",
    "# Make predictions on the test data\n",
    "pred = model_classifier.predict(X_test1)\n",
    "\n",
    "# Calculate and print the test accuracy\n",
    "print('Test accuracy =', round(accuracy_score(yLoanstates_test, pred) * 100, 2), '%')\n"
   ]
  },
  {
   "cell_type": "code",
   "execution_count": 50,
   "metadata": {
    "colab": {
     "base_uri": "https://localhost:8080/"
    },
    "id": "AHUGfCEka9rK",
    "outputId": "ed65f92d-188a-4bc0-dcfb-5f9d7d7753ea"
   },
   "outputs": [
    {
     "name": "stdout",
     "output_type": "stream",
     "text": [
      "              precision    recall  f1-score   support\n",
      "\n",
      "           0      0.860     0.818     0.838      2998\n",
      "           1      0.937     0.953     0.945      8475\n",
      "\n",
      "    accuracy                          0.918     11473\n",
      "   macro avg      0.898     0.885     0.891     11473\n",
      "weighted avg      0.917     0.918     0.917     11473\n",
      "\n"
     ]
    }
   ],
   "source": [
    "print(classification_report(yLoanstates_test, pred, digits=3))"
   ]
  },
  {
   "cell_type": "code",
   "execution_count": 51,
   "metadata": {},
   "outputs": [
    {
     "data": {
      "text/html": [
       "<div>\n",
       "<style scoped>\n",
       "    .dataframe tbody tr th:only-of-type {\n",
       "        vertical-align: middle;\n",
       "    }\n",
       "\n",
       "    .dataframe tbody tr th {\n",
       "        vertical-align: top;\n",
       "    }\n",
       "\n",
       "    .dataframe thead th {\n",
       "        text-align: right;\n",
       "    }\n",
       "</style>\n",
       "<table border=\"1\" class=\"dataframe\">\n",
       "  <thead>\n",
       "    <tr style=\"text-align: right;\">\n",
       "      <th></th>\n",
       "      <th>BorrowerAPR</th>\n",
       "      <th>CreditScoreRangeLower</th>\n",
       "      <th>CreditScoreRangeUpper</th>\n",
       "      <th>LP_CustomerPrincipalPayments</th>\n",
       "      <th>EstimatedReturn</th>\n",
       "      <th>LenderYield</th>\n",
       "      <th>LP_CustomerPayments</th>\n",
       "      <th>EstimatedLoss</th>\n",
       "      <th>BorrowerRate</th>\n",
       "    </tr>\n",
       "  </thead>\n",
       "  <tbody>\n",
       "    <tr>\n",
       "      <th>44454</th>\n",
       "      <td>0.156952</td>\n",
       "      <td>0.840909</td>\n",
       "      <td>0.840909</td>\n",
       "      <td>0.178571</td>\n",
       "      <td>0.513937</td>\n",
       "      <td>0.164179</td>\n",
       "      <td>0.173932</td>\n",
       "      <td>0.029355</td>\n",
       "      <td>0.165829</td>\n",
       "    </tr>\n",
       "    <tr>\n",
       "      <th>16559</th>\n",
       "      <td>0.394080</td>\n",
       "      <td>0.704545</td>\n",
       "      <td>0.704545</td>\n",
       "      <td>0.007309</td>\n",
       "      <td>0.622761</td>\n",
       "      <td>0.404975</td>\n",
       "      <td>0.009625</td>\n",
       "      <td>0.247189</td>\n",
       "      <td>0.398995</td>\n",
       "    </tr>\n",
       "    <tr>\n",
       "      <th>43181</th>\n",
       "      <td>0.575826</td>\n",
       "      <td>0.659091</td>\n",
       "      <td>0.659091</td>\n",
       "      <td>0.033389</td>\n",
       "      <td>0.622761</td>\n",
       "      <td>0.587065</td>\n",
       "      <td>0.054574</td>\n",
       "      <td>0.247189</td>\n",
       "      <td>0.582915</td>\n",
       "    </tr>\n",
       "    <tr>\n",
       "      <th>4108</th>\n",
       "      <td>0.565505</td>\n",
       "      <td>0.704545</td>\n",
       "      <td>0.704545</td>\n",
       "      <td>0.033942</td>\n",
       "      <td>0.683962</td>\n",
       "      <td>0.512239</td>\n",
       "      <td>0.059243</td>\n",
       "      <td>0.277209</td>\n",
       "      <td>0.517387</td>\n",
       "    </tr>\n",
       "    <tr>\n",
       "      <th>18042</th>\n",
       "      <td>0.530074</td>\n",
       "      <td>0.795455</td>\n",
       "      <td>0.795455</td>\n",
       "      <td>0.242857</td>\n",
       "      <td>0.700901</td>\n",
       "      <td>0.495323</td>\n",
       "      <td>0.259795</td>\n",
       "      <td>0.232899</td>\n",
       "      <td>0.500302</td>\n",
       "    </tr>\n",
       "  </tbody>\n",
       "</table>\n",
       "</div>"
      ],
      "text/plain": [
       "       BorrowerAPR  CreditScoreRangeLower  CreditScoreRangeUpper  \\\n",
       "44454     0.156952               0.840909               0.840909   \n",
       "16559     0.394080               0.704545               0.704545   \n",
       "43181     0.575826               0.659091               0.659091   \n",
       "4108      0.565505               0.704545               0.704545   \n",
       "18042     0.530074               0.795455               0.795455   \n",
       "\n",
       "       LP_CustomerPrincipalPayments  EstimatedReturn  LenderYield  \\\n",
       "44454                      0.178571         0.513937     0.164179   \n",
       "16559                      0.007309         0.622761     0.404975   \n",
       "43181                      0.033389         0.622761     0.587065   \n",
       "4108                       0.033942         0.683962     0.512239   \n",
       "18042                      0.242857         0.700901     0.495323   \n",
       "\n",
       "       LP_CustomerPayments  EstimatedLoss  BorrowerRate  \n",
       "44454             0.173932       0.029355      0.165829  \n",
       "16559             0.009625       0.247189      0.398995  \n",
       "43181             0.054574       0.247189      0.582915  \n",
       "4108              0.059243       0.277209      0.517387  \n",
       "18042             0.259795       0.232899      0.500302  "
      ]
     },
     "execution_count": 51,
     "metadata": {},
     "output_type": "execute_result"
    }
   ],
   "source": [
    "X_test1.head()"
   ]
  },
  {
   "cell_type": "code",
   "execution_count": 52,
   "metadata": {},
   "outputs": [],
   "source": [
    "X_test1.to_csv('filename.csv', index=False)"
   ]
  },
  {
   "cell_type": "code",
   "execution_count": 53,
   "metadata": {},
   "outputs": [],
   "source": [
    "import pickle\n",
    "filename='classification_model'\n",
    "pickle.dump(model_classifier,open(filename,'wb'))"
   ]
  },
  {
   "cell_type": "code",
   "execution_count": 54,
   "metadata": {},
   "outputs": [],
   "source": [
    "load_model=pickle.load(open(filename,'rb'))"
   ]
  },
  {
   "cell_type": "code",
   "execution_count": 55,
   "metadata": {},
   "outputs": [
    {
     "data": {
      "text/plain": [
       "array([1], dtype=int64)"
      ]
     },
     "execution_count": 55,
     "metadata": {},
     "output_type": "execute_result"
    }
   ],
   "source": [
    "load_model.predict([[0.156952,0.840909,0.840909,0.178571,0.513937,0.164179,0.173932,0.029355,0.165829]])"
   ]
  },
  {
   "cell_type": "markdown",
   "metadata": {
    "id": "jWHea7qia9rK"
   },
   "source": [
    "**regression**"
   ]
  },
  {
   "cell_type": "code",
   "execution_count": 56,
   "metadata": {
    "id": "IKANKO7Su7al"
   },
   "outputs": [],
   "source": [
    "from sklearn.ensemble import StackingRegressor\n",
    "from sklearn.metrics import r2_score"
   ]
  },
  {
   "cell_type": "code",
   "execution_count": 57,
   "metadata": {
    "id": "nS4VxvWquKMh"
   },
   "outputs": [],
   "source": [
    "#Buid Pipeline\n",
    "estimators = [('Lasso', ls), ('linearRegression', lr)]\n",
    "final_estimator = GradientBoostingRegressor()\n",
    "clf = StackingRegressor(estimators=estimators, final_estimator=final_estimator)\n",
    "\n",
    "model_regressor=Pipeline([\n",
    "('stdscaler', stdscaler),\n",
    "('classifier', clf)\n",
    "])"
   ]
  },
  {
   "cell_type": "markdown",
   "metadata": {
    "id": "egbUZvCgp9u8"
   },
   "source": [
    "EMI"
   ]
  },
  {
   "cell_type": "code",
   "execution_count": 58,
   "metadata": {
    "colab": {
     "base_uri": "https://localhost:8080/"
    },
    "id": "81ghQ3GFqHBI",
    "outputId": "b6fd5d79-640f-49e8-9e0a-064a6138b1a0"
   },
   "outputs": [
    {
     "name": "stdout",
     "output_type": "stream",
     "text": [
      "test accuracy =  96.3 %\n"
     ]
    }
   ],
   "source": [
    "model_regressor.fit(X_train2, yEMI_train)\n",
    "pred = model_regressor.predict(X_test2)\n",
    "print('test accuracy = ', round(r2_score(yEMI_test, pred)*100, 2), '%')"
   ]
  },
  {
   "cell_type": "markdown",
   "metadata": {
    "id": "x0WJ7mrBp_B7"
   },
   "source": [
    "ROI"
   ]
  },
  {
   "cell_type": "code",
   "execution_count": 59,
   "metadata": {
    "colab": {
     "base_uri": "https://localhost:8080/"
    },
    "id": "jB4nchkxqJmu",
    "outputId": "ef23da94-0ebb-4e69-f4a1-284a299a9cbb"
   },
   "outputs": [
    {
     "name": "stdout",
     "output_type": "stream",
     "text": [
      "test accuracy =  99.95 %\n"
     ]
    }
   ],
   "source": [
    "\n",
    "model_regressor.fit(X_train2, yROI_train)\n",
    "pred = model_regressor.predict(X_test2)\n",
    "print('test accuracy = ', round(r2_score(yROI_test, pred)*100, 2), '%')"
   ]
  },
  {
   "cell_type": "markdown",
   "metadata": {
    "id": "cGz5n9hup_31"
   },
   "source": [
    "ELA"
   ]
  },
  {
   "cell_type": "code",
   "execution_count": 60,
   "metadata": {
    "colab": {
     "base_uri": "https://localhost:8080/"
    },
    "id": "_Zg4XPR9a9rL",
    "outputId": "4ddb1829-9e04-4195-9588-7aec35029c16"
   },
   "outputs": [
    {
     "name": "stdout",
     "output_type": "stream",
     "text": [
      "test accuracy =  99.32 %\n"
     ]
    }
   ],
   "source": [
    "model_regressor.fit(X_train2, yEligibleLoanAmount_train)\n",
    "pred = model_regressor.predict(X_test2)\n",
    "print('test accuracy = ', round(r2_score(yEligibleLoanAmount_test, pred)*100, 2), '%')"
   ]
  },
  {
   "cell_type": "markdown",
   "metadata": {
    "id": "ZvGmw6xTa9rN"
   },
   "source": [
    "---"
   ]
  }
 ],
 "metadata": {
  "colab": {
   "provenance": []
  },
  "kernelspec": {
   "display_name": "Python 3 (ipykernel)",
   "language": "python",
   "name": "python3"
  },
  "language_info": {
   "codemirror_mode": {
    "name": "ipython",
    "version": 3
   },
   "file_extension": ".py",
   "mimetype": "text/x-python",
   "name": "python",
   "nbconvert_exporter": "python",
   "pygments_lexer": "ipython3",
   "version": "3.10.11"
  },
  "vscode": {
   "interpreter": {
    "hash": "8304880a3e767ad58ed1695f5214ef77ebbb8fdf4513a7eb4c0fbb1ff3deb86b"
   }
  }
 },
 "nbformat": 4,
 "nbformat_minor": 1
}
