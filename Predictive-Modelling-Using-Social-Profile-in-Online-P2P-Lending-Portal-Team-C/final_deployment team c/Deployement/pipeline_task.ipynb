{
 "cells": [
  {
   "cell_type": "code",
   "execution_count": 1,
   "metadata": {
    "id": "rurBTixja9q_"
   },
   "outputs": [],
   "source": [
    "import pandas as pd\n",
    "import numpy as np\n",
    "import warnings\n",
    "import matplotlib.pyplot as plt\n",
    "import seaborn as sns\n",
    "# import eli5\n",
    "import pickle\n",
    "\n",
    "sns.set()\n",
    "warnings.filterwarnings('ignore')"
   ]
  },
  {
   "cell_type": "code",
   "execution_count": 2,
   "metadata": {
    "id": "gYwqE6Qra9rA"
   },
   "outputs": [],
   "source": [
    "from sklearn.feature_selection import mutual_info_regression, SelectKBest, chi2\n",
    "from sklearn.ensemble import ExtraTreesClassifier, RandomForestRegressor, RandomForestClassifier, StackingClassifier, GradientBoostingClassifier\n",
    "from sklearn.preprocessing import StandardScaler, scale, MinMaxScaler\n",
    "from sklearn.decomposition import PCA\n",
    "# from sklearn.metrics import accuracy_score, classification_report, confusion_matrix, mean_absolute_percentage_error, mean_squared_error, roc_auc_score, log_loss, precision_recall_fscore_support, mean_absolute_error\n",
    "from sklearn.model_selection import train_test_split, cross_val_score, cross_validate, GridSearchCV, RandomizedSearchCV\n",
    "from sklearn.metrics import accuracy_score,classification_report\n",
    "from sklearn.linear_model import LogisticRegression\n",
    "from sklearn.pipeline import Pipeline\n",
    "\n",
    "from sklearn.discriminant_analysis import QuadraticDiscriminantAnalysis\n",
    "from sklearn.discriminant_analysis import LinearDiscriminantAnalysis\n",
    "\n",
    "from imblearn.over_sampling import RandomOverSampler, SMOTE\n",
    "# from eli5.sklearn import PermutationImportance\n",
    "from pprint import pprint\n",
    "\n",
    "from xgboost import XGBRegressor, XGBClassifier"
   ]
  },
  {
   "cell_type": "markdown",
   "metadata": {
    "id": "s3FX_-ksa9rB"
   },
   "source": [
    "---"
   ]
  },
  {
   "cell_type": "code",
   "execution_count": 3,
   "metadata": {
    "id": "aQPr9lYKa9rC"
   },
   "outputs": [],
   "source": [
    "pd.set_option('display.max_columns', None)"
   ]
  },
  {
   "cell_type": "markdown",
   "metadata": {
    "id": "H0b5JiGIa9rC"
   },
   "source": [
    "---"
   ]
  },
  {
   "cell_type": "markdown",
   "metadata": {
    "id": "WCDggGAda9rD"
   },
   "source": [
    "**loading data + X, y split**"
   ]
  },
  {
   "cell_type": "code",
   "execution_count": 4,
   "metadata": {
    "colab": {
     "base_uri": "https://localhost:8080/"
    },
    "id": "AonEtxyQiprp",
    "outputId": "8b44aad2-a7a2-4f7a-cd2c-70e122fcecf0"
   },
   "outputs": [],
   "source": [
    "# from google.colab import drive\n",
    "# drive.mount('/content/drive')\n",
    "path_x1= 'X1.csv'"
   ]
  },
  {
   "cell_type": "code",
   "execution_count": 5,
   "metadata": {
    "id": "7FPyACDIa9rD"
   },
   "outputs": [],
   "source": [
    "# path_x1=\"/content/X1.csv\"\n",
    "path_x2=\"X2.csv\"\n",
    "path_y1=\"Y1.csv\"\n",
    "path_y2=\"Y2.csv\"\n",
    "\n",
    "x1=pd.read_csv(path_x1)\n",
    "y1=pd.read_csv(path_y1)\n",
    "x2=pd.read_csv(path_x2)\n",
    "y2=pd.read_csv(path_y2)"
   ]
  },
  {
   "cell_type": "code",
   "execution_count": 6,
   "metadata": {
    "id": "QPTb6HFidAZm"
   },
   "outputs": [],
   "source": [
    "x1.drop('Unnamed: 0',inplace=True,axis=1)\n",
    "x2.drop('Unnamed: 0',inplace=True,axis=1)\n",
    "y1.drop('Unnamed: 0',inplace=True,axis=1)\n",
    "y2.drop('Unnamed: 0',inplace=True,axis=1)"
   ]
  },
  {
   "cell_type": "code",
   "execution_count": 7,
   "metadata": {
    "colab": {
     "base_uri": "https://localhost:8080/",
     "height": 206
    },
    "id": "y8x5rVNPa9rE",
    "outputId": "c69baf2b-5f82-4325-a2f6-d4724a5ca623"
   },
   "outputs": [
    {
     "data": {
      "text/html": [
       "<div>\n",
       "<style scoped>\n",
       "    .dataframe tbody tr th:only-of-type {\n",
       "        vertical-align: middle;\n",
       "    }\n",
       "\n",
       "    .dataframe tbody tr th {\n",
       "        vertical-align: top;\n",
       "    }\n",
       "\n",
       "    .dataframe thead th {\n",
       "        text-align: right;\n",
       "    }\n",
       "</style>\n",
       "<table border=\"1\" class=\"dataframe\">\n",
       "  <thead>\n",
       "    <tr style=\"text-align: right;\">\n",
       "      <th></th>\n",
       "      <th>LoanStatus</th>\n",
       "    </tr>\n",
       "  </thead>\n",
       "  <tbody>\n",
       "    <tr>\n",
       "      <th>0</th>\n",
       "      <td>1</td>\n",
       "    </tr>\n",
       "    <tr>\n",
       "      <th>1</th>\n",
       "      <td>1</td>\n",
       "    </tr>\n",
       "    <tr>\n",
       "      <th>2</th>\n",
       "      <td>1</td>\n",
       "    </tr>\n",
       "    <tr>\n",
       "      <th>3</th>\n",
       "      <td>1</td>\n",
       "    </tr>\n",
       "    <tr>\n",
       "      <th>4</th>\n",
       "      <td>1</td>\n",
       "    </tr>\n",
       "  </tbody>\n",
       "</table>\n",
       "</div>"
      ],
      "text/plain": [
       "   LoanStatus\n",
       "0           1\n",
       "1           1\n",
       "2           1\n",
       "3           1\n",
       "4           1"
      ]
     },
     "execution_count": 7,
     "metadata": {},
     "output_type": "execute_result"
    }
   ],
   "source": [
    "y1.head()"
   ]
  },
  {
   "cell_type": "code",
   "execution_count": 8,
   "metadata": {
    "colab": {
     "base_uri": "https://localhost:8080/",
     "height": 206
    },
    "id": "9IrM5Q6Aa9rF",
    "outputId": "1f1f6b03-adaa-41e5-a5c3-ec43fb1ced47"
   },
   "outputs": [
    {
     "data": {
      "text/html": [
       "<div>\n",
       "<style scoped>\n",
       "    .dataframe tbody tr th:only-of-type {\n",
       "        vertical-align: middle;\n",
       "    }\n",
       "\n",
       "    .dataframe tbody tr th {\n",
       "        vertical-align: top;\n",
       "    }\n",
       "\n",
       "    .dataframe thead th {\n",
       "        text-align: right;\n",
       "    }\n",
       "</style>\n",
       "<table border=\"1\" class=\"dataframe\">\n",
       "  <thead>\n",
       "    <tr style=\"text-align: right;\">\n",
       "      <th></th>\n",
       "      <th>EMI</th>\n",
       "      <th>ROI</th>\n",
       "      <th>EligibleLoanAmount</th>\n",
       "    </tr>\n",
       "  </thead>\n",
       "  <tbody>\n",
       "    <tr>\n",
       "      <th>0</th>\n",
       "      <td>1489.150000</td>\n",
       "      <td>0.136442</td>\n",
       "      <td>11100.000000</td>\n",
       "    </tr>\n",
       "    <tr>\n",
       "      <th>1</th>\n",
       "      <td>825.275000</td>\n",
       "      <td>0.215686</td>\n",
       "      <td>7499.999999</td>\n",
       "    </tr>\n",
       "    <tr>\n",
       "      <th>2</th>\n",
       "      <td>132.500000</td>\n",
       "      <td>0.116998</td>\n",
       "      <td>6000.000001</td>\n",
       "    </tr>\n",
       "    <tr>\n",
       "      <th>3</th>\n",
       "      <td>12.719840</td>\n",
       "      <td>0.125492</td>\n",
       "      <td>8700.000001</td>\n",
       "    </tr>\n",
       "    <tr>\n",
       "      <th>4</th>\n",
       "      <td>66.637575</td>\n",
       "      <td>0.241102</td>\n",
       "      <td>19800.000000</td>\n",
       "    </tr>\n",
       "  </tbody>\n",
       "</table>\n",
       "</div>"
      ],
      "text/plain": [
       "           EMI       ROI  EligibleLoanAmount\n",
       "0  1489.150000  0.136442        11100.000000\n",
       "1   825.275000  0.215686         7499.999999\n",
       "2   132.500000  0.116998         6000.000001\n",
       "3    12.719840  0.125492         8700.000001\n",
       "4    66.637575  0.241102        19800.000000"
      ]
     },
     "execution_count": 8,
     "metadata": {},
     "output_type": "execute_result"
    }
   ],
   "source": [
    "y2.head()"
   ]
  },
  {
   "cell_type": "code",
   "execution_count": 9,
   "metadata": {
    "id": "OUiIe5Wwa9rG"
   },
   "outputs": [],
   "source": [
    "y1_loan_status = y1['LoanStatus']\n",
    "y2_EMI= y2['EMI']\n",
    "y2_ROI= y2['ROI']\n",
    "y2_EligibleLoanAmount= y2['EligibleLoanAmount']"
   ]
  },
  {
   "cell_type": "code",
   "execution_count": 10,
   "metadata": {
    "colab": {
     "base_uri": "https://localhost:8080/",
     "height": 270
    },
    "id": "jvn5MQm7a9rG",
    "outputId": "72ddb6c1-96e8-4495-c27c-1f81d05c3488"
   },
   "outputs": [
    {
     "data": {
      "text/html": [
       "<div>\n",
       "<style scoped>\n",
       "    .dataframe tbody tr th:only-of-type {\n",
       "        vertical-align: middle;\n",
       "    }\n",
       "\n",
       "    .dataframe tbody tr th {\n",
       "        vertical-align: top;\n",
       "    }\n",
       "\n",
       "    .dataframe thead th {\n",
       "        text-align: right;\n",
       "    }\n",
       "</style>\n",
       "<table border=\"1\" class=\"dataframe\">\n",
       "  <thead>\n",
       "    <tr style=\"text-align: right;\">\n",
       "      <th></th>\n",
       "      <th>BorrowerAPR</th>\n",
       "      <th>CreditScoreRangeLower</th>\n",
       "      <th>CreditScoreRangeUpper</th>\n",
       "      <th>LP_CustomerPrincipalPayments</th>\n",
       "      <th>EstimatedReturn</th>\n",
       "      <th>LenderYield</th>\n",
       "      <th>LenderYield.1</th>\n",
       "      <th>LP_CustomerPayments</th>\n",
       "      <th>EstimatedLoss</th>\n",
       "      <th>BorrowerRate</th>\n",
       "    </tr>\n",
       "  </thead>\n",
       "  <tbody>\n",
       "    <tr>\n",
       "      <th>0</th>\n",
       "      <td>0.313647</td>\n",
       "      <td>0.727273</td>\n",
       "      <td>0.727273</td>\n",
       "      <td>0.269286</td>\n",
       "      <td>0.622761</td>\n",
       "      <td>0.294527</td>\n",
       "      <td>0.294527</td>\n",
       "      <td>0.280029</td>\n",
       "      <td>0.247189</td>\n",
       "      <td>0.317588</td>\n",
       "    </tr>\n",
       "    <tr>\n",
       "      <th>1</th>\n",
       "      <td>0.546030</td>\n",
       "      <td>0.545455</td>\n",
       "      <td>0.545455</td>\n",
       "      <td>0.085743</td>\n",
       "      <td>0.622761</td>\n",
       "      <td>0.497512</td>\n",
       "      <td>0.497512</td>\n",
       "      <td>0.102911</td>\n",
       "      <td>0.247189</td>\n",
       "      <td>0.552764</td>\n",
       "    </tr>\n",
       "    <tr>\n",
       "      <th>2</th>\n",
       "      <td>0.284325</td>\n",
       "      <td>0.727273</td>\n",
       "      <td>0.727273</td>\n",
       "      <td>0.028571</td>\n",
       "      <td>0.622761</td>\n",
       "      <td>0.263682</td>\n",
       "      <td>0.263682</td>\n",
       "      <td>0.024911</td>\n",
       "      <td>0.247189</td>\n",
       "      <td>0.266332</td>\n",
       "    </tr>\n",
       "    <tr>\n",
       "      <th>3</th>\n",
       "      <td>0.342376</td>\n",
       "      <td>0.772727</td>\n",
       "      <td>0.772727</td>\n",
       "      <td>0.002533</td>\n",
       "      <td>0.550386</td>\n",
       "      <td>0.285572</td>\n",
       "      <td>0.285572</td>\n",
       "      <td>0.003394</td>\n",
       "      <td>0.131543</td>\n",
       "      <td>0.288442</td>\n",
       "    </tr>\n",
       "    <tr>\n",
       "      <th>4</th>\n",
       "      <td>0.694875</td>\n",
       "      <td>0.795455</td>\n",
       "      <td>0.795455</td>\n",
       "      <td>0.005993</td>\n",
       "      <td>0.658877</td>\n",
       "      <td>0.632239</td>\n",
       "      <td>0.632239</td>\n",
       "      <td>0.012860</td>\n",
       "      <td>0.443367</td>\n",
       "      <td>0.638593</td>\n",
       "    </tr>\n",
       "  </tbody>\n",
       "</table>\n",
       "</div>"
      ],
      "text/plain": [
       "   BorrowerAPR  CreditScoreRangeLower  CreditScoreRangeUpper  \\\n",
       "0     0.313647               0.727273               0.727273   \n",
       "1     0.546030               0.545455               0.545455   \n",
       "2     0.284325               0.727273               0.727273   \n",
       "3     0.342376               0.772727               0.772727   \n",
       "4     0.694875               0.795455               0.795455   \n",
       "\n",
       "   LP_CustomerPrincipalPayments  EstimatedReturn  LenderYield  LenderYield.1  \\\n",
       "0                      0.269286         0.622761     0.294527       0.294527   \n",
       "1                      0.085743         0.622761     0.497512       0.497512   \n",
       "2                      0.028571         0.622761     0.263682       0.263682   \n",
       "3                      0.002533         0.550386     0.285572       0.285572   \n",
       "4                      0.005993         0.658877     0.632239       0.632239   \n",
       "\n",
       "   LP_CustomerPayments  EstimatedLoss  BorrowerRate  \n",
       "0             0.280029       0.247189      0.317588  \n",
       "1             0.102911       0.247189      0.552764  \n",
       "2             0.024911       0.247189      0.266332  \n",
       "3             0.003394       0.131543      0.288442  \n",
       "4             0.012860       0.443367      0.638593  "
      ]
     },
     "execution_count": 10,
     "metadata": {},
     "output_type": "execute_result"
    }
   ],
   "source": [
    "x1.head()"
   ]
  },
  {
   "cell_type": "code",
   "execution_count": 11,
   "metadata": {
    "colab": {
     "base_uri": "https://localhost:8080/",
     "height": 287
    },
    "id": "ygOdfE8-a9rH",
    "outputId": "e8b8e65d-f8de-4374-9eaf-547013bdacef"
   },
   "outputs": [
    {
     "data": {
      "text/html": [
       "<div>\n",
       "<style scoped>\n",
       "    .dataframe tbody tr th:only-of-type {\n",
       "        vertical-align: middle;\n",
       "    }\n",
       "\n",
       "    .dataframe tbody tr th {\n",
       "        vertical-align: top;\n",
       "    }\n",
       "\n",
       "    .dataframe thead th {\n",
       "        text-align: right;\n",
       "    }\n",
       "</style>\n",
       "<table border=\"1\" class=\"dataframe\">\n",
       "  <thead>\n",
       "    <tr style=\"text-align: right;\">\n",
       "      <th></th>\n",
       "      <th>LP_CustomerPayments</th>\n",
       "      <th>𝐿𝑜𝑎𝑛𝐷𝑎𝑡𝑒𝑦𝑒𝑎𝑟</th>\n",
       "      <th>month</th>\n",
       "      <th>𝑀𝑎𝑡𝑢𝑟𝑖𝑡𝑦𝐷𝑎𝑡𝑂𝑟𝑖𝑔𝑖𝑛𝑎𝑙𝑦𝑒𝑎𝑟</th>\n",
       "      <th>𝑀𝑎𝑡𝑢𝑟𝑖𝑡𝑦𝐷𝑎𝑡𝑒𝑂𝑟𝑖𝑔𝑖𝑛𝑎𝑙𝑚𝑜𝑛𝑡ℎ</th>\n",
       "      <th>LP_CustomerPrincipalPayments</th>\n",
       "      <th>TradesNeverDelinquent (percentage)</th>\n",
       "      <th>AvailableBankcardCredit</th>\n",
       "      <th>TotalInquiries</th>\n",
       "      <th>InterestAmount</th>\n",
       "      <th>TotalAmount</th>\n",
       "      <th>StatedMonthlyIncome</th>\n",
       "      <th>DebtToIncomeRatio</th>\n",
       "      <th>IncomeVerifiable</th>\n",
       "      <th>LoanOriginalAmount</th>\n",
       "      <th>BorrowerRate</th>\n",
       "      <th>LoanTenure</th>\n",
       "    </tr>\n",
       "  </thead>\n",
       "  <tbody>\n",
       "    <tr>\n",
       "      <th>0</th>\n",
       "      <td>11396.1400</td>\n",
       "      <td>1970</td>\n",
       "      <td>1</td>\n",
       "      <td>2007</td>\n",
       "      <td>9</td>\n",
       "      <td>9425.00</td>\n",
       "      <td>0.810000</td>\n",
       "      <td>1500.0000</td>\n",
       "      <td>3.0</td>\n",
       "      <td>1489.150</td>\n",
       "      <td>10914.150</td>\n",
       "      <td>3083.333333</td>\n",
       "      <td>0.17</td>\n",
       "      <td>1</td>\n",
       "      <td>9425</td>\n",
       "      <td>0.1580</td>\n",
       "      <td>436</td>\n",
       "    </tr>\n",
       "    <tr>\n",
       "      <th>1</th>\n",
       "      <td>4186.6300</td>\n",
       "      <td>1970</td>\n",
       "      <td>1</td>\n",
       "      <td>2007</td>\n",
       "      <td>1</td>\n",
       "      <td>3001.00</td>\n",
       "      <td>0.857548</td>\n",
       "      <td>10761.7755</td>\n",
       "      <td>1.0</td>\n",
       "      <td>825.275</td>\n",
       "      <td>3826.275</td>\n",
       "      <td>2083.333333</td>\n",
       "      <td>0.06</td>\n",
       "      <td>1</td>\n",
       "      <td>3001</td>\n",
       "      <td>0.2750</td>\n",
       "      <td>444</td>\n",
       "    </tr>\n",
       "    <tr>\n",
       "      <th>2</th>\n",
       "      <td>1011.6500</td>\n",
       "      <td>1970</td>\n",
       "      <td>1</td>\n",
       "      <td>2007</td>\n",
       "      <td>10</td>\n",
       "      <td>1000.00</td>\n",
       "      <td>0.400000</td>\n",
       "      <td>2580.0000</td>\n",
       "      <td>5.0</td>\n",
       "      <td>132.500</td>\n",
       "      <td>1132.500</td>\n",
       "      <td>1666.666667</td>\n",
       "      <td>0.27</td>\n",
       "      <td>1</td>\n",
       "      <td>1000</td>\n",
       "      <td>0.1325</td>\n",
       "      <td>435</td>\n",
       "    </tr>\n",
       "    <tr>\n",
       "      <th>3</th>\n",
       "      <td>135.8174</td>\n",
       "      <td>1970</td>\n",
       "      <td>1</td>\n",
       "      <td>2014</td>\n",
       "      <td>1</td>\n",
       "      <td>88.64</td>\n",
       "      <td>1.000000</td>\n",
       "      <td>3626.0000</td>\n",
       "      <td>4.0</td>\n",
       "      <td>574.000</td>\n",
       "      <td>4574.000</td>\n",
       "      <td>2416.666667</td>\n",
       "      <td>0.18</td>\n",
       "      <td>1</td>\n",
       "      <td>4000</td>\n",
       "      <td>0.1435</td>\n",
       "      <td>528</td>\n",
       "    </tr>\n",
       "    <tr>\n",
       "      <th>4</th>\n",
       "      <td>521.1300</td>\n",
       "      <td>1970</td>\n",
       "      <td>1</td>\n",
       "      <td>2012</td>\n",
       "      <td>4</td>\n",
       "      <td>209.75</td>\n",
       "      <td>0.940000</td>\n",
       "      <td>178.0000</td>\n",
       "      <td>1.0</td>\n",
       "      <td>1270.800</td>\n",
       "      <td>5270.800</td>\n",
       "      <td>5500.000000</td>\n",
       "      <td>0.49</td>\n",
       "      <td>1</td>\n",
       "      <td>4000</td>\n",
       "      <td>0.3177</td>\n",
       "      <td>501</td>\n",
       "    </tr>\n",
       "  </tbody>\n",
       "</table>\n",
       "</div>"
      ],
      "text/plain": [
       "   LP_CustomerPayments  𝐿𝑜𝑎𝑛𝐷𝑎𝑡𝑒𝑦𝑒𝑎𝑟  month  𝑀𝑎𝑡𝑢𝑟𝑖𝑡𝑦𝐷𝑎𝑡𝑂𝑟𝑖𝑔𝑖𝑛𝑎𝑙𝑦𝑒𝑎𝑟  \\\n",
       "0           11396.1400          1970      1                     2007   \n",
       "1            4186.6300          1970      1                     2007   \n",
       "2            1011.6500          1970      1                     2007   \n",
       "3             135.8174          1970      1                     2014   \n",
       "4             521.1300          1970      1                     2012   \n",
       "\n",
       "   𝑀𝑎𝑡𝑢𝑟𝑖𝑡𝑦𝐷𝑎𝑡𝑒𝑂𝑟𝑖𝑔𝑖𝑛𝑎𝑙𝑚𝑜𝑛𝑡ℎ  LP_CustomerPrincipalPayments  \\\n",
       "0                          9                       9425.00   \n",
       "1                          1                       3001.00   \n",
       "2                         10                       1000.00   \n",
       "3                          1                         88.64   \n",
       "4                          4                        209.75   \n",
       "\n",
       "   TradesNeverDelinquent (percentage)  AvailableBankcardCredit  \\\n",
       "0                            0.810000                1500.0000   \n",
       "1                            0.857548               10761.7755   \n",
       "2                            0.400000                2580.0000   \n",
       "3                            1.000000                3626.0000   \n",
       "4                            0.940000                 178.0000   \n",
       "\n",
       "   TotalInquiries  InterestAmount  TotalAmount  StatedMonthlyIncome  \\\n",
       "0             3.0        1489.150    10914.150          3083.333333   \n",
       "1             1.0         825.275     3826.275          2083.333333   \n",
       "2             5.0         132.500     1132.500          1666.666667   \n",
       "3             4.0         574.000     4574.000          2416.666667   \n",
       "4             1.0        1270.800     5270.800          5500.000000   \n",
       "\n",
       "   DebtToIncomeRatio  IncomeVerifiable  LoanOriginalAmount  BorrowerRate  \\\n",
       "0               0.17                 1                9425        0.1580   \n",
       "1               0.06                 1                3001        0.2750   \n",
       "2               0.27                 1                1000        0.1325   \n",
       "3               0.18                 1                4000        0.1435   \n",
       "4               0.49                 1                4000        0.3177   \n",
       "\n",
       "   LoanTenure  \n",
       "0         436  \n",
       "1         444  \n",
       "2         435  \n",
       "3         528  \n",
       "4         501  "
      ]
     },
     "execution_count": 11,
     "metadata": {},
     "output_type": "execute_result"
    }
   ],
   "source": [
    "x2.head()"
   ]
  },
  {
   "cell_type": "code",
   "execution_count": 12,
   "metadata": {
    "colab": {
     "base_uri": "https://localhost:8080/"
    },
    "id": "h-XLEtOHa9rH",
    "outputId": "dafeca97-e1d7-46d1-d7e9-c5cbe4651906"
   },
   "outputs": [
    {
     "name": "stdout",
     "output_type": "stream",
     "text": [
      "0.000000       515\n",
      "1270.800000    417\n",
      "1279.600000     93\n",
      "635.400000      82\n",
      "600.000000      79\n",
      "              ... \n",
      "54.170214        1\n",
      "1446.667775      1\n",
      "830.998615       1\n",
      "386.980264       1\n",
      "659.750000       1\n",
      "Name: EMI, Length: 28087, dtype: int64\n",
      "0        0.136442\n",
      "1        0.215686\n",
      "2        0.116998\n",
      "3        0.125492\n",
      "4        0.241102\n",
      "           ...   \n",
      "42353    0.097473\n",
      "42354    0.114653\n",
      "42355    0.172802\n",
      "42356    0.224806\n",
      "42357    0.208798\n",
      "Name: ROI, Length: 42358, dtype: float64\n",
      "18000.000000    1211\n",
      "15000.000000    1137\n",
      "12000.000000    1096\n",
      "9000.000000     1025\n",
      "13500.000000     880\n",
      "                ... \n",
      "34762.500000       1\n",
      "11998.500000       1\n",
      "11716.800000       1\n",
      "6122.400001        1\n",
      "4908.300001        1\n",
      "Name: EligibleLoanAmount, Length: 7667, dtype: int64\n"
     ]
    }
   ],
   "source": [
    "y2_EMI=y2_EMI.value_counts()\n",
    "print(y2_EMI)\n",
    "y2_EOI=y2_ROI.value_counts()\n",
    "print(y2_ROI)\n",
    "y2_EligibleLoanAmount=y2_EligibleLoanAmount.value_counts()\n",
    "print(y2_EligibleLoanAmount)\n"
   ]
  },
  {
   "cell_type": "markdown",
   "metadata": {
    "id": "KSeogzjga9rI"
   },
   "source": [
    "---"
   ]
  },
  {
   "cell_type": "markdown",
   "metadata": {
    "id": "nAYxZYLXa9rI"
   },
   "source": [
    "**train, test split**"
   ]
  },
  {
   "cell_type": "code",
   "execution_count": 13,
   "metadata": {
    "colab": {
     "base_uri": "https://localhost:8080/"
    },
    "id": "70u79rpugSKs",
    "outputId": "b679ed01-73fa-4875-d5e9-d1b7774026eb"
   },
   "outputs": [
    {
     "name": "stdout",
     "output_type": "stream",
     "text": [
      "(57361, 10)\n",
      "(57361, 1)\n"
     ]
    }
   ],
   "source": [
    "print(x1.shape)\n",
    "print(y1.shape)"
   ]
  },
  {
   "cell_type": "code",
   "execution_count": 14,
   "metadata": {
    "colab": {
     "base_uri": "https://localhost:8080/"
    },
    "id": "DYtb3Mo1goQY",
    "outputId": "89508ec8-4f74-454d-c5a2-88f310dd1884"
   },
   "outputs": [
    {
     "name": "stdout",
     "output_type": "stream",
     "text": [
      "(42358, 17)\n",
      "(42358, 3)\n"
     ]
    }
   ],
   "source": [
    "print(x2.shape)\n",
    "print(y2.shape)"
   ]
  },
  {
   "cell_type": "code",
   "execution_count": 15,
   "metadata": {
    "id": "RoiljT22sKqP"
   },
   "outputs": [],
   "source": [
    "y2 = y2.fillna(0)"
   ]
  },
  {
   "cell_type": "code",
   "execution_count": 16,
   "metadata": {
    "id": "0v6ISR92a9rI"
   },
   "outputs": [],
   "source": [
    "X_train1, X_test1, y_train, y_test = train_test_split(x1, y1, test_size=0.20, random_state=0)\n",
    "\n",
    "yLoanstates_train = y_train\n",
    "yLoanstates_test = y_test\n",
    "\n",
    "X_train2, X_test2, y_train, y_test = train_test_split(x2, y2, test_size=0.20, random_state=0)\n",
    "\n",
    "\n",
    "yEMI_train = y_train['EMI']\n",
    "yROI_train = y_train['ROI']\n",
    "yEligibleLoanAmount_train = y_train['EligibleLoanAmount']\n",
    "\n",
    "yEMI_test = y_test['EMI']\n",
    "yROI_test = y_test['ROI']\n",
    "yEligibleLoanAmount_test = y_test['EligibleLoanAmount']\n",
    "\n",
    "\n"
   ]
  },
  {
   "cell_type": "markdown",
   "metadata": {
    "id": "44OqCHhua9rI"
   },
   "source": [
    "---"
   ]
  },
  {
   "cell_type": "markdown",
   "metadata": {
    "id": "Lc9cs69ca9rJ"
   },
   "source": [
    "## data preprocessing"
   ]
  },
  {
   "cell_type": "code",
   "execution_count": 17,
   "metadata": {
    "id": "7LyBUpqpa9rJ"
   },
   "outputs": [],
   "source": [
    "from imblearn.over_sampling import RandomOverSampler\n",
    "from imblearn.over_sampling import SMOTE\n",
    "from sklearn.decomposition import PCA\n",
    "from sklearn.preprocessing import StandardScaler, MinMaxScaler\n",
    "from sklearn.pipeline import Pipeline\n",
    "\n",
    "# Define the oversampling and scaling transformers\n",
    "over = RandomOverSampler(random_state=0)\n",
    "smote = SMOTE()\n",
    "stdscaler = StandardScaler()\n",
    "scaler = MinMaxScaler()\n",
    "\n",
    "\n",
    "pca = PCA(n_components=2)\n",
    "\n",
    "# Define the pipeline\n",
    "steps=[(\"scaling\",StandardScaler()),\n",
    "      (\"PCA\",PCA(n_components=3)),\n",
    "      ]\n",
    "pipeline=Pipeline(steps)\n"
   ]
  },
  {
   "cell_type": "markdown",
   "metadata": {
    "id": "-yWt-yaPa9rJ"
   },
   "source": [
    "---"
   ]
  },
  {
   "cell_type": "markdown",
   "metadata": {
    "id": "rLSWm31Ha9rJ"
   },
   "source": [
    "## classification"
   ]
  },
  {
   "cell_type": "markdown",
   "metadata": {
    "id": "-L0DENWXa9rJ"
   },
   "source": [
    "**classifier learning**"
   ]
  },
  {
   "cell_type": "code",
   "execution_count": 39,
   "metadata": {},
   "outputs": [
    {
     "data": {
      "text/html": [
       "<div>\n",
       "<style scoped>\n",
       "    .dataframe tbody tr th:only-of-type {\n",
       "        vertical-align: middle;\n",
       "    }\n",
       "\n",
       "    .dataframe tbody tr th {\n",
       "        vertical-align: top;\n",
       "    }\n",
       "\n",
       "    .dataframe thead th {\n",
       "        text-align: right;\n",
       "    }\n",
       "</style>\n",
       "<table border=\"1\" class=\"dataframe\">\n",
       "  <thead>\n",
       "    <tr style=\"text-align: right;\">\n",
       "      <th></th>\n",
       "      <th>BorrowerAPR</th>\n",
       "      <th>CreditScoreRangeLower</th>\n",
       "      <th>CreditScoreRangeUpper</th>\n",
       "      <th>LP_CustomerPrincipalPayments</th>\n",
       "      <th>EstimatedReturn</th>\n",
       "      <th>LenderYield</th>\n",
       "      <th>LenderYield.1</th>\n",
       "      <th>LP_CustomerPayments</th>\n",
       "      <th>EstimatedLoss</th>\n",
       "      <th>BorrowerRate</th>\n",
       "    </tr>\n",
       "  </thead>\n",
       "  <tbody>\n",
       "    <tr>\n",
       "      <th>44454</th>\n",
       "      <td>0.156952</td>\n",
       "      <td>0.840909</td>\n",
       "      <td>0.840909</td>\n",
       "      <td>0.178571</td>\n",
       "      <td>0.513937</td>\n",
       "      <td>0.164179</td>\n",
       "      <td>0.164179</td>\n",
       "      <td>0.173932</td>\n",
       "      <td>0.029355</td>\n",
       "      <td>0.165829</td>\n",
       "    </tr>\n",
       "    <tr>\n",
       "      <th>16559</th>\n",
       "      <td>0.394080</td>\n",
       "      <td>0.704545</td>\n",
       "      <td>0.704545</td>\n",
       "      <td>0.007309</td>\n",
       "      <td>0.622761</td>\n",
       "      <td>0.404975</td>\n",
       "      <td>0.404975</td>\n",
       "      <td>0.009625</td>\n",
       "      <td>0.247189</td>\n",
       "      <td>0.398995</td>\n",
       "    </tr>\n",
       "    <tr>\n",
       "      <th>43181</th>\n",
       "      <td>0.575826</td>\n",
       "      <td>0.659091</td>\n",
       "      <td>0.659091</td>\n",
       "      <td>0.033389</td>\n",
       "      <td>0.622761</td>\n",
       "      <td>0.587065</td>\n",
       "      <td>0.587065</td>\n",
       "      <td>0.054574</td>\n",
       "      <td>0.247189</td>\n",
       "      <td>0.582915</td>\n",
       "    </tr>\n",
       "    <tr>\n",
       "      <th>4108</th>\n",
       "      <td>0.565505</td>\n",
       "      <td>0.704545</td>\n",
       "      <td>0.704545</td>\n",
       "      <td>0.033942</td>\n",
       "      <td>0.683962</td>\n",
       "      <td>0.512239</td>\n",
       "      <td>0.512239</td>\n",
       "      <td>0.059243</td>\n",
       "      <td>0.277209</td>\n",
       "      <td>0.517387</td>\n",
       "    </tr>\n",
       "    <tr>\n",
       "      <th>18042</th>\n",
       "      <td>0.530074</td>\n",
       "      <td>0.795455</td>\n",
       "      <td>0.795455</td>\n",
       "      <td>0.242857</td>\n",
       "      <td>0.700901</td>\n",
       "      <td>0.495323</td>\n",
       "      <td>0.495323</td>\n",
       "      <td>0.259795</td>\n",
       "      <td>0.232899</td>\n",
       "      <td>0.500302</td>\n",
       "    </tr>\n",
       "    <tr>\n",
       "      <th>...</th>\n",
       "      <td>...</td>\n",
       "      <td>...</td>\n",
       "      <td>...</td>\n",
       "      <td>...</td>\n",
       "      <td>...</td>\n",
       "      <td>...</td>\n",
       "      <td>...</td>\n",
       "      <td>...</td>\n",
       "      <td>...</td>\n",
       "      <td>...</td>\n",
       "    </tr>\n",
       "    <tr>\n",
       "      <th>33271</th>\n",
       "      <td>0.433961</td>\n",
       "      <td>0.772727</td>\n",
       "      <td>0.772727</td>\n",
       "      <td>0.428571</td>\n",
       "      <td>0.584177</td>\n",
       "      <td>0.400995</td>\n",
       "      <td>0.400995</td>\n",
       "      <td>0.383347</td>\n",
       "      <td>0.228469</td>\n",
       "      <td>0.405025</td>\n",
       "    </tr>\n",
       "    <tr>\n",
       "      <th>11078</th>\n",
       "      <td>0.575826</td>\n",
       "      <td>0.590909</td>\n",
       "      <td>0.590909</td>\n",
       "      <td>0.100169</td>\n",
       "      <td>0.622761</td>\n",
       "      <td>0.587065</td>\n",
       "      <td>0.587065</td>\n",
       "      <td>0.112009</td>\n",
       "      <td>0.247189</td>\n",
       "      <td>0.582915</td>\n",
       "    </tr>\n",
       "    <tr>\n",
       "      <th>36609</th>\n",
       "      <td>0.138939</td>\n",
       "      <td>0.863636</td>\n",
       "      <td>0.863636</td>\n",
       "      <td>0.071429</td>\n",
       "      <td>0.622761</td>\n",
       "      <td>0.159204</td>\n",
       "      <td>0.159204</td>\n",
       "      <td>0.068333</td>\n",
       "      <td>0.247189</td>\n",
       "      <td>0.140704</td>\n",
       "    </tr>\n",
       "    <tr>\n",
       "      <th>2988</th>\n",
       "      <td>0.230465</td>\n",
       "      <td>0.840909</td>\n",
       "      <td>0.840909</td>\n",
       "      <td>0.280000</td>\n",
       "      <td>0.543525</td>\n",
       "      <td>0.202985</td>\n",
       "      <td>0.202985</td>\n",
       "      <td>0.252748</td>\n",
       "      <td>0.044586</td>\n",
       "      <td>0.205025</td>\n",
       "    </tr>\n",
       "    <tr>\n",
       "      <th>37957</th>\n",
       "      <td>0.570093</td>\n",
       "      <td>0.818182</td>\n",
       "      <td>0.818182</td>\n",
       "      <td>0.285714</td>\n",
       "      <td>0.666166</td>\n",
       "      <td>0.509652</td>\n",
       "      <td>0.509652</td>\n",
       "      <td>0.338336</td>\n",
       "      <td>0.296594</td>\n",
       "      <td>0.514774</td>\n",
       "    </tr>\n",
       "  </tbody>\n",
       "</table>\n",
       "<p>11473 rows × 10 columns</p>\n",
       "</div>"
      ],
      "text/plain": [
       "       BorrowerAPR  CreditScoreRangeLower  CreditScoreRangeUpper  \\\n",
       "44454     0.156952               0.840909               0.840909   \n",
       "16559     0.394080               0.704545               0.704545   \n",
       "43181     0.575826               0.659091               0.659091   \n",
       "4108      0.565505               0.704545               0.704545   \n",
       "18042     0.530074               0.795455               0.795455   \n",
       "...            ...                    ...                    ...   \n",
       "33271     0.433961               0.772727               0.772727   \n",
       "11078     0.575826               0.590909               0.590909   \n",
       "36609     0.138939               0.863636               0.863636   \n",
       "2988      0.230465               0.840909               0.840909   \n",
       "37957     0.570093               0.818182               0.818182   \n",
       "\n",
       "       LP_CustomerPrincipalPayments  EstimatedReturn  LenderYield  \\\n",
       "44454                      0.178571         0.513937     0.164179   \n",
       "16559                      0.007309         0.622761     0.404975   \n",
       "43181                      0.033389         0.622761     0.587065   \n",
       "4108                       0.033942         0.683962     0.512239   \n",
       "18042                      0.242857         0.700901     0.495323   \n",
       "...                             ...              ...          ...   \n",
       "33271                      0.428571         0.584177     0.400995   \n",
       "11078                      0.100169         0.622761     0.587065   \n",
       "36609                      0.071429         0.622761     0.159204   \n",
       "2988                       0.280000         0.543525     0.202985   \n",
       "37957                      0.285714         0.666166     0.509652   \n",
       "\n",
       "       LenderYield.1  LP_CustomerPayments  EstimatedLoss  BorrowerRate  \n",
       "44454       0.164179             0.173932       0.029355      0.165829  \n",
       "16559       0.404975             0.009625       0.247189      0.398995  \n",
       "43181       0.587065             0.054574       0.247189      0.582915  \n",
       "4108        0.512239             0.059243       0.277209      0.517387  \n",
       "18042       0.495323             0.259795       0.232899      0.500302  \n",
       "...              ...                  ...            ...           ...  \n",
       "33271       0.400995             0.383347       0.228469      0.405025  \n",
       "11078       0.587065             0.112009       0.247189      0.582915  \n",
       "36609       0.159204             0.068333       0.247189      0.140704  \n",
       "2988        0.202985             0.252748       0.044586      0.205025  \n",
       "37957       0.509652             0.338336       0.296594      0.514774  \n",
       "\n",
       "[11473 rows x 10 columns]"
      ]
     },
     "execution_count": 39,
     "metadata": {},
     "output_type": "execute_result"
    }
   ],
   "source": [
    "X_test1"
   ]
  },
  {
   "cell_type": "code",
   "execution_count": 40,
   "metadata": {},
   "outputs": [
    {
     "data": {
      "text/plain": [
       "Index(['BorrowerAPR', 'CreditScoreRangeLower', 'CreditScoreRangeUpper',\n",
       "       'LP_CustomerPrincipalPayments', 'EstimatedReturn', 'LenderYield',\n",
       "       'LenderYield.1', 'LP_CustomerPayments', 'EstimatedLoss',\n",
       "       'BorrowerRate'],\n",
       "      dtype='object')"
      ]
     },
     "execution_count": 40,
     "metadata": {},
     "output_type": "execute_result"
    }
   ],
   "source": [
    "X_test1.columns"
   ]
  },
  {
   "cell_type": "code",
   "execution_count": 18,
   "metadata": {
    "id": "0EswlxhPnx6c"
   },
   "outputs": [],
   "source": [
    "import xgboost as xgb\n",
    "from sklearn.metrics import mean_squared_error\n",
    "from sklearn.linear_model import LinearRegression\n",
    "from sklearn.linear_model import Lasso\n",
    "from sklearn.ensemble import GradientBoostingRegressor"
   ]
  },
  {
   "cell_type": "code",
   "execution_count": 19,
   "metadata": {
    "id": "DWkwwk5pa9rJ"
   },
   "outputs": [],
   "source": [
    "xgb_regressor = xgb.XGBRegressor()\n",
    "ls = Lasso(alpha=0.1)\n",
    "lr = LinearRegression()\n"
   ]
  },
  {
   "cell_type": "code",
   "execution_count": 20,
   "metadata": {
    "id": "g5ogENPIa9rJ"
   },
   "outputs": [],
   "source": [
    "estimators = [('XGB', xgb_regressor)]\n",
    "clf = StackingClassifier(estimators=estimators)"
   ]
  },
  {
   "cell_type": "code",
   "execution_count": 21,
   "metadata": {
    "id": "WgArM_nEa9rK"
   },
   "outputs": [],
   "source": [
    "model_classifier = Pipeline([\n",
    "    ('stdscaler', stdscaler),\n",
    "    ('pca', pca),\n",
    "    ('classifier', clf)\n",
    "])"
   ]
  },
  {
   "cell_type": "code",
   "execution_count": 22,
   "metadata": {
    "colab": {
     "base_uri": "https://localhost:8080/"
    },
    "id": "oH5LRVmHa9rK",
    "outputId": "504ab84b-ba6a-48c1-c0ea-c5c57cfa6faf"
   },
   "outputs": [
    {
     "name": "stdout",
     "output_type": "stream",
     "text": [
      "test accuracy =  76.68 %\n"
     ]
    }
   ],
   "source": [
    "model_classifier.fit(X_train1, yLoanstates_train)\n",
    "pred = model_classifier.predict(X_test1)\n",
    "print('test accuracy = ', round(accuracy_score(yLoanstates_test, pred)*100, 2), '%')"
   ]
  },
  {
   "cell_type": "code",
   "execution_count": 23,
   "metadata": {},
   "outputs": [],
   "source": [
    "pickle.dump(model_classifier, open('model_classifier.pkl', 'wb'))"
   ]
  },
  {
   "cell_type": "code",
   "execution_count": 24,
   "metadata": {
    "colab": {
     "base_uri": "https://localhost:8080/"
    },
    "id": "AHUGfCEka9rK",
    "outputId": "ed65f92d-188a-4bc0-dcfb-5f9d7d7753ea"
   },
   "outputs": [
    {
     "name": "stdout",
     "output_type": "stream",
     "text": [
      "              precision    recall  f1-score   support\n",
      "\n",
      "           0      0.612     0.295     0.398      2998\n",
      "           1      0.789     0.934     0.855      8475\n",
      "\n",
      "    accuracy                          0.767     11473\n",
      "   macro avg      0.700     0.614     0.627     11473\n",
      "weighted avg      0.743     0.767     0.736     11473\n",
      "\n"
     ]
    }
   ],
   "source": [
    "print(classification_report(yLoanstates_test, pred, digits=3))"
   ]
  },
  {
   "cell_type": "markdown",
   "metadata": {
    "id": "jWHea7qia9rK"
   },
   "source": [
    "**regression**"
   ]
  },
  {
   "cell_type": "code",
   "execution_count": 25,
   "metadata": {
    "scrolled": true
   },
   "outputs": [
    {
     "data": {
      "text/html": [
       "<div>\n",
       "<style scoped>\n",
       "    .dataframe tbody tr th:only-of-type {\n",
       "        vertical-align: middle;\n",
       "    }\n",
       "\n",
       "    .dataframe tbody tr th {\n",
       "        vertical-align: top;\n",
       "    }\n",
       "\n",
       "    .dataframe thead th {\n",
       "        text-align: right;\n",
       "    }\n",
       "</style>\n",
       "<table border=\"1\" class=\"dataframe\">\n",
       "  <thead>\n",
       "    <tr style=\"text-align: right;\">\n",
       "      <th></th>\n",
       "      <th>LP_CustomerPayments</th>\n",
       "      <th>𝐿𝑜𝑎𝑛𝐷𝑎𝑡𝑒𝑦𝑒𝑎𝑟</th>\n",
       "      <th>month</th>\n",
       "      <th>𝑀𝑎𝑡𝑢𝑟𝑖𝑡𝑦𝐷𝑎𝑡𝑂𝑟𝑖𝑔𝑖𝑛𝑎𝑙𝑦𝑒𝑎𝑟</th>\n",
       "      <th>𝑀𝑎𝑡𝑢𝑟𝑖𝑡𝑦𝐷𝑎𝑡𝑒𝑂𝑟𝑖𝑔𝑖𝑛𝑎𝑙𝑚𝑜𝑛𝑡ℎ</th>\n",
       "      <th>LP_CustomerPrincipalPayments</th>\n",
       "      <th>TradesNeverDelinquent (percentage)</th>\n",
       "      <th>AvailableBankcardCredit</th>\n",
       "      <th>TotalInquiries</th>\n",
       "      <th>InterestAmount</th>\n",
       "      <th>TotalAmount</th>\n",
       "      <th>StatedMonthlyIncome</th>\n",
       "      <th>DebtToIncomeRatio</th>\n",
       "      <th>IncomeVerifiable</th>\n",
       "      <th>LoanOriginalAmount</th>\n",
       "      <th>BorrowerRate</th>\n",
       "      <th>LoanTenure</th>\n",
       "    </tr>\n",
       "  </thead>\n",
       "  <tbody>\n",
       "    <tr>\n",
       "      <th>5679</th>\n",
       "      <td>1865.81</td>\n",
       "      <td>1970</td>\n",
       "      <td>1</td>\n",
       "      <td>2012</td>\n",
       "      <td>4</td>\n",
       "      <td>731.85</td>\n",
       "      <td>0.540000</td>\n",
       "      <td>0.0000</td>\n",
       "      <td>1.0</td>\n",
       "      <td>1270.8</td>\n",
       "      <td>5270.8</td>\n",
       "      <td>5416.666667</td>\n",
       "      <td>0.11</td>\n",
       "      <td>1</td>\n",
       "      <td>4000</td>\n",
       "      <td>0.3177</td>\n",
       "      <td>501</td>\n",
       "    </tr>\n",
       "    <tr>\n",
       "      <th>3151</th>\n",
       "      <td>15734.13</td>\n",
       "      <td>1970</td>\n",
       "      <td>1</td>\n",
       "      <td>2011</td>\n",
       "      <td>4</td>\n",
       "      <td>15000.00</td>\n",
       "      <td>1.000000</td>\n",
       "      <td>15991.0000</td>\n",
       "      <td>1.0</td>\n",
       "      <td>1785.0</td>\n",
       "      <td>16785.0</td>\n",
       "      <td>4583.333333</td>\n",
       "      <td>0.09</td>\n",
       "      <td>1</td>\n",
       "      <td>15000</td>\n",
       "      <td>0.1190</td>\n",
       "      <td>489</td>\n",
       "    </tr>\n",
       "    <tr>\n",
       "      <th>25838</th>\n",
       "      <td>8083.01</td>\n",
       "      <td>1970</td>\n",
       "      <td>1</td>\n",
       "      <td>2007</td>\n",
       "      <td>9</td>\n",
       "      <td>5669.55</td>\n",
       "      <td>0.440000</td>\n",
       "      <td>0.0000</td>\n",
       "      <td>9.0</td>\n",
       "      <td>1491.0</td>\n",
       "      <td>8591.0</td>\n",
       "      <td>3958.000000</td>\n",
       "      <td>0.16</td>\n",
       "      <td>1</td>\n",
       "      <td>7100</td>\n",
       "      <td>0.2100</td>\n",
       "      <td>436</td>\n",
       "    </tr>\n",
       "    <tr>\n",
       "      <th>10143</th>\n",
       "      <td>7568.86</td>\n",
       "      <td>1970</td>\n",
       "      <td>1</td>\n",
       "      <td>2007</td>\n",
       "      <td>9</td>\n",
       "      <td>6000.00</td>\n",
       "      <td>0.900000</td>\n",
       "      <td>1638.0000</td>\n",
       "      <td>16.0</td>\n",
       "      <td>1155.6</td>\n",
       "      <td>7155.6</td>\n",
       "      <td>6000.000000</td>\n",
       "      <td>0.14</td>\n",
       "      <td>1</td>\n",
       "      <td>6000</td>\n",
       "      <td>0.1926</td>\n",
       "      <td>436</td>\n",
       "    </tr>\n",
       "    <tr>\n",
       "      <th>23122</th>\n",
       "      <td>4921.12</td>\n",
       "      <td>1970</td>\n",
       "      <td>1</td>\n",
       "      <td>2012</td>\n",
       "      <td>1</td>\n",
       "      <td>1253.50</td>\n",
       "      <td>0.950000</td>\n",
       "      <td>6767.0000</td>\n",
       "      <td>11.0</td>\n",
       "      <td>2737.0</td>\n",
       "      <td>12737.0</td>\n",
       "      <td>3333.333333</td>\n",
       "      <td>0.33</td>\n",
       "      <td>1</td>\n",
       "      <td>10000</td>\n",
       "      <td>0.2737</td>\n",
       "      <td>504</td>\n",
       "    </tr>\n",
       "    <tr>\n",
       "      <th>...</th>\n",
       "      <td>...</td>\n",
       "      <td>...</td>\n",
       "      <td>...</td>\n",
       "      <td>...</td>\n",
       "      <td>...</td>\n",
       "      <td>...</td>\n",
       "      <td>...</td>\n",
       "      <td>...</td>\n",
       "      <td>...</td>\n",
       "      <td>...</td>\n",
       "      <td>...</td>\n",
       "      <td>...</td>\n",
       "      <td>...</td>\n",
       "      <td>...</td>\n",
       "      <td>...</td>\n",
       "      <td>...</td>\n",
       "      <td>...</td>\n",
       "    </tr>\n",
       "    <tr>\n",
       "      <th>1663</th>\n",
       "      <td>16424.62</td>\n",
       "      <td>1970</td>\n",
       "      <td>1</td>\n",
       "      <td>2011</td>\n",
       "      <td>1</td>\n",
       "      <td>15000.00</td>\n",
       "      <td>1.000000</td>\n",
       "      <td>42847.0000</td>\n",
       "      <td>2.0</td>\n",
       "      <td>898.5</td>\n",
       "      <td>15898.5</td>\n",
       "      <td>5833.333333</td>\n",
       "      <td>0.16</td>\n",
       "      <td>1</td>\n",
       "      <td>15000</td>\n",
       "      <td>0.0599</td>\n",
       "      <td>492</td>\n",
       "    </tr>\n",
       "    <tr>\n",
       "      <th>26840</th>\n",
       "      <td>15609.59</td>\n",
       "      <td>1970</td>\n",
       "      <td>1</td>\n",
       "      <td>2010</td>\n",
       "      <td>8</td>\n",
       "      <td>14500.00</td>\n",
       "      <td>0.830000</td>\n",
       "      <td>5471.0000</td>\n",
       "      <td>2.0</td>\n",
       "      <td>1856.0</td>\n",
       "      <td>16356.0</td>\n",
       "      <td>7000.000000</td>\n",
       "      <td>0.15</td>\n",
       "      <td>1</td>\n",
       "      <td>14500</td>\n",
       "      <td>0.1280</td>\n",
       "      <td>473</td>\n",
       "    </tr>\n",
       "    <tr>\n",
       "      <th>33404</th>\n",
       "      <td>3660.07</td>\n",
       "      <td>1970</td>\n",
       "      <td>1</td>\n",
       "      <td>2008</td>\n",
       "      <td>1</td>\n",
       "      <td>2999.99</td>\n",
       "      <td>1.000000</td>\n",
       "      <td>26420.0000</td>\n",
       "      <td>6.0</td>\n",
       "      <td>402.0</td>\n",
       "      <td>3402.0</td>\n",
       "      <td>5250.000000</td>\n",
       "      <td>0.28</td>\n",
       "      <td>1</td>\n",
       "      <td>3000</td>\n",
       "      <td>0.1340</td>\n",
       "      <td>456</td>\n",
       "    </tr>\n",
       "    <tr>\n",
       "      <th>30847</th>\n",
       "      <td>251.44</td>\n",
       "      <td>1970</td>\n",
       "      <td>1</td>\n",
       "      <td>2006</td>\n",
       "      <td>8</td>\n",
       "      <td>109.91</td>\n",
       "      <td>0.857548</td>\n",
       "      <td>10761.7755</td>\n",
       "      <td>11.0</td>\n",
       "      <td>435.0</td>\n",
       "      <td>1935.0</td>\n",
       "      <td>2800.000000</td>\n",
       "      <td>0.12</td>\n",
       "      <td>1</td>\n",
       "      <td>1500</td>\n",
       "      <td>0.2900</td>\n",
       "      <td>425</td>\n",
       "    </tr>\n",
       "    <tr>\n",
       "      <th>26178</th>\n",
       "      <td>1206.44</td>\n",
       "      <td>1970</td>\n",
       "      <td>1</td>\n",
       "      <td>2007</td>\n",
       "      <td>10</td>\n",
       "      <td>1200.00</td>\n",
       "      <td>0.720000</td>\n",
       "      <td>2351.0000</td>\n",
       "      <td>13.0</td>\n",
       "      <td>192.0</td>\n",
       "      <td>1392.0</td>\n",
       "      <td>3083.333333</td>\n",
       "      <td>0.26</td>\n",
       "      <td>1</td>\n",
       "      <td>1200</td>\n",
       "      <td>0.1600</td>\n",
       "      <td>435</td>\n",
       "    </tr>\n",
       "  </tbody>\n",
       "</table>\n",
       "<p>8472 rows × 17 columns</p>\n",
       "</div>"
      ],
      "text/plain": [
       "       LP_CustomerPayments  𝐿𝑜𝑎𝑛𝐷𝑎𝑡𝑒𝑦𝑒𝑎𝑟  month  𝑀𝑎𝑡𝑢𝑟𝑖𝑡𝑦𝐷𝑎𝑡𝑂𝑟𝑖𝑔𝑖𝑛𝑎𝑙𝑦𝑒𝑎𝑟  \\\n",
       "5679               1865.81          1970      1                     2012   \n",
       "3151              15734.13          1970      1                     2011   \n",
       "25838              8083.01          1970      1                     2007   \n",
       "10143              7568.86          1970      1                     2007   \n",
       "23122              4921.12          1970      1                     2012   \n",
       "...                    ...           ...    ...                      ...   \n",
       "1663              16424.62          1970      1                     2011   \n",
       "26840             15609.59          1970      1                     2010   \n",
       "33404              3660.07          1970      1                     2008   \n",
       "30847               251.44          1970      1                     2006   \n",
       "26178              1206.44          1970      1                     2007   \n",
       "\n",
       "       𝑀𝑎𝑡𝑢𝑟𝑖𝑡𝑦𝐷𝑎𝑡𝑒𝑂𝑟𝑖𝑔𝑖𝑛𝑎𝑙𝑚𝑜𝑛𝑡ℎ  LP_CustomerPrincipalPayments  \\\n",
       "5679                           4                        731.85   \n",
       "3151                           4                      15000.00   \n",
       "25838                          9                       5669.55   \n",
       "10143                          9                       6000.00   \n",
       "23122                          1                       1253.50   \n",
       "...                          ...                           ...   \n",
       "1663                           1                      15000.00   \n",
       "26840                          8                      14500.00   \n",
       "33404                          1                       2999.99   \n",
       "30847                          8                        109.91   \n",
       "26178                         10                       1200.00   \n",
       "\n",
       "       TradesNeverDelinquent (percentage)  AvailableBankcardCredit  \\\n",
       "5679                             0.540000                   0.0000   \n",
       "3151                             1.000000               15991.0000   \n",
       "25838                            0.440000                   0.0000   \n",
       "10143                            0.900000                1638.0000   \n",
       "23122                            0.950000                6767.0000   \n",
       "...                                   ...                      ...   \n",
       "1663                             1.000000               42847.0000   \n",
       "26840                            0.830000                5471.0000   \n",
       "33404                            1.000000               26420.0000   \n",
       "30847                            0.857548               10761.7755   \n",
       "26178                            0.720000                2351.0000   \n",
       "\n",
       "       TotalInquiries  InterestAmount  TotalAmount  StatedMonthlyIncome  \\\n",
       "5679              1.0          1270.8       5270.8          5416.666667   \n",
       "3151              1.0          1785.0      16785.0          4583.333333   \n",
       "25838             9.0          1491.0       8591.0          3958.000000   \n",
       "10143            16.0          1155.6       7155.6          6000.000000   \n",
       "23122            11.0          2737.0      12737.0          3333.333333   \n",
       "...               ...             ...          ...                  ...   \n",
       "1663              2.0           898.5      15898.5          5833.333333   \n",
       "26840             2.0          1856.0      16356.0          7000.000000   \n",
       "33404             6.0           402.0       3402.0          5250.000000   \n",
       "30847            11.0           435.0       1935.0          2800.000000   \n",
       "26178            13.0           192.0       1392.0          3083.333333   \n",
       "\n",
       "       DebtToIncomeRatio  IncomeVerifiable  LoanOriginalAmount  BorrowerRate  \\\n",
       "5679                0.11                 1                4000        0.3177   \n",
       "3151                0.09                 1               15000        0.1190   \n",
       "25838               0.16                 1                7100        0.2100   \n",
       "10143               0.14                 1                6000        0.1926   \n",
       "23122               0.33                 1               10000        0.2737   \n",
       "...                  ...               ...                 ...           ...   \n",
       "1663                0.16                 1               15000        0.0599   \n",
       "26840               0.15                 1               14500        0.1280   \n",
       "33404               0.28                 1                3000        0.1340   \n",
       "30847               0.12                 1                1500        0.2900   \n",
       "26178               0.26                 1                1200        0.1600   \n",
       "\n",
       "       LoanTenure  \n",
       "5679          501  \n",
       "3151          489  \n",
       "25838         436  \n",
       "10143         436  \n",
       "23122         504  \n",
       "...           ...  \n",
       "1663          492  \n",
       "26840         473  \n",
       "33404         456  \n",
       "30847         425  \n",
       "26178         435  \n",
       "\n",
       "[8472 rows x 17 columns]"
      ]
     },
     "execution_count": 25,
     "metadata": {},
     "output_type": "execute_result"
    }
   ],
   "source": [
    "X_test2"
   ]
  },
  {
   "cell_type": "code",
   "execution_count": 26,
   "metadata": {},
   "outputs": [
    {
     "data": {
      "text/plain": [
       "Index(['LP_CustomerPayments', '𝐿𝑜𝑎𝑛𝐷𝑎𝑡𝑒𝑦𝑒𝑎𝑟', 'month',\n",
       "       '𝑀𝑎𝑡𝑢𝑟𝑖𝑡𝑦𝐷𝑎𝑡𝑂𝑟𝑖𝑔𝑖𝑛𝑎𝑙𝑦𝑒𝑎𝑟', '𝑀𝑎𝑡𝑢𝑟𝑖𝑡𝑦𝐷𝑎𝑡𝑒𝑂𝑟𝑖𝑔𝑖𝑛𝑎𝑙𝑚𝑜𝑛𝑡ℎ',\n",
       "       'LP_CustomerPrincipalPayments', 'TradesNeverDelinquent (percentage)',\n",
       "       'AvailableBankcardCredit', 'TotalInquiries', 'InterestAmount',\n",
       "       'TotalAmount', 'StatedMonthlyIncome', 'DebtToIncomeRatio',\n",
       "       'IncomeVerifiable', 'LoanOriginalAmount', 'BorrowerRate', 'LoanTenure'],\n",
       "      dtype='object')"
      ]
     },
     "execution_count": 26,
     "metadata": {},
     "output_type": "execute_result"
    }
   ],
   "source": [
    "X_test2.columns"
   ]
  },
  {
   "cell_type": "code",
   "execution_count": 27,
   "metadata": {
    "id": "IKANKO7Su7al"
   },
   "outputs": [],
   "source": [
    "from sklearn.ensemble import StackingRegressor\n",
    "from sklearn.metrics import r2_score"
   ]
  },
  {
   "cell_type": "code",
   "execution_count": 28,
   "metadata": {
    "id": "nS4VxvWquKMh"
   },
   "outputs": [],
   "source": [
    "#Buid Pipeline\n",
    "estimators = [('Lasso', ls), ('linearRegression', lr)]\n",
    "final_estimator = GradientBoostingRegressor()\n",
    "clf = StackingRegressor(estimators=estimators, final_estimator=final_estimator)\n",
    "\n",
    "model_regressor=Pipeline([\n",
    "('stdscaler', stdscaler),\n",
    "('classifier', clf)\n",
    "])"
   ]
  },
  {
   "cell_type": "markdown",
   "metadata": {
    "id": "egbUZvCgp9u8"
   },
   "source": [
    "EMI"
   ]
  },
  {
   "cell_type": "code",
   "execution_count": 29,
   "metadata": {
    "colab": {
     "base_uri": "https://localhost:8080/"
    },
    "id": "81ghQ3GFqHBI",
    "outputId": "b6fd5d79-640f-49e8-9e0a-064a6138b1a0",
    "scrolled": true
   },
   "outputs": [
    {
     "name": "stdout",
     "output_type": "stream",
     "text": [
      "test accuracy =  96.3 %\n"
     ]
    }
   ],
   "source": [
    "EMI = model_regressor.fit(X_train2, yEMI_train)\n",
    "pred = EMI.predict(X_test2)\n",
    "print('test accuracy = ', round(r2_score(yEMI_test, pred)*100, 2), '%')"
   ]
  },
  {
   "cell_type": "code",
   "execution_count": 30,
   "metadata": {},
   "outputs": [],
   "source": [
    "pickle.dump(EMI, open('model_EMI.pkl', 'wb'))"
   ]
  },
  {
   "cell_type": "markdown",
   "metadata": {
    "id": "x0WJ7mrBp_B7"
   },
   "source": [
    "ROI"
   ]
  },
  {
   "cell_type": "code",
   "execution_count": 31,
   "metadata": {
    "colab": {
     "base_uri": "https://localhost:8080/"
    },
    "id": "jB4nchkxqJmu",
    "outputId": "ef23da94-0ebb-4e69-f4a1-284a299a9cbb"
   },
   "outputs": [
    {
     "name": "stdout",
     "output_type": "stream",
     "text": [
      "test accuracy =  99.95 %\n"
     ]
    }
   ],
   "source": [
    "ROI = model_regressor.fit(X_train2, yROI_train)\n",
    "pred = ROI.predict(X_test2)\n",
    "print('test accuracy = ', round(r2_score(yROI_test, pred)*100, 2), '%')"
   ]
  },
  {
   "cell_type": "code",
   "execution_count": 32,
   "metadata": {},
   "outputs": [],
   "source": [
    "pickle.dump(ROI, open('model_ROI.pkl', 'wb'))"
   ]
  },
  {
   "cell_type": "markdown",
   "metadata": {
    "id": "cGz5n9hup_31"
   },
   "source": [
    "ELA"
   ]
  },
  {
   "cell_type": "code",
   "execution_count": 33,
   "metadata": {
    "colab": {
     "base_uri": "https://localhost:8080/"
    },
    "id": "_Zg4XPR9a9rL",
    "outputId": "4ddb1829-9e04-4195-9588-7aec35029c16"
   },
   "outputs": [
    {
     "name": "stdout",
     "output_type": "stream",
     "text": [
      "test accuracy =  99.32 %\n"
     ]
    }
   ],
   "source": [
    "ELA = model_regressor.fit(X_train2, yEligibleLoanAmount_train)\n",
    "pred = ELA.predict(X_test2)\n",
    "print('test accuracy = ', round(r2_score(yEligibleLoanAmount_test, pred)*100, 2), '%')"
   ]
  },
  {
   "cell_type": "code",
   "execution_count": 34,
   "metadata": {},
   "outputs": [],
   "source": [
    "pickle.dump(ELA, open('model_ELA.pkl', 'wb'))"
   ]
  },
  {
   "cell_type": "markdown",
   "metadata": {
    "id": "ZvGmw6xTa9rN"
   },
   "source": [
    "---"
   ]
  },
  {
   "cell_type": "markdown",
   "metadata": {
    "id": "d7LFFYS3a9rN"
   },
   "source": [
    "## saving model"
   ]
  },
  {
   "cell_type": "markdown",
   "metadata": {
    "id": "r0p3Xrtma9rO"
   },
   "source": [
    "---"
   ]
  },
  {
   "cell_type": "code",
   "execution_count": 38,
   "metadata": {},
   "outputs": [],
   "source": [
    "model_loaded = pickle.load(open('model_classifier.pkl','rb'))"
   ]
  },
  {
   "cell_type": "code",
   "execution_count": 35,
   "metadata": {},
   "outputs": [],
   "source": [
    "# pickle.dump(EMI, open('model_EMI.pkl', 'wb'))\n",
    "# pickle.dump(ROI, open('model_ROI.pkl', 'wb'))\n",
    "# pickle.dump(ELA, open('model_ELA.pkl', 'wb'))"
   ]
  },
  {
   "cell_type": "code",
   "execution_count": 36,
   "metadata": {},
   "outputs": [],
   "source": [
    "model_loaded = pickle.load(open('model_EMI.pkl','rb'))\n",
    "model_loaded = pickle.load(open('model_ROI.pkl','rb'))\n",
    "model_loaded = pickle.load(open('model_ELA.pkl','rb'))"
   ]
  },
  {
   "cell_type": "code",
   "execution_count": null,
   "metadata": {},
   "outputs": [],
   "source": []
  }
 ],
 "metadata": {
  "colab": {
   "provenance": []
  },
  "kernelspec": {
   "display_name": "Python 3 (ipykernel)",
   "language": "python",
   "name": "python3"
  },
  "language_info": {
   "codemirror_mode": {
    "name": "ipython",
    "version": 3
   },
   "file_extension": ".py",
   "mimetype": "text/x-python",
   "name": "python",
   "nbconvert_exporter": "python",
   "pygments_lexer": "ipython3",
   "version": "3.9.12"
  },
  "vscode": {
   "interpreter": {
    "hash": "8304880a3e767ad58ed1695f5214ef77ebbb8fdf4513a7eb4c0fbb1ff3deb86b"
   }
  }
 },
 "nbformat": 4,
 "nbformat_minor": 1
}
